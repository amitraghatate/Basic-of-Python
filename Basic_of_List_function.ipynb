{
  "nbformat": 4,
  "nbformat_minor": 0,
  "metadata": {
    "colab": {
      "name": "Basic of List function.ipynb",
      "provenance": [],
      "collapsed_sections": [],
      "authorship_tag": "ABX9TyOL+VPS+oT3Ec1ONdzkRiT5",
      "include_colab_link": true
    },
    "kernelspec": {
      "name": "python3",
      "display_name": "Python 3"
    },
    "language_info": {
      "name": "python"
    }
  },
  "cells": [
    {
      "cell_type": "markdown",
      "metadata": {
        "id": "view-in-github",
        "colab_type": "text"
      },
      "source": [
        "<a href=\"https://colab.research.google.com/github/amitraghatate/Basic-of-Python/blob/main/Basic_of_List_function.ipynb\" target=\"_parent\"><img src=\"https://colab.research.google.com/assets/colab-badge.svg\" alt=\"Open In Colab\"/></a>"
      ]
    },
    {
      "cell_type": "code",
      "metadata": {
        "colab": {
          "base_uri": "https://localhost:8080/"
        },
        "id": "xB9eld3o4wAa",
        "outputId": "be24307f-6cd1-44df-d5d3-75bdf21f97e4"
      },
      "source": [
        "var_lst = [0,1,2,3,4,5,6]\n",
        "print(var_lst)\n",
        "print(type(var_lst))"
      ],
      "execution_count": null,
      "outputs": [
        {
          "output_type": "stream",
          "name": "stdout",
          "text": [
            "[0, 1, 2, 3, 4, 5, 6]\n",
            "<class 'list'>\n"
          ]
        }
      ]
    },
    {
      "cell_type": "code",
      "metadata": {
        "colab": {
          "base_uri": "https://localhost:8080/"
        },
        "id": "9V8ZOJWc5O00",
        "outputId": "638f422a-57fa-4ecd-eeaf-91d17f6aa801"
      },
      "source": [
        "var_lst = ['a','b','c','d','e']\n",
        "print(var_lst)\n",
        "print(type(var_lst))"
      ],
      "execution_count": null,
      "outputs": [
        {
          "output_type": "stream",
          "name": "stdout",
          "text": [
            "['a', 'b', 'c', 'd', 'e']\n",
            "<class 'list'>\n"
          ]
        }
      ]
    },
    {
      "cell_type": "code",
      "metadata": {
        "colab": {
          "base_uri": "https://localhost:8080/"
        },
        "id": "IsmZFYYQ5dkL",
        "outputId": "b9e74bb1-6aa6-426b-c413-aa5ae817052c"
      },
      "source": [
        "var_lst = [1.22,3.99,6.55,4.85,8.64]\n",
        "print(var_lst)\n",
        "print(type(var_lst))"
      ],
      "execution_count": null,
      "outputs": [
        {
          "output_type": "stream",
          "name": "stdout",
          "text": [
            "[1.22, 3.99, 6.55, 4.85, 8.64]\n",
            "<class 'list'>\n"
          ]
        }
      ]
    },
    {
      "cell_type": "code",
      "metadata": {
        "colab": {
          "base_uri": "https://localhost:8080/"
        },
        "id": "l4CKaIdV5pDj",
        "outputId": "0d1bb42e-1e90-4fe2-f4f9-f12ed06f4b17"
      },
      "source": [
        "var_lst = [True, False, True, True, False]\n",
        "print(var_lst)\n",
        "print(type(var_lst))"
      ],
      "execution_count": null,
      "outputs": [
        {
          "output_type": "stream",
          "name": "stdout",
          "text": [
            "[True, False, True, True, False]\n",
            "<class 'list'>\n"
          ]
        }
      ]
    },
    {
      "cell_type": "code",
      "metadata": {
        "colab": {
          "base_uri": "https://localhost:8080/"
        },
        "id": "cv6tVYk16AZ3",
        "outputId": "aefa903e-c14d-4d6c-d56e-b7283c130280"
      },
      "source": [
        "var_lst = ['Python Programming', 'Data Structure']\n",
        "print(var_lst)\n",
        "print(type(var_lst))"
      ],
      "execution_count": null,
      "outputs": [
        {
          "output_type": "stream",
          "name": "stdout",
          "text": [
            "['Python Programming', 'Data Structure']\n",
            "<class 'list'>\n"
          ]
        }
      ]
    },
    {
      "cell_type": "code",
      "metadata": {
        "colab": {
          "base_uri": "https://localhost:8080/"
        },
        "id": "-8cuzBiE6QrJ",
        "outputId": "ce115eb4-5dd0-45d2-c345-784d4523b886"
      },
      "source": [
        "var_lst = [\n",
        "           [0,1,2,3,4,5,6],\n",
        "           ['a','b','c','d','e'],\n",
        "           [1.22,3.99,6.55,4.85,8.64],\n",
        "           [True, False, True, True, False],\n",
        "           ['Python Programming', 'Data Structure']\n",
        "]\n",
        "print(var_lst)\n",
        "print(type(var_lst))"
      ],
      "execution_count": null,
      "outputs": [
        {
          "output_type": "stream",
          "name": "stdout",
          "text": [
            "[[0, 1, 2, 3, 4, 5, 6], ['a', 'b', 'c', 'd', 'e'], [1.22, 3.99, 6.55, 4.85, 8.64], [True, False, True, True, False], ['Python Programming', 'Data Structure']]\n",
            "<class 'list'>\n"
          ]
        }
      ]
    },
    {
      "cell_type": "code",
      "metadata": {
        "colab": {
          "base_uri": "https://localhost:8080/"
        },
        "id": "ZNZlEMp08F0n",
        "outputId": "d27d48e2-a956-4877-c88d-e024ea5e0599"
      },
      "source": [
        "var_lst = ['Apple', 'Banana', 'Cherry', 'Dates', 'Eggfruit', 'Fig']\n",
        "print(var_lst)\n",
        "print(type(var_lst))"
      ],
      "execution_count": null,
      "outputs": [
        {
          "output_type": "stream",
          "name": "stdout",
          "text": [
            "['Apple', 'Banana', 'Cherry', 'Dates', 'Eggfruit', 'Fig']\n",
            "<class 'list'>\n"
          ]
        }
      ]
    },
    {
      "cell_type": "code",
      "metadata": {
        "colab": {
          "base_uri": "https://localhost:8080/"
        },
        "id": "-KNPfGyM8hXB",
        "outputId": "a97bb229-08c4-4051-8554-621f83fe8efb"
      },
      "source": [
        "print(var_lst[0])\n",
        "print(var_lst[1])\n",
        "print(var_lst[2])\n",
        "print(var_lst[3])\n",
        "print(var_lst[4])\n",
        "print(var_lst[5])"
      ],
      "execution_count": null,
      "outputs": [
        {
          "output_type": "stream",
          "name": "stdout",
          "text": [
            "Apple\n",
            "Banana\n",
            "Cherry\n",
            "Dates\n",
            "Eggfruit\n",
            "Fig\n"
          ]
        }
      ]
    },
    {
      "cell_type": "code",
      "metadata": {
        "colab": {
          "base_uri": "https://localhost:8080/"
        },
        "id": "Srpsd8qo80vg",
        "outputId": "68738c35-2ac1-412c-db63-f253caf4de90"
      },
      "source": [
        "#Positive Indexing and Postive Slicing of List \n",
        "print(var_lst[::])\n",
        "print(var_lst[2:5:1])\n",
        "print(var_lst[2:4:1])\n",
        "print(var_lst[2:3:1])\n",
        "print(var_lst[2:2:1])"
      ],
      "execution_count": null,
      "outputs": [
        {
          "output_type": "stream",
          "name": "stdout",
          "text": [
            "['Apple', 'Banana', 'Cherry', 'Dates', 'Eggfruit', 'Fig']\n",
            "['Cherry', 'Dates', 'Eggfruit']\n",
            "['Cherry', 'Dates']\n",
            "['Cherry']\n",
            "[]\n"
          ]
        }
      ]
    },
    {
      "cell_type": "code",
      "metadata": {
        "colab": {
          "base_uri": "https://localhost:8080/"
        },
        "id": "sc6BeJlP9GDs",
        "outputId": "6d9cbfc4-274f-449a-f421-fce894971a25"
      },
      "source": [
        "print(var_lst[0:5:1])\n",
        "print(var_lst[1:5:1])\n",
        "print(var_lst[2:5:1])\n",
        "print(var_lst[3:5:1])\n",
        "print(var_lst[4:5:1])\n",
        "print(var_lst[5:5:1])"
      ],
      "execution_count": null,
      "outputs": [
        {
          "output_type": "stream",
          "name": "stdout",
          "text": [
            "['Apple', 'Banana', 'Cherry', 'Dates', 'Eggfruit']\n",
            "['Banana', 'Cherry', 'Dates', 'Eggfruit']\n",
            "['Cherry', 'Dates', 'Eggfruit']\n",
            "['Dates', 'Eggfruit']\n",
            "['Eggfruit']\n",
            "[]\n"
          ]
        }
      ]
    },
    {
      "cell_type": "code",
      "metadata": {
        "colab": {
          "base_uri": "https://localhost:8080/"
        },
        "id": "ry8zuV5z9tX9",
        "outputId": "10687e07-68c6-4ccb-c857-bc8c7cccbf0e"
      },
      "source": [
        "#Negative Indexing and Negative Slicing of List\n",
        "print(var_lst[::-1]) \n",
        "print(var_lst[-1::-1])\n",
        "print(var_lst[:-len(var_lst):-1])"
      ],
      "execution_count": null,
      "outputs": [
        {
          "output_type": "stream",
          "name": "stdout",
          "text": [
            "['Fig', 'Eggfruit', 'Dates', 'Cherry', 'Banana', 'Apple']\n",
            "['Fig', 'Eggfruit', 'Dates', 'Cherry', 'Banana', 'Apple']\n",
            "['Fig', 'Eggfruit', 'Dates', 'Cherry', 'Banana']\n"
          ]
        }
      ]
    },
    {
      "cell_type": "code",
      "metadata": {
        "colab": {
          "base_uri": "https://localhost:8080/"
        },
        "id": "SBEdl0Rs-Z_l",
        "outputId": "1f05231d-2aa8-4fc8-8e19-c67f45957248"
      },
      "source": [
        "print(var_lst[-1:-7:-1])\n",
        "print(var_lst[-2:-7:-1])\n",
        "print(var_lst[-3:-7:-1])\n",
        "print(var_lst[-4:-7:-1])\n",
        "print(var_lst[-5:-7:-1])\n",
        "print(var_lst[-6:-7:-1])\n",
        "print(var_lst[-7:-7:-1])"
      ],
      "execution_count": null,
      "outputs": [
        {
          "output_type": "stream",
          "name": "stdout",
          "text": [
            "['Fig', 'Eggfruit', 'Dates', 'Cherry', 'Banana', 'Apple']\n",
            "['Eggfruit', 'Dates', 'Cherry', 'Banana', 'Apple']\n",
            "['Dates', 'Cherry', 'Banana', 'Apple']\n",
            "['Cherry', 'Banana', 'Apple']\n",
            "['Banana', 'Apple']\n",
            "['Apple']\n",
            "[]\n"
          ]
        }
      ]
    },
    {
      "cell_type": "code",
      "metadata": {
        "colab": {
          "base_uri": "https://localhost:8080/"
        },
        "id": "xflGrOLs-359",
        "outputId": "ff88ed2c-2e5f-4b15-a52e-d55e5a421f1b"
      },
      "source": [
        "print(var_lst[-1:-7:-1])\n",
        "print(var_lst[-2:-7:-1])\n",
        "print(var_lst[-3:-7:-1])\n",
        "print(var_lst[-4:-7:-1])\n",
        "print(var_lst[-5:-7:-1])\n",
        "print(var_lst[-6:-7:-1])\n",
        "print(var_lst[-7:-7:-1])"
      ],
      "execution_count": null,
      "outputs": [
        {
          "output_type": "stream",
          "name": "stdout",
          "text": [
            "['Fig', 'Eggfruit', 'Dates', 'Cherry', 'Banana', 'Apple']\n",
            "['Eggfruit', 'Dates', 'Cherry', 'Banana', 'Apple']\n",
            "['Dates', 'Cherry', 'Banana', 'Apple']\n",
            "['Cherry', 'Banana', 'Apple']\n",
            "['Banana', 'Apple']\n",
            "['Apple']\n",
            "[]\n"
          ]
        }
      ]
    },
    {
      "cell_type": "code",
      "metadata": {
        "colab": {
          "base_uri": "https://localhost:8080/"
        },
        "id": "XJkApvwT_TIr",
        "outputId": "5ceb3f63-a550-4929-9d44-49f5d3b9e740"
      },
      "source": [
        "#Positive Indexing and Negative Slicing of List \n",
        "print(var_lst[5::-1])\n",
        "print(var_lst[5:0:-1])\n",
        "print(var_lst[5:1:-1])\n",
        "print(var_lst[5:2:-1])\n",
        "print(var_lst[5:3:-1])\n",
        "print(var_lst[5:4:-1])\n",
        "print(var_lst[5:5:-1])"
      ],
      "execution_count": null,
      "outputs": [
        {
          "output_type": "stream",
          "name": "stdout",
          "text": [
            "['Fig', 'Eggfruit', 'Dates', 'Cherry', 'Banana', 'Apple']\n",
            "['Fig', 'Eggfruit', 'Dates', 'Cherry', 'Banana']\n",
            "['Fig', 'Eggfruit', 'Dates', 'Cherry']\n",
            "['Fig', 'Eggfruit', 'Dates']\n",
            "['Fig', 'Eggfruit']\n",
            "['Fig']\n",
            "[]\n"
          ]
        }
      ]
    },
    {
      "cell_type": "code",
      "metadata": {
        "colab": {
          "base_uri": "https://localhost:8080/"
        },
        "id": "BRzBL2oVACWz",
        "outputId": "9be040db-eaca-4245-dda0-68ec83f25d08"
      },
      "source": [
        "print(var_lst[5::-1])\n",
        "print(var_lst[4::-1])\n",
        "print(var_lst[3::-1])\n",
        "print(var_lst[2::-1])\n",
        "print(var_lst[1::-1])\n",
        "print(var_lst[0::-1])\n",
        "print(var_lst[-1:-1:-1])"
      ],
      "execution_count": null,
      "outputs": [
        {
          "output_type": "stream",
          "name": "stdout",
          "text": [
            "['Fig', 'Eggfruit', 'Dates', 'Cherry', 'Banana', 'Apple']\n",
            "['Eggfruit', 'Dates', 'Cherry', 'Banana', 'Apple']\n",
            "['Dates', 'Cherry', 'Banana', 'Apple']\n",
            "['Cherry', 'Banana', 'Apple']\n",
            "['Banana', 'Apple']\n",
            "['Apple']\n",
            "[]\n"
          ]
        }
      ]
    },
    {
      "cell_type": "code",
      "metadata": {
        "colab": {
          "base_uri": "https://localhost:8080/"
        },
        "id": "vBlf8N-EAoxS",
        "outputId": "4878c884-0dcb-4915-ba58-8d52017fbd0c"
      },
      "source": [
        "#Negative Indexing and Postive Slicing of List \n",
        "print(var_lst[::1])\n",
        "print(var_lst[-6::1])\n",
        "print(var_lst[-5::1])\n",
        "print(var_lst[-4::1])\n",
        "print(var_lst[-3::1])\n",
        "print(var_lst[-2::1])\n",
        "print(var_lst[-1::1])\n",
        "print(var_lst[-1:-1:1])"
      ],
      "execution_count": null,
      "outputs": [
        {
          "output_type": "stream",
          "name": "stdout",
          "text": [
            "['Apple', 'Banana', 'Cherry', 'Dates', 'Eggfruit', 'Fig']\n",
            "['Apple', 'Banana', 'Cherry', 'Dates', 'Eggfruit', 'Fig']\n",
            "['Banana', 'Cherry', 'Dates', 'Eggfruit', 'Fig']\n",
            "['Cherry', 'Dates', 'Eggfruit', 'Fig']\n",
            "['Dates', 'Eggfruit', 'Fig']\n",
            "['Eggfruit', 'Fig']\n",
            "['Fig']\n",
            "[]\n"
          ]
        }
      ]
    },
    {
      "cell_type": "code",
      "metadata": {
        "colab": {
          "base_uri": "https://localhost:8080/"
        },
        "id": "nN1kQSo_BUxC",
        "outputId": "e6d56147-b664-48c3-f67d-35271fcc3560"
      },
      "source": [
        "print(var_lst[-6::1])\n",
        "print(var_lst[-6:-1:1])\n",
        "print(var_lst[-6:-2:1])\n",
        "print(var_lst[-6:-3:1])\n",
        "print(var_lst[-6:-4:1])\n",
        "print(var_lst[-6:-5:1])\n",
        "print(var_lst[-6:-6:1])"
      ],
      "execution_count": null,
      "outputs": [
        {
          "output_type": "stream",
          "name": "stdout",
          "text": [
            "['Apple', 'Banana', 'Cherry', 'Dates', 'Eggfruit', 'Fig']\n",
            "['Apple', 'Banana', 'Cherry', 'Dates', 'Eggfruit']\n",
            "['Apple', 'Banana', 'Cherry', 'Dates']\n",
            "['Apple', 'Banana', 'Cherry']\n",
            "['Apple', 'Banana']\n",
            "['Apple']\n",
            "[]\n"
          ]
        }
      ]
    },
    {
      "cell_type": "code",
      "metadata": {
        "id": "6urIya6YCIpm",
        "colab": {
          "base_uri": "https://localhost:8080/"
        },
        "outputId": "01413998-1483-45e6-fa20-05bc9ec1206e"
      },
      "source": [
        "#Functions of List\n",
        "var_lst = ['Apple', 'Banana', 'Cherry', 'Dates', 'Eggfruit', 'Fig']\n",
        "print(var_lst)"
      ],
      "execution_count": 70,
      "outputs": [
        {
          "output_type": "stream",
          "name": "stdout",
          "text": [
            "['Apple', 'Banana', 'Cherry', 'Dates', 'Eggfruit', 'Fig']\n"
          ]
        }
      ]
    },
    {
      "cell_type": "code",
      "metadata": {
        "id": "DQGTit3vCXzd",
        "colab": {
          "base_uri": "https://localhost:8080/"
        },
        "outputId": "be953ecc-b8be-4682-eb83-4d2c35a6aa8c"
      },
      "source": [
        "var_lst.append('Honey Fruits')\n",
        "var_lst"
      ],
      "execution_count": 73,
      "outputs": [
        {
          "output_type": "execute_result",
          "data": {
            "text/plain": [
              "['Apple',\n",
              " 'Banana',\n",
              " 'Cherry',\n",
              " 'Dates',\n",
              " 'Eggfruit',\n",
              " 'Fig',\n",
              " 'Honey Fruits',\n",
              " 'Honey Fruits',\n",
              " 'Honey Fruits']"
            ]
          },
          "metadata": {},
          "execution_count": 73
        }
      ]
    },
    {
      "cell_type": "code",
      "metadata": {
        "id": "uaRPwJPlDGu0",
        "colab": {
          "base_uri": "https://localhost:8080/"
        },
        "outputId": "819727b9-6a7d-4e63-a892-8b46f25f2b08"
      },
      "source": [
        "var_lst.clear()\n",
        "var_lst"
      ],
      "execution_count": 75,
      "outputs": [
        {
          "output_type": "execute_result",
          "data": {
            "text/plain": [
              "[]"
            ]
          },
          "metadata": {},
          "execution_count": 75
        }
      ]
    },
    {
      "cell_type": "code",
      "metadata": {
        "id": "rl5cRXAFDMdL",
        "colab": {
          "base_uri": "https://localhost:8080/"
        },
        "outputId": "f2ec9aae-7e68-4908-a19a-a9e769c60869"
      },
      "source": [
        "var_lst = ['Apple', 'Banana', 'Cherry', 'Dates', 'Eggfruit', 'Fig']\n",
        "var_lst_cp = var_lst.copy()\n",
        "print(var_lst)\n",
        "print(var_lst_cp)"
      ],
      "execution_count": 80,
      "outputs": [
        {
          "output_type": "stream",
          "name": "stdout",
          "text": [
            "['Apple', 'Banana', 'Cherry', 'Dates', 'Eggfruit', 'Fig']\n",
            "['Apple', 'Banana', 'Cherry', 'Dates', 'Eggfruit', 'Fig']\n"
          ]
        }
      ]
    },
    {
      "cell_type": "code",
      "metadata": {
        "colab": {
          "base_uri": "https://localhost:8080/"
        },
        "id": "-cintgYcEH9U",
        "outputId": "9e205c75-5b52-4af9-a579-13276089f880"
      },
      "source": [
        "var_lst.count('Cherry')"
      ],
      "execution_count": 82,
      "outputs": [
        {
          "output_type": "execute_result",
          "data": {
            "text/plain": [
              "1"
            ]
          },
          "metadata": {},
          "execution_count": 82
        }
      ]
    },
    {
      "cell_type": "code",
      "metadata": {
        "colab": {
          "base_uri": "https://localhost:8080/"
        },
        "id": "TLArCEQOES41",
        "outputId": "2e3d3d6f-b7c0-401c-f0ba-89fd0579b188"
      },
      "source": [
        "var_lst.extend(['Grapes','Guava','Pineapple'])\n",
        "var_lst"
      ],
      "execution_count": 84,
      "outputs": [
        {
          "output_type": "execute_result",
          "data": {
            "text/plain": [
              "['Apple',\n",
              " 'Banana',\n",
              " 'Cherry',\n",
              " 'Dates',\n",
              " 'Eggfruit',\n",
              " 'Fig',\n",
              " 'Grapes',\n",
              " 'Guava',\n",
              " 'Pineapple']"
            ]
          },
          "metadata": {},
          "execution_count": 84
        }
      ]
    },
    {
      "cell_type": "code",
      "metadata": {
        "colab": {
          "base_uri": "https://localhost:8080/"
        },
        "id": "Wr52TU-bEuYB",
        "outputId": "9d9440d6-e249-4185-94f7-d1f71e7496e0"
      },
      "source": [
        "var_lst.index('Apple')"
      ],
      "execution_count": 90,
      "outputs": [
        {
          "output_type": "execute_result",
          "data": {
            "text/plain": [
              "0"
            ]
          },
          "metadata": {},
          "execution_count": 90
        }
      ]
    },
    {
      "cell_type": "code",
      "metadata": {
        "colab": {
          "base_uri": "https://localhost:8080/"
        },
        "id": "KivQJGmcFDfn",
        "outputId": "b6274dbd-9b5d-4dfa-8134-2c84bf4aa75c"
      },
      "source": [
        "var_lst.index('Eggfruit')"
      ],
      "execution_count": 89,
      "outputs": [
        {
          "output_type": "execute_result",
          "data": {
            "text/plain": [
              "4"
            ]
          },
          "metadata": {},
          "execution_count": 89
        }
      ]
    },
    {
      "cell_type": "code",
      "metadata": {
        "colab": {
          "base_uri": "https://localhost:8080/"
        },
        "id": "9Mrk8GiiFF51",
        "outputId": "730958d5-e36f-4b11-8977-11acd8e2e2b0"
      },
      "source": [
        "var_lst.insert(4,'Watermelon')\n",
        "var_lst"
      ],
      "execution_count": 99,
      "outputs": [
        {
          "output_type": "execute_result",
          "data": {
            "text/plain": [
              "['Apple',\n",
              " 'Banana',\n",
              " 'Cherry',\n",
              " 'Dates',\n",
              " 'Watermelon',\n",
              " 'Watermelon',\n",
              " 'Eggfruit',\n",
              " 'Fig',\n",
              " 'Grapes',\n",
              " 'Guava',\n",
              " 'Pineapple']"
            ]
          },
          "metadata": {},
          "execution_count": 99
        }
      ]
    },
    {
      "cell_type": "code",
      "metadata": {
        "colab": {
          "base_uri": "https://localhost:8080/",
          "height": 35
        },
        "id": "Bir7qMS3FfhM",
        "outputId": "431bd4d9-0b4f-43ac-f7c9-71b6a9532e35"
      },
      "source": [
        "var_lst.pop(4)"
      ],
      "execution_count": 100,
      "outputs": [
        {
          "output_type": "execute_result",
          "data": {
            "application/vnd.google.colaboratory.intrinsic+json": {
              "type": "string"
            },
            "text/plain": [
              "'Watermelon'"
            ]
          },
          "metadata": {},
          "execution_count": 100
        }
      ]
    },
    {
      "cell_type": "code",
      "metadata": {
        "colab": {
          "base_uri": "https://localhost:8080/"
        },
        "id": "L-1TIxhhG5la",
        "outputId": "f953002e-ea37-491b-c464-7db659c91c5a"
      },
      "source": [
        "var_lst"
      ],
      "execution_count": 101,
      "outputs": [
        {
          "output_type": "execute_result",
          "data": {
            "text/plain": [
              "['Apple',\n",
              " 'Banana',\n",
              " 'Cherry',\n",
              " 'Dates',\n",
              " 'Watermelon',\n",
              " 'Eggfruit',\n",
              " 'Fig',\n",
              " 'Grapes',\n",
              " 'Guava',\n",
              " 'Pineapple']"
            ]
          },
          "metadata": {},
          "execution_count": 101
        }
      ]
    },
    {
      "cell_type": "code",
      "metadata": {
        "id": "JEF5YyFlG8nt"
      },
      "source": [
        "var_lst.remove('Guava')"
      ],
      "execution_count": 106,
      "outputs": []
    },
    {
      "cell_type": "code",
      "metadata": {
        "colab": {
          "base_uri": "https://localhost:8080/"
        },
        "id": "XYE25mAiHTro",
        "outputId": "da45759f-f3f6-49dd-a1cb-d72d16cea086"
      },
      "source": [
        "var_lst"
      ],
      "execution_count": 107,
      "outputs": [
        {
          "output_type": "execute_result",
          "data": {
            "text/plain": [
              "['Apple',\n",
              " 'Banana',\n",
              " 'Cherry',\n",
              " 'Dates',\n",
              " 'Watermelon',\n",
              " 'Eggfruit',\n",
              " 'Grapes',\n",
              " 'Pineapple']"
            ]
          },
          "metadata": {},
          "execution_count": 107
        }
      ]
    },
    {
      "cell_type": "code",
      "metadata": {
        "id": "jg8SRbqeHXcw"
      },
      "source": [
        "var_lst.reverse()"
      ],
      "execution_count": 108,
      "outputs": []
    },
    {
      "cell_type": "code",
      "metadata": {
        "colab": {
          "base_uri": "https://localhost:8080/"
        },
        "id": "CmaqYxCsHe3f",
        "outputId": "9cb9dc78-b388-4e04-9b3d-6314607bf6c0"
      },
      "source": [
        "var_lst"
      ],
      "execution_count": 109,
      "outputs": [
        {
          "output_type": "execute_result",
          "data": {
            "text/plain": [
              "['Pineapple',\n",
              " 'Grapes',\n",
              " 'Eggfruit',\n",
              " 'Watermelon',\n",
              " 'Dates',\n",
              " 'Cherry',\n",
              " 'Banana',\n",
              " 'Apple']"
            ]
          },
          "metadata": {},
          "execution_count": 109
        }
      ]
    },
    {
      "cell_type": "code",
      "metadata": {
        "colab": {
          "base_uri": "https://localhost:8080/"
        },
        "id": "ROyw7M9nHhsn",
        "outputId": "31a60367-9096-4b54-944d-b873f2223192"
      },
      "source": [
        "var_lst.sort()\n",
        "print(var_lst)"
      ],
      "execution_count": 112,
      "outputs": [
        {
          "output_type": "stream",
          "name": "stdout",
          "text": [
            "['Apple', 'Banana', 'Cherry', 'Dates', 'Eggfruit', 'Grapes', 'Pineapple', 'Watermelon']\n"
          ]
        }
      ]
    }
  ]
}