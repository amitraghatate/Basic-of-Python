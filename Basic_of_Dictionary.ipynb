{
  "nbformat": 4,
  "nbformat_minor": 0,
  "metadata": {
    "colab": {
      "name": "Basic of Dictionary.ipynb",
      "provenance": [],
      "collapsed_sections": [],
      "authorship_tag": "ABX9TyPOgwwqeq6Wn3cDfL0DnQxi",
      "include_colab_link": true
    },
    "kernelspec": {
      "name": "python3",
      "display_name": "Python 3"
    },
    "language_info": {
      "name": "python"
    }
  },
  "cells": [
    {
      "cell_type": "markdown",
      "metadata": {
        "id": "view-in-github",
        "colab_type": "text"
      },
      "source": [
        "<a href=\"https://colab.research.google.com/github/amitraghatate/Basic-of-Python/blob/Data-Types/Basic_of_Dictionary.ipynb\" target=\"_parent\"><img src=\"https://colab.research.google.com/assets/colab-badge.svg\" alt=\"Open In Colab\"/></a>"
      ]
    },
    {
      "cell_type": "code",
      "metadata": {
        "colab": {
          "base_uri": "https://localhost:8080/"
        },
        "id": "VcvxDaA2EDmq",
        "outputId": "31378c5f-287f-424a-f477-fddf56a99265"
      },
      "source": [
        "#Dictionary is mutable\n",
        "var_dist = {}\n",
        "print(var_dist)\n",
        "print(type(var_dist))"
      ],
      "execution_count": 1,
      "outputs": [
        {
          "output_type": "stream",
          "name": "stdout",
          "text": [
            "{}\n",
            "<class 'dict'>\n"
          ]
        }
      ]
    },
    {
      "cell_type": "code",
      "metadata": {
        "colab": {
          "base_uri": "https://localhost:8080/"
        },
        "id": "DUX9fFnUE9Ua",
        "outputId": "c86d9308-a947-4e59-a4cc-fefa98d8062a"
      },
      "source": [
        "#Dictionary is collection of key : value\n",
        "var_dict = {'a' : 'Apple', 'b' : 'Bat', 'c' : 'Cat', 'd' : 'Dog'}\n",
        "print(var_dict)\n",
        "print(type(var_dict))\n",
        "print(var_dict['a'])\n",
        "print(var_dict['b'])\n",
        "print(var_dict['c'])\n",
        "print(var_dict['d'])"
      ],
      "execution_count": 4,
      "outputs": [
        {
          "output_type": "stream",
          "name": "stdout",
          "text": [
            "{'a': 'Apple', 'b': 'Bat', 'c': 'Cat', 'd': 'Dog'}\n",
            "<class 'dict'>\n",
            "Apple\n",
            "Bat\n",
            "Cat\n",
            "Dog\n"
          ]
        }
      ]
    },
    {
      "cell_type": "code",
      "metadata": {
        "colab": {
          "base_uri": "https://localhost:8080/"
        },
        "id": "Jh3OceqMGq-X",
        "outputId": "80013e7a-8f1b-4ee8-f140-79932be34595"
      },
      "source": [
        "var_dict = {1 : 'Apple', 2 : 'Bat', 3 : 'Cat', 4 : 'Dog'}\n",
        "print(var_dict)\n",
        "print(type(var_dict))\n",
        "print(var_dict[1])\n",
        "print(var_dict[2])\n",
        "print(var_dict[3])\n",
        "print(var_dict[4])"
      ],
      "execution_count": 5,
      "outputs": [
        {
          "output_type": "stream",
          "name": "stdout",
          "text": [
            "{1: 'Apple', 2: 'Bat', 3: 'Cat', 4: 'Dog'}\n",
            "<class 'dict'>\n",
            "Apple\n",
            "Bat\n",
            "Cat\n",
            "Dog\n"
          ]
        }
      ]
    },
    {
      "cell_type": "code",
      "metadata": {
        "colab": {
          "base_uri": "https://localhost:8080/"
        },
        "id": "xhXYzWW3G5ZY",
        "outputId": "5f7194e2-4c3c-4217-b911-ee82f20a14e2"
      },
      "source": [
        "var_dict = {1 : 'Apple', 2 : 'Banana', 3 : 'Cherries', 4 : 'Dates'}\n",
        "print(var_dict)"
      ],
      "execution_count": 6,
      "outputs": [
        {
          "output_type": "stream",
          "name": "stdout",
          "text": [
            "{1: 'Apple', 2: 'Banana', 3: 'Cherries', 4: 'Dates'}\n"
          ]
        }
      ]
    },
    {
      "cell_type": "code",
      "metadata": {
        "colab": {
          "base_uri": "https://localhost:8080/"
        },
        "id": "Ipm04ub4Hcm_",
        "outputId": "999e2692-f5e6-4820-b5e0-10e5effec4f3"
      },
      "source": [
        "var_dict.clear()\n",
        "print(var_dict)"
      ],
      "execution_count": 8,
      "outputs": [
        {
          "output_type": "stream",
          "name": "stdout",
          "text": [
            "{}\n"
          ]
        }
      ]
    },
    {
      "cell_type": "code",
      "metadata": {
        "colab": {
          "base_uri": "https://localhost:8080/"
        },
        "id": "EbrlJtNyHnM-",
        "outputId": "41f1a7d6-6e54-45a7-a4b7-2cf324a5974b"
      },
      "source": [
        "var_dict = {1 : 'Apple', 2 : 'Banana', 3 : 'Cherries', 4 : 'Dates'}\n",
        "var_dict_cp = var_dict.copy()\n",
        "print(var_dict)"
      ],
      "execution_count": 12,
      "outputs": [
        {
          "output_type": "stream",
          "name": "stdout",
          "text": [
            "{1: 'Apple', 2: 'Banana', 3: 'Cherries', 4: 'Dates'}\n"
          ]
        }
      ]
    },
    {
      "cell_type": "code",
      "metadata": {
        "colab": {
          "base_uri": "https://localhost:8080/"
        },
        "id": "hmgXNSxwH2hb",
        "outputId": "85012a26-f777-494d-f9d4-4707dcd3e07d"
      },
      "source": [
        "print(var_dict_cp)"
      ],
      "execution_count": 13,
      "outputs": [
        {
          "output_type": "stream",
          "name": "stdout",
          "text": [
            "{1: 'Apple', 2: 'Banana', 3: 'Cherries', 4: 'Dates'}\n"
          ]
        }
      ]
    },
    {
      "cell_type": "code",
      "metadata": {
        "colab": {
          "base_uri": "https://localhost:8080/"
        },
        "id": "Xoq0sJ_EIXUF",
        "outputId": "653af6c1-8ef7-4bf2-c5cc-743c589ec223"
      },
      "source": [
        "key = {1 ,2 ,3 ,4}\n",
        "value = {'Apple', 'Mango', 'Orange', 'Grapes'}\n",
        "var_dict = dict.fromkeys(key, value)\n",
        "print(var_dict)"
      ],
      "execution_count": 20,
      "outputs": [
        {
          "output_type": "stream",
          "name": "stdout",
          "text": [
            "{1: {'Orange', 'Apple', 'Mango', 'Grapes'}, 2: {'Orange', 'Apple', 'Mango', 'Grapes'}, 3: {'Orange', 'Apple', 'Mango', 'Grapes'}, 4: {'Orange', 'Apple', 'Mango', 'Grapes'}}\n"
          ]
        }
      ]
    },
    {
      "cell_type": "code",
      "metadata": {
        "colab": {
          "base_uri": "https://localhost:8080/"
        },
        "id": "R64GtaqyKMqV",
        "outputId": "6d18a397-7050-460a-c5ff-2a566a365623"
      },
      "source": [
        "key = {'a', 'b', 'c'}\n",
        "\n",
        "var_dict = dict.fromkeys(key)\n",
        "print(var_dict)"
      ],
      "execution_count": 21,
      "outputs": [
        {
          "output_type": "stream",
          "name": "stdout",
          "text": [
            "{'b': None, 'a': None, 'c': None}\n"
          ]
        }
      ]
    },
    {
      "cell_type": "code",
      "metadata": {
        "colab": {
          "base_uri": "https://localhost:8080/"
        },
        "id": "PhNeXCLLKgcd",
        "outputId": "12426974-988f-4b2a-ef37-2007c11748c6"
      },
      "source": [
        "var_dict = {1 : 'Apple', 2 : 'Banana', 3 : 'Cherries', 4 : 'Dates'}\n",
        "print(var_dict.get(1))\n",
        "print(var_dict.get(2))\n",
        "print(var_dict.get(3))\n",
        "print(var_dict.get(4))\n",
        "print(var_dict.get('Apple'))"
      ],
      "execution_count": 26,
      "outputs": [
        {
          "output_type": "stream",
          "name": "stdout",
          "text": [
            "Apple\n",
            "Banana\n",
            "Cherries\n",
            "Dates\n",
            "None\n"
          ]
        }
      ]
    },
    {
      "cell_type": "code",
      "metadata": {
        "colab": {
          "base_uri": "https://localhost:8080/"
        },
        "id": "8lAaHZAdLBj9",
        "outputId": "da45f2cf-9273-4af1-c4da-6e13f1cde783"
      },
      "source": [
        "var_dict.items()"
      ],
      "execution_count": 29,
      "outputs": [
        {
          "output_type": "execute_result",
          "data": {
            "text/plain": [
              "dict_items([(1, 'Apple'), (2, 'Banana'), (3, 'Cherries'), (4, 'Dates')])"
            ]
          },
          "metadata": {},
          "execution_count": 29
        }
      ]
    },
    {
      "cell_type": "code",
      "metadata": {
        "colab": {
          "base_uri": "https://localhost:8080/"
        },
        "id": "d33wHKxjLLik",
        "outputId": "39d3f0cf-159e-4ffe-9b30-d484b3fd7040"
      },
      "source": [
        "var_dict.keys()"
      ],
      "execution_count": 32,
      "outputs": [
        {
          "output_type": "execute_result",
          "data": {
            "text/plain": [
              "dict_keys([1, 2, 3, 4])"
            ]
          },
          "metadata": {},
          "execution_count": 32
        }
      ]
    },
    {
      "cell_type": "code",
      "metadata": {
        "colab": {
          "base_uri": "https://localhost:8080/"
        },
        "id": "TY5A3HHgLSME",
        "outputId": "1b5156ec-99d2-47d1-b603-7c2973c817b6"
      },
      "source": [
        "var_dict = {1 : 'Apple', 2 : 'Banana', 3 : 'Cherries', 4 : 'Dates'}\n",
        "var_dict.pop(1)\n",
        "print(var_dict)"
      ],
      "execution_count": 37,
      "outputs": [
        {
          "output_type": "stream",
          "name": "stdout",
          "text": [
            "{2: 'Banana', 3: 'Cherries', 4: 'Dates'}\n"
          ]
        }
      ]
    },
    {
      "cell_type": "code",
      "metadata": {
        "colab": {
          "base_uri": "https://localhost:8080/"
        },
        "id": "tdepH3KvLfkf",
        "outputId": "539f5348-5e7f-4d16-bf5b-cdd7d2a49ac0"
      },
      "source": [
        "var_dict = {1 : 'Apple', 2 : 'Banana', 3 : 'Cherries', 4 : 'Dates'}\n",
        "var_dict.popitem()\n",
        "print(var_dict)"
      ],
      "execution_count": 39,
      "outputs": [
        {
          "output_type": "stream",
          "name": "stdout",
          "text": [
            "{1: 'Apple', 2: 'Banana', 3: 'Cherries'}\n"
          ]
        }
      ]
    },
    {
      "cell_type": "code",
      "metadata": {
        "colab": {
          "base_uri": "https://localhost:8080/"
        },
        "id": "jVVj1oKkLy-a",
        "outputId": "5602e78e-dc69-4d1b-9e1f-245057edc672"
      },
      "source": [
        "var_dict = {1 : 'Apple', 2 : 'Banana', 3 : 'Cherries', 4 : 'Dates'}\n",
        "var_dict.setdefault(5, 'Mangoes')\n",
        "print(var_dict)"
      ],
      "execution_count": 42,
      "outputs": [
        {
          "output_type": "stream",
          "name": "stdout",
          "text": [
            "{1: 'Apple', 2: 'Banana', 3: 'Cherries', 4: 'Dates', 5: 'Mangoes'}\n"
          ]
        }
      ]
    },
    {
      "cell_type": "code",
      "metadata": {
        "colab": {
          "base_uri": "https://localhost:8080/"
        },
        "id": "FlIBJP1eMuFB",
        "outputId": "e7ea7574-96ef-4eba-f085-33c418481d53"
      },
      "source": [
        "var_dict.update({6 : 'Blue Berry'})\n",
        "print(var_dict)"
      ],
      "execution_count": 45,
      "outputs": [
        {
          "output_type": "stream",
          "name": "stdout",
          "text": [
            "{1: 'Apple', 2: 'Banana', 3: 'Cherries', 4: 'Dates', 5: 'Mangoes', 6: 'Blue Berry'}\n"
          ]
        }
      ]
    },
    {
      "cell_type": "code",
      "metadata": {
        "colab": {
          "base_uri": "https://localhost:8080/"
        },
        "id": "4llshjd4Nd7Z",
        "outputId": "ff4d3aba-aee7-475c-ee5c-604c8e9b5ce9"
      },
      "source": [
        "var_dict.values()"
      ],
      "execution_count": 48,
      "outputs": [
        {
          "output_type": "execute_result",
          "data": {
            "text/plain": [
              "dict_values(['Apple', 'Banana', 'Cherries', 'Dates', 'Mangoes', 'Blue Berry'])"
            ]
          },
          "metadata": {},
          "execution_count": 48
        }
      ]
    },
    {
      "cell_type": "code",
      "metadata": {
        "colab": {
          "base_uri": "https://localhost:8080/"
        },
        "id": "Yn3kGbk5Nsbq",
        "outputId": "bd1b67c2-fce1-4b4c-9517-9c23364fd2dc"
      },
      "source": [
        "var_dict = {'a' : 'April',\n",
        "            'd' : 'Dec',\n",
        "            'f' : 'Feb',\n",
        "            'j' : ('Jan', 'Jun', 'July')}\n",
        "print(var_dict)"
      ],
      "execution_count": 53,
      "outputs": [
        {
          "output_type": "stream",
          "name": "stdout",
          "text": [
            "{'a': 'April', 'd': 'Dec', 'f': 'Feb', 'j': ('Jan', 'Jun', 'July')}\n"
          ]
        }
      ]
    }
  ]
}