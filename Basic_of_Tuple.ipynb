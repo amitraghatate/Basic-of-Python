{
  "nbformat": 4,
  "nbformat_minor": 0,
  "metadata": {
    "colab": {
      "name": "Basic of Tuple.ipynb",
      "provenance": [],
      "collapsed_sections": [],
      "authorship_tag": "ABX9TyOn9CwE+q7adch08FJkYp8X",
      "include_colab_link": true
    },
    "kernelspec": {
      "name": "python3",
      "display_name": "Python 3"
    },
    "language_info": {
      "name": "python"
    }
  },
  "cells": [
    {
      "cell_type": "markdown",
      "metadata": {
        "id": "view-in-github",
        "colab_type": "text"
      },
      "source": [
        "<a href=\"https://colab.research.google.com/github/amitraghatate/Basic-of-Python/blob/Data-Types/Basic_of_Tuple.ipynb\" target=\"_parent\"><img src=\"https://colab.research.google.com/assets/colab-badge.svg\" alt=\"Open In Colab\"/></a>"
      ]
    },
    {
      "cell_type": "markdown",
      "metadata": {
        "id": "YxVxIFx2c8g3"
      },
      "source": [
        "#Tuple = ( ) , It is Immutable means can not change"
      ]
    },
    {
      "cell_type": "code",
      "metadata": {
        "colab": {
          "base_uri": "https://localhost:8080/"
        },
        "id": "vmmcg9HacqZu",
        "outputId": "f25386d6-8bab-47f4-bc7e-d2ff115b1e68"
      },
      "source": [
        "var_tuple = ('Apple', 'Banana', 'Cherries', 'Dates', 'Eggfruit', 'Fig', 'Honey Fruit')\n",
        "print(var_tuple)\n",
        "print(type(var_tuple))"
      ],
      "execution_count": 1,
      "outputs": [
        {
          "output_type": "stream",
          "name": "stdout",
          "text": [
            "('Apple', 'Banana', 'Cherries', 'Dates', 'Eggfruit', 'Fig', 'Honey Fruit')\n",
            "<class 'tuple'>\n"
          ]
        }
      ]
    },
    {
      "cell_type": "code",
      "metadata": {
        "colab": {
          "base_uri": "https://localhost:8080/"
        },
        "id": "72gvjZzod_Ym",
        "outputId": "215f3c5e-b9d4-4bc0-92f9-913c76d5d70f"
      },
      "source": [
        "print(var_tuple[0])\n",
        "print(var_tuple[1])\n",
        "print(var_tuple[2])\n",
        "print(var_tuple[3])\n",
        "print(var_tuple[4])\n",
        "print(var_tuple[5])\n",
        "print(var_tuple[6])"
      ],
      "execution_count": 4,
      "outputs": [
        {
          "output_type": "stream",
          "name": "stdout",
          "text": [
            "Apple\n",
            "Banana\n",
            "Cherries\n",
            "Dates\n",
            "Eggfruit\n",
            "Fig\n",
            "Honey Fruit\n"
          ]
        }
      ]
    },
    {
      "cell_type": "code",
      "metadata": {
        "colab": {
          "base_uri": "https://localhost:8080/"
        },
        "id": "rBEYjfXKeTGe",
        "outputId": "77e04b97-77ee-4a2b-b2ce-f33ff4c8c01c"
      },
      "source": [
        "#Postitve Indexing and Postive Slicing\n",
        "print(var_tuple[0:len(var_tuple):1])\n",
        "print(var_tuple[0:7:])\n",
        "print(var_tuple[0:6:])\n",
        "print(var_tuple[:5:])\n",
        "print(var_tuple[:4:])\n",
        "print(var_tuple[:3:])\n",
        "print(var_tuple[:2:])\n",
        "print(var_tuple[:1:])"
      ],
      "execution_count": 13,
      "outputs": [
        {
          "output_type": "stream",
          "name": "stdout",
          "text": [
            "('Apple', 'Banana', 'Cherries', 'Dates', 'Eggfruit', 'Fig', 'Honey Fruit')\n",
            "('Apple', 'Banana', 'Cherries', 'Dates', 'Eggfruit', 'Fig', 'Honey Fruit')\n",
            "('Apple', 'Banana', 'Cherries', 'Dates', 'Eggfruit', 'Fig')\n",
            "('Apple', 'Banana', 'Cherries', 'Dates', 'Eggfruit')\n",
            "('Apple', 'Banana', 'Cherries', 'Dates')\n",
            "('Apple', 'Banana', 'Cherries')\n",
            "('Apple', 'Banana')\n",
            "('Apple',)\n"
          ]
        }
      ]
    },
    {
      "cell_type": "code",
      "metadata": {
        "colab": {
          "base_uri": "https://localhost:8080/"
        },
        "id": "gfDAKF83gGzp",
        "outputId": "22b7a1a8-8edb-428b-d29f-ec567120e721"
      },
      "source": [
        "print(var_tuple[0:7:])\n",
        "print(var_tuple[1:7:])\n",
        "print(var_tuple[2:7:])\n",
        "print(var_tuple[3:7:])\n",
        "print(var_tuple[4:7:])\n",
        "print(var_tuple[5:7:])\n",
        "print(var_tuple[6:7:])"
      ],
      "execution_count": 16,
      "outputs": [
        {
          "output_type": "stream",
          "name": "stdout",
          "text": [
            "('Apple', 'Banana', 'Cherries', 'Dates', 'Eggfruit', 'Fig', 'Honey Fruit')\n",
            "('Banana', 'Cherries', 'Dates', 'Eggfruit', 'Fig', 'Honey Fruit')\n",
            "('Cherries', 'Dates', 'Eggfruit', 'Fig', 'Honey Fruit')\n",
            "('Dates', 'Eggfruit', 'Fig', 'Honey Fruit')\n",
            "('Eggfruit', 'Fig', 'Honey Fruit')\n",
            "('Fig', 'Honey Fruit')\n",
            "('Honey Fruit',)\n"
          ]
        }
      ]
    },
    {
      "cell_type": "code",
      "metadata": {
        "colab": {
          "base_uri": "https://localhost:8080/"
        },
        "id": "BpIMZxr_hJuX",
        "outputId": "f660fd60-b60f-4a77-9ba2-e04b9751f13d"
      },
      "source": [
        "#Negatitve Indexing and Negative Slicing\n",
        "print(var_tuple[::-1])\n",
        "print(var_tuple[:-7:-1])\n",
        "print(var_tuple[:-6:-1])\n",
        "print(var_tuple[:-5:-1])\n",
        "print(var_tuple[:-4:-1])\n",
        "print(var_tuple[:-3:-1])\n",
        "print(var_tuple[:-2:-1])\n",
        "print(var_tuple[:-1:-1])"
      ],
      "execution_count": 22,
      "outputs": [
        {
          "output_type": "stream",
          "name": "stdout",
          "text": [
            "('Honey Fruit', 'Fig', 'Eggfruit', 'Dates', 'Cherries', 'Banana', 'Apple')\n",
            "('Honey Fruit', 'Fig', 'Eggfruit', 'Dates', 'Cherries', 'Banana')\n",
            "('Honey Fruit', 'Fig', 'Eggfruit', 'Dates', 'Cherries')\n",
            "('Honey Fruit', 'Fig', 'Eggfruit', 'Dates')\n",
            "('Honey Fruit', 'Fig', 'Eggfruit')\n",
            "('Honey Fruit', 'Fig')\n",
            "('Honey Fruit',)\n",
            "()\n"
          ]
        }
      ]
    },
    {
      "cell_type": "code",
      "metadata": {
        "colab": {
          "base_uri": "https://localhost:8080/"
        },
        "id": "DQem4vpdh2PX",
        "outputId": "02a6c683-51d2-4532-ccfd-dc4f4b83c249"
      },
      "source": [
        "print(var_tuple[::-1])\n",
        "print(var_tuple[-1:-8:-1])\n",
        "print(var_tuple[-2:-8:-1])\n",
        "print(var_tuple[-3:-8:-1])\n",
        "print(var_tuple[-4:-8:-1])\n",
        "print(var_tuple[-5:-8:-1])\n",
        "print(var_tuple[-6:-8:-1])\n",
        "print(var_tuple[-7:-8:-1])\n",
        "print(var_tuple[-8:-8:-1])"
      ],
      "execution_count": 37,
      "outputs": [
        {
          "output_type": "stream",
          "name": "stdout",
          "text": [
            "('Honey Fruit', 'Fig', 'Eggfruit', 'Dates', 'Cherries', 'Banana', 'Apple')\n",
            "('Honey Fruit', 'Fig', 'Eggfruit', 'Dates', 'Cherries', 'Banana', 'Apple')\n",
            "('Fig', 'Eggfruit', 'Dates', 'Cherries', 'Banana', 'Apple')\n",
            "('Eggfruit', 'Dates', 'Cherries', 'Banana', 'Apple')\n",
            "('Dates', 'Cherries', 'Banana', 'Apple')\n",
            "('Cherries', 'Banana', 'Apple')\n",
            "('Banana', 'Apple')\n",
            "('Apple',)\n",
            "()\n"
          ]
        }
      ]
    },
    {
      "cell_type": "code",
      "metadata": {
        "colab": {
          "base_uri": "https://localhost:8080/"
        },
        "id": "T9AEw9QPiuJo",
        "outputId": "00290b78-f5b5-4f3d-d2ca-fb94454347ad"
      },
      "source": [
        "#Functions of Tuple\n",
        "print(var_tuple)\n",
        "print(var_tuple.count('Dates'))"
      ],
      "execution_count": 40,
      "outputs": [
        {
          "output_type": "stream",
          "name": "stdout",
          "text": [
            "('Apple', 'Banana', 'Cherries', 'Dates', 'Eggfruit', 'Fig', 'Honey Fruit')\n",
            "1\n"
          ]
        }
      ]
    },
    {
      "cell_type": "code",
      "metadata": {
        "colab": {
          "base_uri": "https://localhost:8080/"
        },
        "id": "tSNgV_4Qjmkm",
        "outputId": "86164c44-a9bf-4f57-d494-4d124a574880"
      },
      "source": [
        "print(var_tuple.index('Dates'))"
      ],
      "execution_count": 39,
      "outputs": [
        {
          "output_type": "stream",
          "name": "stdout",
          "text": [
            "3\n"
          ]
        }
      ]
    }
  ]
}