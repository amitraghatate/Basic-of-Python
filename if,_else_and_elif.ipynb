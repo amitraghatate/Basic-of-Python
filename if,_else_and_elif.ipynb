{
  "nbformat": 4,
  "nbformat_minor": 0,
  "metadata": {
    "colab": {
      "name": "if, else and elif.ipynb",
      "provenance": [],
      "collapsed_sections": [],
      "authorship_tag": "ABX9TyNJ5JSBEIg+bjHjJ0el1Ac6",
      "include_colab_link": true
    },
    "kernelspec": {
      "name": "python3",
      "display_name": "Python 3"
    },
    "language_info": {
      "name": "python"
    }
  },
  "cells": [
    {
      "cell_type": "markdown",
      "metadata": {
        "id": "view-in-github",
        "colab_type": "text"
      },
      "source": [
        "<a href=\"https://colab.research.google.com/github/amitraghatate/Basic-of-Python/blob/Conditional-Statement/if%2C_else_and_elif.ipynb\" target=\"_parent\"><img src=\"https://colab.research.google.com/assets/colab-badge.svg\" alt=\"Open In Colab\"/></a>"
      ]
    },
    {
      "cell_type": "code",
      "metadata": {
        "id": "YYW1WkH2aYCP"
      },
      "source": [
        "#Conditional Statements\n",
        "#if\n",
        "a = 10\n",
        "b = 20\n",
        "\n",
        "if (a>b):\n",
        "  print('if (a>b)',a) #No Output"
      ],
      "execution_count": null,
      "outputs": []
    },
    {
      "cell_type": "code",
      "metadata": {
        "colab": {
          "base_uri": "https://localhost:8080/"
        },
        "id": "xvRmGwtIa8pc",
        "outputId": "34a9dae7-78d2-4187-8fcf-84ed0ceb60cf"
      },
      "source": [
        "if (a<b):\n",
        "  print('if (a>b)', a)"
      ],
      "execution_count": null,
      "outputs": [
        {
          "output_type": "stream",
          "name": "stdout",
          "text": [
            "if (a>b) 10\n"
          ]
        }
      ]
    },
    {
      "cell_type": "code",
      "metadata": {
        "colab": {
          "base_uri": "https://localhost:8080/"
        },
        "id": "oCBK1BS4bNi6",
        "outputId": "e796b819-2ab4-404b-ce6f-85b30e546d70"
      },
      "source": [
        "a = 10\n",
        "b = 20\n",
        "\n",
        "if ((a<50) & (b>15)):\n",
        "  print('if ((a<50) & (b>15)) ')"
      ],
      "execution_count": null,
      "outputs": [
        {
          "output_type": "stream",
          "name": "stdout",
          "text": [
            "if ((a<50) & (b>15)) \n"
          ]
        }
      ]
    },
    {
      "cell_type": "code",
      "metadata": {
        "colab": {
          "base_uri": "https://localhost:8080/"
        },
        "id": "Qrk5LeB_cghz",
        "outputId": "a9eb5cc8-1781-4faf-f088-6e6f1473369c"
      },
      "source": [
        "#if else\n",
        "a = 10\n",
        "b = 20\n",
        "if (a>b):\n",
        "  print('a is grater than b')\n",
        "else:\n",
        "  print('We are in else section')"
      ],
      "execution_count": null,
      "outputs": [
        {
          "output_type": "stream",
          "name": "stdout",
          "text": [
            "We are in else section\n"
          ]
        }
      ]
    },
    {
      "cell_type": "code",
      "metadata": {
        "colab": {
          "base_uri": "https://localhost:8080/"
        },
        "id": "CixrIbC9dFJw",
        "outputId": "6932182e-caf4-4570-ac6e-6cb36f5c751e"
      },
      "source": [
        "if (a<b):\n",
        "  print('a is grater than b')\n",
        "else:\n",
        "  print('We are in else section')"
      ],
      "execution_count": null,
      "outputs": [
        {
          "output_type": "stream",
          "name": "stdout",
          "text": [
            "a is grater than b\n"
          ]
        }
      ]
    },
    {
      "cell_type": "code",
      "metadata": {
        "colab": {
          "base_uri": "https://localhost:8080/"
        },
        "id": "AlwVPY95dIx7",
        "outputId": "8c13cffb-1631-4f2e-e0bd-49d26f968737"
      },
      "source": [
        "#elif\n",
        "a = 10\n",
        "b = 20\n",
        "if (a>b):\n",
        "  print('Condition (a>b) is correct')\n",
        "elif (a==b):\n",
        "  print('Condition (a==b) is correct')\n",
        "elif (a<b):\n",
        "  print('Condition (a<b) is correct')\n",
        "elif (a!=b):\n",
        "  print('Condition (a!=b) is correct')\n",
        "else:\n",
        "  print('We are in else section')"
      ],
      "execution_count": null,
      "outputs": [
        {
          "output_type": "stream",
          "name": "stdout",
          "text": [
            "Condition (a<b) is correct\n"
          ]
        }
      ]
    },
    {
      "cell_type": "code",
      "metadata": {
        "colab": {
          "base_uri": "https://localhost:8080/"
        },
        "id": "LCNzGopkeD4o",
        "outputId": "a0e3628f-d26b-4b21-90f4-c048f6ec8fac"
      },
      "source": [
        "a = 10\n",
        "b = 20\n",
        "if (a>b):\n",
        "  print('Condition (a>b) is correct')\n",
        "elif (a<b):\n",
        "  print('Condition (a<b) is correct')\n",
        "elif (a==b):\n",
        "  print('Condition (a==b) is correct')\n",
        "elif (a!=b):\n",
        "  print('Condition (a!=b) is correct')\n",
        "else:\n",
        "  print('We are in else section')"
      ],
      "execution_count": null,
      "outputs": [
        {
          "output_type": "stream",
          "name": "stdout",
          "text": [
            "Condition (a<b) is correct\n"
          ]
        }
      ]
    },
    {
      "cell_type": "code",
      "metadata": {
        "colab": {
          "base_uri": "https://localhost:8080/"
        },
        "id": "oLrO969EeO4q",
        "outputId": "3a0d4a9a-cab5-4632-ac38-6e63c496c782"
      },
      "source": [
        "a = 10\n",
        "b = 20\n",
        "if (a>b):\n",
        "  print('Condition (a>b) is correct')\n",
        "elif (a==b):\n",
        "  print('Condition (a==b) is correct')\n",
        "elif (a!=b):\n",
        "  print('Condition (a!=b) is correct')\n",
        "elif (a<b):\n",
        "  print('Condition (a<b) is correct')\n",
        "else:\n",
        "  print('We are in else section')"
      ],
      "execution_count": null,
      "outputs": [
        {
          "output_type": "stream",
          "name": "stdout",
          "text": [
            "Condition (a!=b) is correct\n"
          ]
        }
      ]
    },
    {
      "cell_type": "code",
      "metadata": {
        "colab": {
          "base_uri": "https://localhost:8080/"
        },
        "id": "fQZlfpUKeczi",
        "outputId": "070effce-ec59-415b-b06e-9c209d6773d4"
      },
      "source": [
        "a = 10\n",
        "b = 20\n",
        "if (a>b):\n",
        "  print('Condition (a>b) is correct')\n",
        "elif (a==b):\n",
        "  print('Condition (a==b) is correct')\n",
        "else:\n",
        "  print('We are in else section')"
      ],
      "execution_count": null,
      "outputs": [
        {
          "output_type": "stream",
          "name": "stdout",
          "text": [
            "We are in else section\n"
          ]
        }
      ]
    },
    {
      "cell_type": "code",
      "metadata": {
        "colab": {
          "base_uri": "https://localhost:8080/"
        },
        "id": "JwG1xhbJegfO",
        "outputId": "2e93d8c6-bd86-4430-8f51-6aa2e82f8f13"
      },
      "source": [
        "#Nested if\n",
        "a = 10\n",
        "if (a<100):\n",
        "  print('Condition (a<100) is True')\n",
        "  if (a<85):\n",
        "    print('Condition (a<85) is True')\n",
        "    if (a<70):\n",
        "      print('Condition (a<70) is True')\n",
        "      if (a<55):\n",
        "        print('Condition (a<55) is True')\n",
        "        if (a<15):\n",
        "          print('Condition (a<15) is True')\n",
        "          if (a<-10):\n",
        "            print('Condition (a<-10) is True')\n",
        "          else:\n",
        "            print('Condition (a<-10) is False')\n",
        "        else:\n",
        "          print('Condition (a<15) is False')\n",
        "      else:\n",
        "        print('Condition (a<55) is False')\n",
        "    else:\n",
        "      print('Condition (a<70) is False')\n",
        "  else:\n",
        "    print('Condition (a<85) is False')\n",
        "else:\n",
        "  print('Condition (a<100) is False')"
      ],
      "execution_count": null,
      "outputs": [
        {
          "output_type": "stream",
          "name": "stdout",
          "text": [
            "Condition (a<100) is True\n",
            "Condition (a<85) is True\n",
            "Condition (a<70) is True\n",
            "Condition (a<55) is True\n",
            "Condition (a<15) is True\n",
            "Condition (a<-10) is False\n"
          ]
        }
      ]
    },
    {
      "cell_type": "code",
      "metadata": {
        "colab": {
          "base_uri": "https://localhost:8080/"
        },
        "id": "Ibt8EPHHhIw6",
        "outputId": "e9a01ce5-9b53-4d2b-e0be-7f68f6cee019"
      },
      "source": [
        "a = -20\n",
        "if (a<100):\n",
        "  print('Condition (a<100) is True')\n",
        "  if (a<85):\n",
        "    print('Condition (a<85) is True')\n",
        "    if (a<70):\n",
        "      print('Condition (a<70) is True')\n",
        "      if (a<55):\n",
        "        print('Condition (a<55) is True')\n",
        "        if (a<15):\n",
        "          print('Condition (a<15) is True')\n",
        "          if (a<-10):\n",
        "            print('Condition (a<-10) is True')\n",
        "          else:\n",
        "            print('Condition (a<-10) is False')\n",
        "        else:\n",
        "          print('Condition (a<15) is False')\n",
        "      else:\n",
        "        print('Condition (a<55) is False')\n",
        "    else:\n",
        "      print('Condition (a<70) is False')\n",
        "  else:\n",
        "    print('Condition (a<85) is False')\n",
        "else:\n",
        "  print('Condition (a<100) is False')"
      ],
      "execution_count": null,
      "outputs": [
        {
          "output_type": "stream",
          "name": "stdout",
          "text": [
            "Condition (a<100) is True\n",
            "Condition (a<85) is True\n",
            "Condition (a<70) is True\n",
            "Condition (a<55) is True\n",
            "Condition (a<15) is True\n",
            "Condition (a<-10) is True\n"
          ]
        }
      ]
    },
    {
      "cell_type": "code",
      "metadata": {
        "colab": {
          "base_uri": "https://localhost:8080/"
        },
        "id": "r3pmWiQYhRkb",
        "outputId": "6532dbc1-61a2-4b30-e630-0f2d2b8323e1"
      },
      "source": [
        "a = 85\n",
        "if (a<100):\n",
        "  print('Condition (a<100) is True')\n",
        "  if (a<85):\n",
        "    print('Condition (a<85) is True')\n",
        "    if (a<70):\n",
        "      print('Condition (a<70) is True')\n",
        "      if (a<55):\n",
        "        print('Condition (a<55) is True')\n",
        "        if (a<15):\n",
        "          print('Condition (a<15) is True')\n",
        "          if (a<-10):\n",
        "            print('Condition (a<-10) is True')\n",
        "          else:\n",
        "            print('Condition (a<-10) is False')\n",
        "        else:\n",
        "          print('Condition (a<15) is False')\n",
        "      else:\n",
        "        print('Condition (a<55) is False')\n",
        "    else:\n",
        "      print('Condition (a<70) is False')\n",
        "  else:\n",
        "    print('Condition (a<85) is False')\n",
        "else:\n",
        "  print('Condition (a<100) is False')"
      ],
      "execution_count": null,
      "outputs": [
        {
          "output_type": "stream",
          "name": "stdout",
          "text": [
            "Condition (a<100) is True\n",
            "Condition (a<85) is False\n"
          ]
        }
      ]
    },
    {
      "cell_type": "code",
      "metadata": {
        "colab": {
          "base_uri": "https://localhost:8080/"
        },
        "id": "YHjkvF7JhU9b",
        "outputId": "c424da40-d4a6-410d-ae88-e882d60ed7a1"
      },
      "source": [
        "#Calculate Percentage\n",
        "per = 78\n",
        "\n",
        "if (per>=75):\n",
        "  print('First Calss with Distinction')\n",
        "elif ((per>=60) & (per<75)):\n",
        "  print('First Class')\n",
        "elif ((per>=40) & (per<60)):\n",
        "  print('Second Class')\n",
        "elif ((per>=33) & (per<40)):\n",
        "  print('Third Class')\n",
        "else:\n",
        "  print('Better Luck Next Time')"
      ],
      "execution_count": null,
      "outputs": [
        {
          "output_type": "stream",
          "name": "stdout",
          "text": [
            "First Calss with Distinction\n"
          ]
        }
      ]
    },
    {
      "cell_type": "code",
      "metadata": {
        "colab": {
          "base_uri": "https://localhost:8080/"
        },
        "id": "79e1STnli3Bc",
        "outputId": "69790e95-dece-4cdb-c234-d86c220399e9"
      },
      "source": [
        "per = 53\n",
        "\n",
        "if (per>=75):\n",
        "  print('First Calss with Distinction')\n",
        "elif ((per>=60) & (per<75)):\n",
        "  print('First Class')\n",
        "elif ((per>=40) & (per<60)):\n",
        "  print('Second Class')\n",
        "elif ((per>=33) & (per<40)):\n",
        "  print('Third Class')\n",
        "else:\n",
        "  print('Better Luck Next Time')"
      ],
      "execution_count": null,
      "outputs": [
        {
          "output_type": "stream",
          "name": "stdout",
          "text": [
            "Second Class\n"
          ]
        }
      ]
    },
    {
      "cell_type": "code",
      "metadata": {
        "colab": {
          "base_uri": "https://localhost:8080/"
        },
        "id": "gcag3wVli6Lh",
        "outputId": "83c12196-500f-4cee-b8c6-cbfd7861421f"
      },
      "source": [
        "per = 23\n",
        "\n",
        "if (per>=75):\n",
        "  print('First Calss with Distinction')\n",
        "elif ((per>=60) & (per<75)):\n",
        "  print('First Class')\n",
        "elif ((per>=40) & (per<60)):\n",
        "  print('Second Class')\n",
        "elif ((per>=33) & (per<40)):\n",
        "  print('Third Class')\n",
        "else:\n",
        "  print('Better Luck Next Time')"
      ],
      "execution_count": null,
      "outputs": [
        {
          "output_type": "stream",
          "name": "stdout",
          "text": [
            "Better Luck Next Time\n"
          ]
        }
      ]
    },
    {
      "cell_type": "code",
      "metadata": {
        "colab": {
          "base_uri": "https://localhost:8080/"
        },
        "id": "xJ7X0TZEi96J",
        "outputId": "08e60751-677a-46fa-e9df-541b3b512849"
      },
      "source": [
        "per = 68\n",
        "\n",
        "if (per>=75):\n",
        "  print('First Calss with Distinction')\n",
        "elif ((per>=60) & (per<75)):\n",
        "  print('First Class')\n",
        "elif ((per>=40) & (per<60)):\n",
        "  print('Second Class')\n",
        "elif ((per>=33) & (per<40)):\n",
        "  print('Third Class')\n",
        "else:\n",
        "  print('Better Luck Next Time')"
      ],
      "execution_count": null,
      "outputs": [
        {
          "output_type": "stream",
          "name": "stdout",
          "text": [
            "First Class\n"
          ]
        }
      ]
    },
    {
      "cell_type": "code",
      "metadata": {
        "colab": {
          "base_uri": "https://localhost:8080/"
        },
        "id": "tf_sc5rbjDQ-",
        "outputId": "680a81a9-1b49-4222-b33e-d79293ae3b27"
      },
      "source": [
        "#Salary Bonus Claculation\n",
        "sal = int(input('Enter Salary of Employee '))\n",
        "\n",
        "if (sal<=5000):\n",
        "  print('Bonus Recivied', sal)\n",
        "elif ((sal>5000) & (sal<=10000)):\n",
        "  print('Bonus Recivied', sal*0.8)\n",
        "elif ((sal>10000) & (sal<=15000)):\n",
        "  print('Bonus Recivied', sal*0.5)\n",
        "elif ((sal>15000) & (sal<=25000)):\n",
        "  print('Bonus Recivied', sal*0.15)\n",
        "elif ((sal>25000)):\n",
        "  print('Bonus Recivied', sal*0.1)"
      ],
      "execution_count": null,
      "outputs": [
        {
          "output_type": "stream",
          "name": "stdout",
          "text": [
            "Enter Salary of Employee 8000\n",
            "Bonus Recivied 6400.0\n"
          ]
        }
      ]
    },
    {
      "cell_type": "code",
      "metadata": {
        "colab": {
          "base_uri": "https://localhost:8080/"
        },
        "id": "lj2umeE1lJd5",
        "outputId": "f8c3d999-ff6c-48b4-ef0d-13715feffe3d"
      },
      "source": [
        "sal = int(input('Enter Salary of Employee '))\n",
        "\n",
        "if (sal<=5000):\n",
        "  print('Bonus Recivied', sal)\n",
        "elif ((sal>5000) & (sal<=10000)):\n",
        "  print('Bonus Recivied', sal*0.8)\n",
        "elif ((sal>10000) & (sal<=15000)):\n",
        "  print('Bonus Recivied', sal*0.5)\n",
        "elif ((sal>15000) & (sal<=25000)):\n",
        "  print('Bonus Recivied', sal*0.15)\n",
        "elif ((sal>25000)):\n",
        "  print('Bonus Recivied', sal*0.1)"
      ],
      "execution_count": null,
      "outputs": [
        {
          "output_type": "stream",
          "name": "stdout",
          "text": [
            "Enter Salary of Employee 23000\n",
            "Bonus Recivied 3450.0\n"
          ]
        }
      ]
    },
    {
      "cell_type": "code",
      "metadata": {
        "colab": {
          "base_uri": "https://localhost:8080/"
        },
        "id": "ujq516XklQs3",
        "outputId": "6f22b8f9-d2c1-48f1-fd8f-0cda52f8c260"
      },
      "source": [
        "sal = int(input('Enter Salary of Employee '))\n",
        "\n",
        "if (sal<=5000):\n",
        "  print('Bonus Recivied', sal)\n",
        "elif ((sal>5000) & (sal<=10000)):\n",
        "  print('Bonus Recivied', sal*0.8)\n",
        "elif ((sal>10000) & (sal<=15000)):\n",
        "  print('Bonus Recivied', sal*0.5)\n",
        "elif ((sal>15000) & (sal<=25000)):\n",
        "  print('Bonus Recivied', sal*0.15)\n",
        "elif ((sal>25000)):\n",
        "  print('Bonus Recivied', sal*0.1)"
      ],
      "execution_count": null,
      "outputs": [
        {
          "output_type": "stream",
          "name": "stdout",
          "text": [
            "Enter Salary of Employee 40000\n",
            "Bonus Recivied 4000.0\n"
          ]
        }
      ]
    },
    {
      "cell_type": "code",
      "metadata": {
        "colab": {
          "base_uri": "https://localhost:8080/"
        },
        "id": "0g5FHDy5ldlx",
        "outputId": "4a3da4d2-110b-415d-f24c-c29aa5f67340"
      },
      "source": [
        "sal = int(input('Enter Salary of Employee '))\n",
        "\n",
        "if (sal<=5000):\n",
        "  print('Bonus Recivied', sal)\n",
        "elif ((sal>5000) & (sal<=10000)):\n",
        "  print('Bonus Recivied', sal*0.8)\n",
        "elif ((sal>10000) & (sal<=15000)):\n",
        "  print('Bonus Recivied', sal*0.5)\n",
        "elif ((sal>15000) & (sal<=25000)):\n",
        "  print('Bonus Recivied', sal*0.15)\n",
        "elif ((sal>25000)):\n",
        "  print('Bonus Recivied', sal*0.1)"
      ],
      "execution_count": null,
      "outputs": [
        {
          "output_type": "stream",
          "name": "stdout",
          "text": [
            "Enter Salary of Employee 25000\n",
            "Bonus Recivied 3750.0\n"
          ]
        }
      ]
    },
    {
      "cell_type": "code",
      "metadata": {
        "colab": {
          "base_uri": "https://localhost:8080/"
        },
        "id": "vg-48NqCllqR",
        "outputId": "530c3d81-4f50-4d97-c311-0341684a902a"
      },
      "source": [
        "#Measurement Calculation\n",
        "'''1 mm = 1000 micro meter\n",
        "   1 mm = 0.1 cm\n",
        "   1 mm = 0.001 m\n",
        "   1 mm = 0.000001 km\n",
        "   1 mm = 1000000 nano meter\n",
        "   1 mm = 0.0000006213 mile\n",
        "   1 mm = 0.001093 yard\n",
        "   1 mm = 0.003280 foot\n",
        "   1 mm = 0.03937 inch\n",
        "   1 mm = 0.0000005399 nautical mile'''\n",
        "\n",
        "unit = input(\"Please Enter Unit of Measuremnt \")\n",
        "dist = float(input('Please enter Distance '))\n",
        "\n",
        "if (unit == 'mm'):\n",
        "  print('mm to micro meter =', dist*1000)\n",
        "  print('mm to cm =', dist*0.1)\n",
        "  print('mm to m =', dist*0.001)\n",
        "  print('mm to km =', dist*0.000001)\n",
        "  print('mm to nano meter =', dist*1000000)\n",
        "  print('mm to mile =', dist*0.0000006213)\n",
        "  print('mm to yard =', dist*0.001093)\n",
        "  print('mm to foot =', dist*0.003280)\n",
        "  print('mm to inch =', dist*0.03937)\n",
        "  print('mm to nautical mile =', dist*0.0000005399)"
      ],
      "execution_count": null,
      "outputs": [
        {
          "output_type": "stream",
          "name": "stdout",
          "text": [
            "Please Enter Unit of Measuremnt mm\n",
            "Please enter Distance 12345\n",
            "mm to micro meter = 12345000.0\n",
            "mm to cm = 1234.5\n",
            "mm to m = 12.345\n",
            "mm to km = 0.012345\n",
            "mm to nano meter = 12345000000.0\n",
            "mm to mile = 0.0076699485\n",
            "mm to yard = 13.493085\n",
            "mm to foot = 40.4916\n",
            "mm to inch = 486.02265000000006\n",
            "mm to nautical mile = 0.0066650655\n"
          ]
        }
      ]
    },
    {
      "cell_type": "code",
      "metadata": {
        "colab": {
          "base_uri": "https://localhost:8080/"
        },
        "id": "He2g2eW_sgtR",
        "outputId": "699e4f7e-dce9-47fe-c9f5-d75de55d5ee6"
      },
      "source": [
        "unit = input(\"Please Enter Unit of Measuremnt \")\n",
        "dist = float(input('Please enter Distance '))\n",
        "\n",
        "if (unit == 'mm'):\n",
        "  print('mm to micro meter =', dist*1000)\n",
        "  print('mm to cm =', dist*0.1)\n",
        "  print('mm to m =', dist*0.001)\n",
        "  print('mm to km =', dist*0.000001)\n",
        "  print('mm to nano meter =', dist*1000000)\n",
        "  print('mm to mile =', dist*0.0000006213)\n",
        "  print('mm to yard =', dist*0.001093)\n",
        "  print('mm to foot =', dist*0.003280)\n",
        "  print('mm to inch =', dist*0.03937)\n",
        "  print('mm to nautical mile =', dist*0.0000005399)"
      ],
      "execution_count": null,
      "outputs": [
        {
          "output_type": "stream",
          "name": "stdout",
          "text": [
            "Please Enter Unit of Measuremnt mm\n",
            "Please enter Distance 1000\n",
            "mm to micro meter = 1000000.0\n",
            "mm to cm = 100.0\n",
            "mm to m = 1.0\n",
            "mm to km = 0.001\n",
            "mm to nano meter = 1000000000.0\n",
            "mm to mile = 0.0006213\n",
            "mm to yard = 1.093\n",
            "mm to foot = 3.28\n",
            "mm to inch = 39.370000000000005\n",
            "mm to nautical mile = 0.0005399000000000001\n"
          ]
        }
      ]
    },
    {
      "cell_type": "code",
      "metadata": {
        "colab": {
          "base_uri": "https://localhost:8080/"
        },
        "id": "NqbFW-PSsorE",
        "outputId": "18ae25eb-0e6c-4ea5-e550-5928393d2c2e"
      },
      "source": [
        "'''1 cm = 10000 micro meter\n",
        "   1 cm = 10 mm\n",
        "   1 cm = 0.01 m\n",
        "   1 cm = 0.00001 km\n",
        "   1 cm = 10000000 nano meter\n",
        "   1 cm = 0.000006213 mile\n",
        "   1 cm = 0.01093 yard\n",
        "   1 cm = 0.03280 foot\n",
        "   1 cm = 0.3937 inch\n",
        "   1 cm = 0.000005399 nautical mile'''\n",
        "unit = input(\"Please Enter Unit of Measuremnt \")\n",
        "dist = float(input('Please enter Distance '))\n",
        "\n",
        "if (unit == 'cm'):\n",
        "  print('cm to micro meter =', dist*1000)\n",
        "  print('cm to mm =', dist*10)\n",
        "  print('cm to m =', dist*0.001)\n",
        "  print('cm to km =', dist*0.000001)\n",
        "  print('cm to nano meter =', dist*1000000)\n",
        "  print('cm to mile =', dist*0.0000006213)\n",
        "  print('cm to yard =', dist*0.001093)\n",
        "  print('cm to foot =', dist*0.003280)\n",
        "  print('cm to inch =', dist*0.03937)\n",
        "  print('cm to nautical mile =', dist*0.0000005399)"
      ],
      "execution_count": null,
      "outputs": [
        {
          "output_type": "stream",
          "name": "stdout",
          "text": [
            "Please Enter Unit of Measuremnt cm\n",
            "Please enter Distance 1000\n",
            "cm to micro meter = 1000000.0\n",
            "cm to mm = 10000.0\n",
            "cm to m = 1.0\n",
            "cm to km = 0.001\n",
            "cm to nano meter = 1000000000.0\n",
            "cm to mile = 0.0006213\n",
            "cm to yard = 1.093\n",
            "cm to foot = 3.28\n",
            "cm to inch = 39.370000000000005\n",
            "cm to nautical mile = 0.0005399000000000001\n"
          ]
        }
      ]
    },
    {
      "cell_type": "code",
      "metadata": {
        "colab": {
          "base_uri": "https://localhost:8080/"
        },
        "id": "oXp4cwikwTg2",
        "outputId": "cf5c48dc-1420-49d0-c605-8b14ea626add"
      },
      "source": [
        "unit = input(\"Please Enter Unit of Measuremnt \")\n",
        "dist = float(input('Please enter Distance '))\n",
        "\n",
        "if (unit == 'cm'):\n",
        "  print('cm to micro meter =', dist*1000)\n",
        "  print('cm to mm =', dist*10)\n",
        "  print('cm to m =', dist*0.001)\n",
        "  print('cm to km =', dist*0.000001)\n",
        "  print('cm to nano meter =', dist*1000000)\n",
        "  print('cm to mile =', dist*0.0000006213)\n",
        "  print('cm to yard =', dist*0.001093)\n",
        "  print('cm to foot =', dist*0.003280)\n",
        "  print('cm to inch =', dist*0.03937)\n",
        "  print('cm to nautical mile =', dist*0.0000005399)"
      ],
      "execution_count": null,
      "outputs": [
        {
          "output_type": "stream",
          "name": "stdout",
          "text": [
            "Please Enter Unit of Measuremnt cm\n",
            "Please enter Distance 12345\n",
            "cm to micro meter = 12345000.0\n",
            "cm to mm = 123450.0\n",
            "cm to m = 12.345\n",
            "cm to km = 0.012345\n",
            "cm to nano meter = 12345000000.0\n",
            "cm to mile = 0.0076699485\n",
            "cm to yard = 13.493085\n",
            "cm to foot = 40.4916\n",
            "cm to inch = 486.02265000000006\n",
            "cm to nautical mile = 0.0066650655\n"
          ]
        }
      ]
    },
    {
      "cell_type": "code",
      "metadata": {
        "colab": {
          "base_uri": "https://localhost:8080/"
        },
        "id": "s8_OkZHqwagO",
        "outputId": "7ce15d5f-a783-46d6-c666-3e1da594ad7b"
      },
      "source": [
        "'''1 m = 1000000 micro meter\n",
        "   1 m = 100 cm\n",
        "   1 m = 1000 mm\n",
        "   1 m = 0.001 km\n",
        "   1 m = 1000000000 nano meter\n",
        "   1 m = 0.0006213 mile\n",
        "   1 m = 1.093 yard\n",
        "   1 m = 3.280 foot\n",
        "   1 m = 39.37 inch\n",
        "   1 m = 0.0005399 nautical mile'''\n",
        "\n",
        "unit = input(\"Please Enter Unit of Measuremnt \")\n",
        "dist = float(input('Please enter Distance '))\n",
        "\n",
        "if (unit == 'm'):\n",
        "  print('m to micro meter =', dist*1000000)\n",
        "  print('m to cm =', dist*100)\n",
        "  print('m to mm =', dist*1000)\n",
        "  print('m to km =', dist*0.001)\n",
        "  print('m to nano meter =', dist*1000000000)\n",
        "  print('m to mile =', dist*0.0006213)\n",
        "  print('m to yard =', dist*1.093)\n",
        "  print('m to foot =', dist*3.280)\n",
        "  print('m to inch =', dist*39.37)\n",
        "  print('m to nautical mile =', dist*0.0005399)"
      ],
      "execution_count": null,
      "outputs": [
        {
          "output_type": "stream",
          "name": "stdout",
          "text": [
            "Please Enter Unit of Measuremnt m\n",
            "Please enter Distance 1000\n",
            "m to micro meter = 1000000000.0\n",
            "m to cm = 100000.0\n",
            "m to mm = 1000000.0\n",
            "m to km = 1.0\n",
            "m to nano meter = 1000000000000.0\n",
            "m to mile = 0.6213\n",
            "m to yard = 1093.0\n",
            "m to foot = 3280.0\n",
            "m to inch = 39370.0\n",
            "m to nautical mile = 0.5398999999999999\n"
          ]
        }
      ]
    },
    {
      "cell_type": "code",
      "metadata": {
        "colab": {
          "base_uri": "https://localhost:8080/"
        },
        "id": "IVtYvDghy4pS",
        "outputId": "5f0199c8-7012-43e6-f290-14565110874c"
      },
      "source": [
        "unit = input(\"Please Enter Unit of Measuremnt \")\n",
        "dist = float(input('Please enter Distance '))\n",
        "\n",
        "if (unit == 'm'):\n",
        "  print('m to micro meter =', dist*1000000)\n",
        "  print('m to cm =', dist*100)\n",
        "  print('m to mm =', dist*1000)\n",
        "  print('m to km =', dist*0.001)\n",
        "  print('m to nano meter =', dist*1000000000)\n",
        "  print('m to mile =', dist*0.0006213)\n",
        "  print('m to yard =', dist*1.093)\n",
        "  print('m to foot =', dist*3.280)\n",
        "  print('m to inch =', dist*39.37)\n",
        "  print('m to nautical mile =', dist*0.0005399)"
      ],
      "execution_count": null,
      "outputs": [
        {
          "output_type": "stream",
          "name": "stdout",
          "text": [
            "Please Enter Unit of Measuremnt m\n",
            "Please enter Distance 12345\n",
            "m to micro meter = 12345000000.0\n",
            "m to cm = 1234500.0\n",
            "m to mm = 12345000.0\n",
            "m to km = 12.345\n",
            "m to nano meter = 12345000000000.0\n",
            "m to mile = 7.669948499999999\n",
            "m to yard = 13493.085\n",
            "m to foot = 40491.6\n",
            "m to inch = 486022.64999999997\n",
            "m to nautical mile = 6.665065499999999\n"
          ]
        }
      ]
    },
    {
      "cell_type": "code",
      "metadata": {
        "colab": {
          "base_uri": "https://localhost:8080/"
        },
        "id": "6craImwQy-CS",
        "outputId": "343b8d9f-fe12-4de7-b03c-e78408d85066"
      },
      "source": [
        "'''1 micrometer = 0.001 mm\n",
        "   1 micrometer = 0.0001 cm\n",
        "   1 micrometer = 0.000001 m\n",
        "   1 micrometer = 0.000000001 km\n",
        "   1 micrometer = 1000 nano meter\n",
        "   1 micrometer = 0.0000000006213 mile\n",
        "   1 micrometer = 0.000001093 yard\n",
        "   1 micrometer = 0.000003280 foot\n",
        "   1 micrometer = 0.00003937 inch\n",
        "   1 micrometer = 0.0000000005399 nautical mile'''\n",
        "\n",
        "unit = input(\"Please Enter Unit of Measuremnt \")\n",
        "dist = float(input('Please enter Distance '))\n",
        "\n",
        "if (unit == 'micrometer'):\n",
        "  print(' micrometer to mm =', dist*0.001)\n",
        "  print(' micrometer to cm =', dist*0.0001)\n",
        "  print(' micrometer to m =', dist*0.000001)\n",
        "  print(' micrometer to km =', dist*0.000000001)\n",
        "  print(' micrometer to nano meter =', dist*1000)\n",
        "  print(' micrometer to mile =', dist*0.0000000006213)\n",
        "  print(' micrometer to yard =', dist*0.000001093)\n",
        "  print(' micrometer to foot =', dist*0.000003280)\n",
        "  print(' micrometer to inch =', dist*0.00003937)\n",
        "  print(' micrometer to nautical mile =', dist*0.0000000005399)"
      ],
      "execution_count": null,
      "outputs": [
        {
          "output_type": "stream",
          "name": "stdout",
          "text": [
            "Please Enter Unit of Measuremnt micrometer\n",
            "Please enter Distance 1000\n",
            " micrometer to mm = 1.0\n",
            " micrometer to cm = 0.1\n",
            " micrometer to m = 0.001\n",
            " micrometer to km = 1.0000000000000002e-06\n",
            " micrometer to nano meter = 1000000.0\n",
            " micrometer to mile = 6.213e-07\n",
            " micrometer to yard = 0.001093\n",
            " micrometer to foot = 0.00328\n",
            " micrometer to inch = 0.039369999999999995\n",
            " micrometer to nautical mile = 5.399e-07\n"
          ]
        }
      ]
    },
    {
      "cell_type": "code",
      "metadata": {
        "colab": {
          "base_uri": "https://localhost:8080/"
        },
        "id": "hmLfGLZw6bAA",
        "outputId": "8ba83096-b49c-4038-b585-29aa5a7b59ef"
      },
      "source": [
        "unit = input(\"Please Enter Unit of Measuremnt \")\n",
        "dist = float(input('Please enter Distance '))\n",
        "\n",
        "if (unit == 'micrometer'):\n",
        "  print(' micrometer to mm =', dist*0.001)\n",
        "  print(' micrometer to cm =', dist*0.0001)\n",
        "  print(' micrometer to m =', dist*0.000001)\n",
        "  print(' micrometer to km =', dist*0.000000001)\n",
        "  print(' micrometer to nano meter =', dist*1000)\n",
        "  print(' micrometer to mile =', dist*0.0000000006213)\n",
        "  print(' micrometer to yard =', dist*0.000001093)\n",
        "  print(' micrometer to foot =', dist*0.000003280)\n",
        "  print(' micrometer to inch =', dist*0.00003937)\n",
        "  print(' micrometer to nautical mile =', dist*0.0000000005399)"
      ],
      "execution_count": null,
      "outputs": [
        {
          "output_type": "stream",
          "name": "stdout",
          "text": [
            "Please Enter Unit of Measuremnt micrometer\n",
            "Please enter Distance 12345\n",
            " micrometer to mm = 12.345\n",
            " micrometer to cm = 1.2345000000000002\n",
            " micrometer to m = 0.012345\n",
            " micrometer to km = 1.2345000000000001e-05\n",
            " micrometer to nano meter = 12345000.0\n",
            " micrometer to mile = 7.6699485e-06\n",
            " micrometer to yard = 0.013493085\n",
            " micrometer to foot = 0.0404916\n",
            " micrometer to inch = 0.48602264999999994\n",
            " micrometer to nautical mile = 6.6650655e-06\n"
          ]
        }
      ]
    },
    {
      "cell_type": "code",
      "metadata": {
        "id": "MmijFMI16hjp",
        "colab": {
          "base_uri": "https://localhost:8080/"
        },
        "outputId": "d6afe58a-cecf-41e4-c567-b4e2e853f29f"
      },
      "source": [
        "'''1 km = 1000000000 micro meter\n",
        "   1 km = 100000 cm\n",
        "   1 km = 1000 m\n",
        "   1 km = 1000000 mm\n",
        "   1 km = 1000000000000 nano meter\n",
        "   1 km = 0.6213 mile\n",
        "   1 km = 1093.61 yard\n",
        "   1 km = 3280.84 foot\n",
        "   1 km = 39370.1 inch\n",
        "   1 km = 0.5399 nautical mile'''\n",
        "\n",
        "unit = input(\"Please Enter Unit of Measuremnt \")\n",
        "dist = float(input('Please enter Distance '))\n",
        "\n",
        "if (unit == 'km'):\n",
        "  print('km to micro meter =', dist*1000000000)\n",
        "  print('km to cm =', dist*100000)\n",
        "  print('km to m =', dist*1000)\n",
        "  print('km to mm =', dist*1000000)\n",
        "  print('km to nano meter =', dist*1000000000000)\n",
        "  print('km to mile =', dist*0.6213)\n",
        "  print('km to yard =', dist*1093.61)\n",
        "  print('km to foot =', dist*3280.84)\n",
        "  print('km to inch =', dist*39370.1)\n",
        "  print('km to nautical mile =', dist*0.5399)"
      ],
      "execution_count": null,
      "outputs": [
        {
          "output_type": "stream",
          "name": "stdout",
          "text": [
            "Please Enter Unit of Measuremnt km\n",
            "Please enter Distance 1000\n",
            "km to micro meter = 1000000000000.0\n",
            "km to cm = 100000000.0\n",
            "km to m = 1000000.0\n",
            "km to mm = 1000000000.0\n",
            "km to nano meter = 1000000000000000.0\n",
            "km to mile = 621.3\n",
            "km to yard = 1093610.0\n",
            "km to foot = 3280840.0\n",
            "km to inch = 39370100.0\n",
            "km to nautical mile = 539.9000000000001\n"
          ]
        }
      ]
    },
    {
      "cell_type": "code",
      "metadata": {
        "colab": {
          "base_uri": "https://localhost:8080/"
        },
        "id": "x5Fwi9tU9dLo",
        "outputId": "25eafaaf-4fd0-45b2-c2e3-222c65a6ef1d"
      },
      "source": [
        "unit = input(\"Please Enter Unit of Measuremnt \")\n",
        "dist = float(input('Please enter Distance '))\n",
        "\n",
        "if (unit == 'km'):\n",
        "  print('km to micro meter =', dist*1000000000)\n",
        "  print('km to cm =', dist*100000)\n",
        "  print('km to m =', dist*1000)\n",
        "  print('km to mm =', dist*1000000)\n",
        "  print('km to nano meter =', dist*1000000000000)\n",
        "  print('km to mile =', dist*0.6213)\n",
        "  print('km to yard =', dist*1093.61)\n",
        "  print('km to foot =', dist*3280.84)\n",
        "  print('km to inch =', dist*39370.1)\n",
        "  print('km to nautical mile =', dist*0.5399)"
      ],
      "execution_count": null,
      "outputs": [
        {
          "output_type": "stream",
          "name": "stdout",
          "text": [
            "Please Enter Unit of Measuremnt km\n",
            "Please enter Distance 12345\n",
            "km to micro meter = 12345000000000.0\n",
            "km to cm = 1234500000.0\n",
            "km to m = 12345000.0\n",
            "km to mm = 12345000000.0\n",
            "km to nano meter = 1.2345e+16\n",
            "km to mile = 7669.9484999999995\n",
            "km to yard = 13500615.45\n",
            "km to foot = 40501969.800000004\n",
            "km to inch = 486023884.5\n",
            "km to nautical mile = 6665.065500000001\n"
          ]
        }
      ]
    },
    {
      "cell_type": "code",
      "metadata": {
        "colab": {
          "base_uri": "https://localhost:8080/"
        },
        "id": "xx4e0Fsf9vJE",
        "outputId": "5f2b75f2-8c79-4d99-cb3e-2d9adf66dc6e"
      },
      "source": [
        "'''1 nm = 0.001 micro meter\n",
        "   1 nm = 0.0000001 cm\n",
        "   1 nm = 0.000000001 m\n",
        "   1 nm = 0.000000000001 km\n",
        "   1 nm = 0.000001 mm\n",
        "   1 nm = 0.0000000000006213 mile\n",
        "   1 nm = 0.000000001093 yard\n",
        "   1 nm = 0.000000003280 foot\n",
        "   1 nm = 0.00000003937 inch\n",
        "   1 nm = 0.0000000000005399 nautical mile'''\n",
        "\n",
        "unit = input(\"Please Enter Unit of Measuremnt \")\n",
        "dist = float(input('Please enter Distance '))\n",
        "\n",
        "if (unit == 'nm'):\n",
        "  print('nm to micro meter =', dist*0.001)\n",
        "  print('nm to cm =', dist*0.0000001)\n",
        "  print('nm to m =', dist*0.000000001)\n",
        "  print('nm to km =', dist*0.000000000001)\n",
        "  print('nm to mm =', dist*0.000001)\n",
        "  print('nm to mile =', dist*0.000000000006213)\n",
        "  print('nm to yard =', dist*0.000000001093)\n",
        "  print('nm to foot =', dist*0.000000003280)\n",
        "  print('nm to inch =', dist*0.00000003937)\n",
        "  print('nm to nautical mile =', dist*0.0000000000005399)"
      ],
      "execution_count": null,
      "outputs": [
        {
          "output_type": "stream",
          "name": "stdout",
          "text": [
            "Please Enter Unit of Measuremnt nm\n",
            "Please enter Distance 1000\n",
            "nm to micro meter = 1.0\n",
            "nm to cm = 9.999999999999999e-05\n",
            "nm to m = 1.0000000000000002e-06\n",
            "nm to km = 1e-09\n",
            "nm to mm = 0.001\n",
            "nm to mile = 6.213e-09\n",
            "nm to yard = 1.093e-06\n",
            "nm to foot = 3.28e-06\n",
            "nm to inch = 3.9370000000000004e-05\n",
            "nm to nautical mile = 5.399e-10\n"
          ]
        }
      ]
    },
    {
      "cell_type": "code",
      "metadata": {
        "colab": {
          "base_uri": "https://localhost:8080/"
        },
        "id": "8tnrsn8m_93t",
        "outputId": "bbc7ee98-7712-4118-c04b-3dfeb86d3bba"
      },
      "source": [
        "unit = input(\"Please Enter Unit of Measuremnt \")\n",
        "dist = float(input('Please enter Distance '))\n",
        "\n",
        "if (unit == 'nm'):\n",
        "  print('nm to micro meter =', dist*0.001)\n",
        "  print('nm to cm =', dist*0.0000001)\n",
        "  print('nm to m =', dist*0.000000001)\n",
        "  print('nm to km =', dist*0.000000000001)\n",
        "  print('nm to mm =', dist*0.000001)\n",
        "  print('nm to mile =', dist*0.000000000006213)\n",
        "  print('nm to yard =', dist*0.000000001093)\n",
        "  print('nm to foot =', dist*0.000000003280)\n",
        "  print('nm to inch =', dist*0.00000003937)\n",
        "  print('nm to nautical mile =', dist*0.0000000000005399)"
      ],
      "execution_count": null,
      "outputs": [
        {
          "output_type": "stream",
          "name": "stdout",
          "text": [
            "Please Enter Unit of Measuremnt nm\n",
            "Please enter Distance 12345\n",
            "nm to micro meter = 12.345\n",
            "nm to cm = 0.0012345\n",
            "nm to m = 1.2345000000000001e-05\n",
            "nm to km = 1.2344999999999999e-08\n",
            "nm to mm = 0.012345\n",
            "nm to mile = 7.6699485e-08\n",
            "nm to yard = 1.3493085e-05\n",
            "nm to foot = 4.04916e-05\n",
            "nm to inch = 0.00048602265\n",
            "nm to nautical mile = 6.665065499999999e-09\n"
          ]
        }
      ]
    },
    {
      "cell_type": "code",
      "metadata": {
        "colab": {
          "base_uri": "https://localhost:8080/"
        },
        "id": "auXYzXFpHx82",
        "outputId": "c70ae41f-2245-42e4-bcc8-5f607d7db83d"
      },
      "source": [
        "'''1 mile = 1609000000 micro meter\n",
        "   1 mile = 160934 cm\n",
        "   1 mile = 1609.34 m\n",
        "   1 mile = 1.609 km\n",
        "   1 mile = 1609000000000 nano meter\n",
        "   1 mile = 1609340 mm\n",
        "   1 mile = 1760 yard\n",
        "   1 mile = 5280 foot\n",
        "   1 mile = 63360 inch\n",
        "   1 mile = 0.8689 nautical mile'''\n",
        "\n",
        "unit = input(\"Please Enter Unit of Measuremnt \")\n",
        "dist = float(input('Please enter Distance '))\n",
        "\n",
        "if (unit == 'mile'):\n",
        "  print('mile to micro meter =', dist*1609000000)\n",
        "  print('mile to cm =', dist*160934)\n",
        "  print('mile to m =', dist*1609.34)\n",
        "  print('mile to km =', dist*1.609)\n",
        "  print('mile to nano meter =', dist*1609000000000)\n",
        "  print('mile to mm =', dist*1609340)\n",
        "  print('mm to yard =', dist*1760)\n",
        "  print('mm to foot =', dist*5280)\n",
        "  print('mm to inch =', dist*63360)\n",
        "  print('mm to nautical mile =', dist*0.8689)"
      ],
      "execution_count": 65,
      "outputs": [
        {
          "output_type": "stream",
          "name": "stdout",
          "text": [
            "Please Enter Unit of Measuremnt mile\n",
            "Please enter Distance 1000\n",
            "mile to micro meter = 1609000000000.0\n",
            "mile to cm = 160934000.0\n",
            "mile to m = 1609340.0\n",
            "mile to km = 1609.0\n",
            "mile to nano meter = 1609000000000000.0\n",
            "mile to mm = 1609340000.0\n",
            "mm to yard = 1760000.0\n",
            "mm to foot = 5280000.0\n",
            "mm to inch = 63360000.0\n",
            "mm to nautical mile = 868.9\n"
          ]
        }
      ]
    },
    {
      "cell_type": "code",
      "metadata": {
        "colab": {
          "base_uri": "https://localhost:8080/"
        },
        "id": "pUvSsmOOKUDb",
        "outputId": "191ef192-aceb-4987-bccb-6042b1833947"
      },
      "source": [
        "unit = input(\"Please Enter Unit of Measuremnt \")\n",
        "dist = float(input('Please enter Distance '))\n",
        "\n",
        "if (unit == 'mile'):\n",
        "  print('mile to micro meter =', dist*1609000000)\n",
        "  print('mile to cm =', dist*160934)\n",
        "  print('mile to m =', dist*1609.34)\n",
        "  print('mile to km =', dist*1.609)\n",
        "  print('mile to nano meter =', dist*1609000000000)\n",
        "  print('mile to mm =', dist*1609340)\n",
        "  print('mm to yard =', dist*1760)\n",
        "  print('mm to foot =', dist*5280)\n",
        "  print('mm to inch =', dist*63360)\n",
        "  print('mm to nautical mile =', dist*0.8689)"
      ],
      "execution_count": 68,
      "outputs": [
        {
          "output_type": "stream",
          "name": "stdout",
          "text": [
            "Please Enter Unit of Measuremnt mile\n",
            "Please enter Distance 12345\n",
            "mile to micro meter = 19863105000000.0\n",
            "mile to cm = 1986730230.0\n",
            "mile to m = 19867302.3\n",
            "mile to km = 19863.105\n",
            "mile to nano meter = 1.9863105e+16\n",
            "mile to mm = 19867302300.0\n",
            "mm to yard = 21727200.0\n",
            "mm to foot = 65181600.0\n",
            "mm to inch = 782179200.0\n",
            "mm to nautical mile = 10726.5705\n"
          ]
        }
      ]
    },
    {
      "cell_type": "code",
      "metadata": {
        "colab": {
          "base_uri": "https://localhost:8080/"
        },
        "id": "2X3l4X_TKesi",
        "outputId": "321dbae4-d154-4a22-a84e-f20ba4085328"
      },
      "source": [
        "'''1 yard = 914400 micro meter\n",
        "   1 yard = 91.44 cm\n",
        "   1 yard = 0.9144 m\n",
        "   1 yard = 0.0009144 km\n",
        "   1 yard = 914400000 nano meter\n",
        "   1 yard = 0.0005681 mile\n",
        "   1 yard = 914.4 mm\n",
        "   1 yard = 3 foot\n",
        "   1 yard = 36 inch\n",
        "   1 yard = 0.0004937 nautical mile'''\n",
        "\n",
        "unit = input(\"Please Enter Unit of Measuremnt \")\n",
        "dist = float(input('Please enter Distance '))\n",
        "\n",
        "if (unit == 'yard'):\n",
        "  print('yard to micro meter =', dist*914400)\n",
        "  print('yard to cm =', dist*91.44)\n",
        "  print('yard to m =', dist*0.9144)\n",
        "  print('yard to km =', dist*0.0009144)\n",
        "  print('yard to nano meter =', dist*914400000)\n",
        "  print('yard to mile =', dist*0.0005681)\n",
        "  print('yard to mm =', dist*914.4)\n",
        "  print('yard to foot =', dist*3)\n",
        "  print('yard to inch =', dist*36)\n",
        "  print('yard to nautical mile =', dist*0.0004937)"
      ],
      "execution_count": 69,
      "outputs": [
        {
          "output_type": "stream",
          "name": "stdout",
          "text": [
            "Please Enter Unit of Measuremnt yard\n",
            "Please enter Distance 1000\n",
            "yard to micro meter = 914400000.0\n",
            "yard to cm = 91440.0\n",
            "yard to m = 914.4\n",
            "yard to km = 0.9144\n",
            "yard to nano meter = 914400000000.0\n",
            "yard to mile = 0.5680999999999999\n",
            "yard to mm = 914400.0\n",
            "yard to foot = 3000.0\n",
            "yard to inch = 36000.0\n",
            "yard to nautical mile = 0.4937\n"
          ]
        }
      ]
    },
    {
      "cell_type": "code",
      "metadata": {
        "colab": {
          "base_uri": "https://localhost:8080/"
        },
        "id": "m3kx0QMSMSRl",
        "outputId": "cabdaf78-d245-4240-bb41-367e5dbc7d42"
      },
      "source": [
        "unit = input(\"Please Enter Unit of Measuremnt \")\n",
        "dist = float(input('Please enter Distance '))\n",
        "\n",
        "if (unit == 'yard'):\n",
        "  print('yard to micro meter =', dist*914400)\n",
        "  print('yard to cm =', dist*91.44)\n",
        "  print('yard to m =', dist*0.9144)\n",
        "  print('yard to km =', dist*0.0009144)\n",
        "  print('yard to nano meter =', dist*914400000)\n",
        "  print('yard to mile =', dist*0.0005681)\n",
        "  print('yard to mm =', dist*914.4)\n",
        "  print('yard to foot =', dist*3)\n",
        "  print('yard to inch =', dist*36)\n",
        "  print('yard to nautical mile =', dist*0.0004937)"
      ],
      "execution_count": 70,
      "outputs": [
        {
          "output_type": "stream",
          "name": "stdout",
          "text": [
            "Please Enter Unit of Measuremnt yard\n",
            "Please enter Distance 12345\n",
            "yard to micro meter = 11288268000.0\n",
            "yard to cm = 1128826.8\n",
            "yard to m = 11288.268\n",
            "yard to km = 11.288268\n",
            "yard to nano meter = 11288268000000.0\n",
            "yard to mile = 7.0131945\n",
            "yard to mm = 11288268.0\n",
            "yard to foot = 37035.0\n",
            "yard to inch = 444420.0\n",
            "yard to nautical mile = 6.0947265\n"
          ]
        }
      ]
    },
    {
      "cell_type": "code",
      "metadata": {
        "colab": {
          "base_uri": "https://localhost:8080/"
        },
        "id": "gC8NtiaDMdF9",
        "outputId": "3606e9ba-6001-418e-8822-0df6fb22a181"
      },
      "source": [
        "'''1 foot = 304800 micro meter\n",
        "   1 foot = 30.48 cm\n",
        "   1 foot = 0.3048 m\n",
        "   1 foot = 0.0003048 km\n",
        "   1 foot = 308400000 nano meter\n",
        "   1 foot = 0.0001893 mile\n",
        "   1 foot = 0.33333 yard\n",
        "   1 foot = 304.8 mm\n",
        "   1 foot = 12 inch\n",
        "   1 foot = 0.000164579 nautical mile'''\n",
        "\n",
        "unit = input(\"Please Enter Unit of Measuremnt \")\n",
        "dist = float(input('Please enter Distance '))\n",
        "\n",
        "if (unit == 'foot'):\n",
        "  print('foot to micro meter =', dist*304800)\n",
        "  print('foot to cm =', dist*30.48)\n",
        "  print('foot to m =', dist*0.3048)\n",
        "  print('foot to km =', dist*0.0003048)\n",
        "  print('foot to nano meter =', dist*308400000)\n",
        "  print('foot to mile =', dist*0.0001893)\n",
        "  print('foot to yard =', dist*0.3333)\n",
        "  print('foot to mm =', dist*304.8)\n",
        "  print('foot to inch =', dist*12)\n",
        "  print('foot to nautical mile =', dist*0.000164579)"
      ],
      "execution_count": 71,
      "outputs": [
        {
          "output_type": "stream",
          "name": "stdout",
          "text": [
            "Please Enter Unit of Measuremnt foot\n",
            "Please enter Distance 1000\n",
            "foot to micro meter = 304800000.0\n",
            "foot to cm = 30480.0\n",
            "foot to m = 304.8\n",
            "foot to km = 0.30479999999999996\n",
            "foot to nano meter = 308400000000.0\n",
            "foot to mile = 0.1893\n",
            "foot to yard = 333.3\n",
            "foot to mm = 304800.0\n",
            "foot to inch = 12000.0\n",
            "foot to nautical mile = 0.164579\n"
          ]
        }
      ]
    },
    {
      "cell_type": "code",
      "metadata": {
        "colab": {
          "base_uri": "https://localhost:8080/"
        },
        "id": "fMhGAnfhOHWG",
        "outputId": "65c10169-1e8f-4da4-e42c-e22199426968"
      },
      "source": [
        "unit = input(\"Please Enter Unit of Measuremnt \")\n",
        "dist = float(input('Please enter Distance '))\n",
        "\n",
        "if (unit == 'foot'):\n",
        "  print('foot to micro meter =', dist*304800)\n",
        "  print('foot to cm =', dist*30.48)\n",
        "  print('foot to m =', dist*0.3048)\n",
        "  print('foot to km =', dist*0.0003048)\n",
        "  print('foot to nano meter =', dist*308400000)\n",
        "  print('foot to mile =', dist*0.0001893)\n",
        "  print('foot to yard =', dist*0.3333)\n",
        "  print('foot to mm =', dist*304.8)\n",
        "  print('foot to inch =', dist*12)\n",
        "  print('foot to nautical mile =', dist*0.000164579)"
      ],
      "execution_count": 72,
      "outputs": [
        {
          "output_type": "stream",
          "name": "stdout",
          "text": [
            "Please Enter Unit of Measuremnt foot\n",
            "Please enter Distance 12345\n",
            "foot to micro meter = 3762756000.0\n",
            "foot to cm = 376275.6\n",
            "foot to m = 3762.7560000000003\n",
            "foot to km = 3.762756\n",
            "foot to nano meter = 3807198000000.0\n",
            "foot to mile = 2.3369085\n",
            "foot to yard = 4114.5885\n",
            "foot to mm = 3762756.0\n",
            "foot to inch = 148140.0\n",
            "foot to nautical mile = 2.0317277550000004\n"
          ]
        }
      ]
    },
    {
      "cell_type": "code",
      "metadata": {
        "colab": {
          "base_uri": "https://localhost:8080/"
        },
        "id": "tR-MZ9wPOMmZ",
        "outputId": "3af3360d-3b32-4dda-ab30-25ce6cec6907"
      },
      "source": [
        "'''1 inch = 25400 micro meter\n",
        "   1 inch = 2.54 cm\n",
        "   1 inch = 0.0254 m\n",
        "   1 inch = 0.0000254 km\n",
        "   1 inch = 25400000 nano meter\n",
        "   1 inch = 0.000015783 mile\n",
        "   1 inch = 0.027777 yard\n",
        "   1 inch = 0.083333 foot\n",
        "   1 inch = 25.4 mm\n",
        "   1 inch = 0.00001371 nautical mile'''\n",
        "\n",
        "unit = input(\"Please Enter Unit of Measuremnt \")\n",
        "dist = float(input('Please enter Distance '))\n",
        "\n",
        "if (unit == 'inch'):\n",
        "  print('inch to micro meter =', dist*25400)\n",
        "  print('inch to cm =', dist*2.54)\n",
        "  print('inch to m =', dist*0.0254)\n",
        "  print('inch to km =', dist*0.0000254)\n",
        "  print('inch to nano meter =', dist*25400000)\n",
        "  print('inch to mile =', dist*0.000015783)\n",
        "  print('inch to yard =', dist*0.027777)\n",
        "  print('inch to foot =', dist*0.083333)\n",
        "  print('inch to mm =', dist*25.4)\n",
        "  print('inch to nautical mile =', dist*0.00001371)"
      ],
      "execution_count": 73,
      "outputs": [
        {
          "output_type": "stream",
          "name": "stdout",
          "text": [
            "Please Enter Unit of Measuremnt inch\n",
            "Please enter Distance 1000\n",
            "inch to micro meter = 25400000.0\n",
            "inch to cm = 2540.0\n",
            "inch to m = 25.4\n",
            "inch to km = 0.025400000000000002\n",
            "inch to nano meter = 25400000000.0\n",
            "inch to mile = 0.015783000000000002\n",
            "inch to yard = 27.777\n",
            "inch to foot = 83.333\n",
            "inch to mm = 25400.0\n",
            "inch to nautical mile = 0.01371\n"
          ]
        }
      ]
    },
    {
      "cell_type": "code",
      "metadata": {
        "colab": {
          "base_uri": "https://localhost:8080/"
        },
        "id": "DzWFmj6ZQLl4",
        "outputId": "81889b59-dce0-4ad9-862f-231fa7957cc3"
      },
      "source": [
        "unit = input(\"Please Enter Unit of Measuremnt \")\n",
        "dist = float(input('Please enter Distance '))\n",
        "\n",
        "if (unit == 'inch'):\n",
        "  print('inch to micro meter =', dist*25400)\n",
        "  print('inch to cm =', dist*2.54)\n",
        "  print('inch to m =', dist*0.0254)\n",
        "  print('inch to km =', dist*0.0000254)\n",
        "  print('inch to nano meter =', dist*25400000)\n",
        "  print('inch to mile =', dist*0.000015783)\n",
        "  print('inch to yard =', dist*0.027777)\n",
        "  print('inch to foot =', dist*0.083333)\n",
        "  print('inch to mm =', dist*25.4)\n",
        "  print('inch to nautical mile =', dist*0.00001371)"
      ],
      "execution_count": 74,
      "outputs": [
        {
          "output_type": "stream",
          "name": "stdout",
          "text": [
            "Please Enter Unit of Measuremnt inch\n",
            "Please enter Distance 12345\n",
            "inch to micro meter = 313563000.0\n",
            "inch to cm = 31356.3\n",
            "inch to m = 313.563\n",
            "inch to km = 0.31356300000000004\n",
            "inch to nano meter = 313563000000.0\n",
            "inch to mile = 0.19484113500000003\n",
            "inch to yard = 342.907065\n",
            "inch to foot = 1028.745885\n",
            "inch to mm = 313563.0\n",
            "inch to nautical mile = 0.16924994999999998\n"
          ]
        }
      ]
    },
    {
      "cell_type": "code",
      "metadata": {
        "colab": {
          "base_uri": "https://localhost:8080/"
        },
        "id": "Nwikm-I1Qa4v",
        "outputId": "3ec56024-2f6a-4ed2-cb04-0f8ad0215c27"
      },
      "source": [
        "'''1 nautical mile = 1852000000 micro meter\n",
        "   1 nautical mile = 185200 cm\n",
        "   1 nautical mile = 1852 m\n",
        "   1 nautical mile = 1.852 km\n",
        "   1 nautical mile = 1852000000000 nano meter\n",
        "   1 nautical mile = 1.1507 mile\n",
        "   1 nautical mile = 2025.37 yard\n",
        "   1 nautical mile = 6076.12 foot\n",
        "   1 nautical mile = 72913.2 inch\n",
        "   1 nautical mile = 1852000 mm'''\n",
        "\n",
        "unit = input(\"Please Enter Unit of Measuremnt \")\n",
        "dist = float(input('Please enter Distance '))\n",
        "\n",
        "if (unit == 'nautical mile'):\n",
        "  print('nautical mile to micro meter =', dist*1852000000)\n",
        "  print('nautical mile to cm =', dist*185200)\n",
        "  print('nautical mile to m =', dist*1852)\n",
        "  print('nautical mile to km =', dist*1.852)\n",
        "  print('nautical mile to nano meter =', dist*1852000000000)\n",
        "  print('nautical mile to mile =', dist*1.1507)\n",
        "  print('nautical mile to yard =', dist*2025.37)\n",
        "  print('nautical mile to foot =', dist*6067.12)\n",
        "  print('nautical mile to inch =', dist*72913.2)\n",
        "  print('nautical mile to mm =', dist*1852000)"
      ],
      "execution_count": 75,
      "outputs": [
        {
          "output_type": "stream",
          "name": "stdout",
          "text": [
            "Please Enter Unit of Measuremnt nautical mile\n",
            "Please enter Distance 1000\n",
            "nautical mile to micro meter = 1852000000000.0\n",
            "nautical mile to cm = 185200000.0\n",
            "nautical mile to m = 1852000.0\n",
            "nautical mile to km = 1852.0\n",
            "nautical mile to nano meter = 1852000000000000.0\n",
            "nautical mile to mile = 1150.7\n",
            "nautical mile to yard = 2025370.0\n",
            "nautical mile to foot = 6067120.0\n",
            "nautical mile to inch = 72913200.0\n",
            "nautical mile to mm = 1852000000.0\n"
          ]
        }
      ]
    },
    {
      "cell_type": "code",
      "metadata": {
        "colab": {
          "base_uri": "https://localhost:8080/"
        },
        "id": "XDXGukOIR0YW",
        "outputId": "62a03f83-4852-4a95-81f4-47a0f4dcfb17"
      },
      "source": [
        "unit = input(\"Please Enter Unit of Measuremnt \")\n",
        "dist = float(input('Please enter Distance '))\n",
        "\n",
        "if (unit == 'nautical mile'):\n",
        "  print('nautical mile to micro meter =', dist*1852000000)\n",
        "  print('nautical mile to cm =', dist*185200)\n",
        "  print('nautical mile to m =', dist*1852)\n",
        "  print('nautical mile to km =', dist*1.852)\n",
        "  print('nautical mile to nano meter =', dist*1852000000000)\n",
        "  print('nautical mile to mile =', dist*1.1507)\n",
        "  print('nautical mile to yard =', dist*2025.37)\n",
        "  print('nautical mile to foot =', dist*6067.12)\n",
        "  print('nautical mile to inch =', dist*72913.2)\n",
        "  print('nautical mile to mm =', dist*1852000)"
      ],
      "execution_count": 76,
      "outputs": [
        {
          "output_type": "stream",
          "name": "stdout",
          "text": [
            "Please Enter Unit of Measuremnt nautical mile\n",
            "Please enter Distance 12345\n",
            "nautical mile to micro meter = 22862940000000.0\n",
            "nautical mile to cm = 2286294000.0\n",
            "nautical mile to m = 22862940.0\n",
            "nautical mile to km = 22862.940000000002\n",
            "nautical mile to nano meter = 2.286294e+16\n",
            "nautical mile to mile = 14205.391500000002\n",
            "nautical mile to yard = 25003192.65\n",
            "nautical mile to foot = 74898596.4\n",
            "nautical mile to inch = 900113454.0\n",
            "nautical mile to mm = 22862940000.0\n"
          ]
        }
      ]
    }
  ]
}