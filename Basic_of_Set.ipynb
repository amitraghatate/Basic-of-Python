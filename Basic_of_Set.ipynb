{
  "nbformat": 4,
  "nbformat_minor": 0,
  "metadata": {
    "colab": {
      "name": "Basic of Set.ipynb",
      "provenance": [],
      "collapsed_sections": [],
      "authorship_tag": "ABX9TyNO/aX4PK7+T7lrukdqs5oS",
      "include_colab_link": true
    },
    "kernelspec": {
      "display_name": "Python 3",
      "name": "python3"
    },
    "language_info": {
      "name": "python"
    }
  },
  "cells": [
    {
      "cell_type": "markdown",
      "metadata": {
        "id": "view-in-github",
        "colab_type": "text"
      },
      "source": [
        "<a href=\"https://colab.research.google.com/github/amitraghatate/Basic-of-Python/blob/Data-Types/Basic_of_Set.ipynb\" target=\"_parent\"><img src=\"https://colab.research.google.com/assets/colab-badge.svg\" alt=\"Open In Colab\"/></a>"
      ]
    },
    {
      "cell_type": "markdown",
      "metadata": {
        "id": "0Q-paPSImmUD"
      },
      "source": [
        "#Set = { } , It is Mutable "
      ]
    },
    {
      "cell_type": "code",
      "metadata": {
        "colab": {
          "base_uri": "https://localhost:8080/"
        },
        "id": "AuiIMpU4mUmu",
        "outputId": "0a752044-4e45-4898-c222-5e33701ffd0b"
      },
      "source": [
        "var_set = {1,2,3,4,5,6,7}\n",
        "print(var_set)\n",
        "print(type(var_set))"
      ],
      "execution_count": 74,
      "outputs": [
        {
          "output_type": "stream",
          "name": "stdout",
          "text": [
            "{1, 2, 3, 4, 5, 6, 7}\n",
            "<class 'set'>\n"
          ]
        }
      ]
    },
    {
      "cell_type": "code",
      "metadata": {
        "colab": {
          "base_uri": "https://localhost:8080/"
        },
        "id": "t-eZfL2ani_M",
        "outputId": "e07d09a8-cd85-4854-9a9b-f8088d3da7bb"
      },
      "source": [
        "#Odd Condition\n",
        "var_set = {}\n",
        "print(var_set)\n",
        "print(type(var_set))"
      ],
      "execution_count": 75,
      "outputs": [
        {
          "output_type": "stream",
          "name": "stdout",
          "text": [
            "{}\n",
            "<class 'dict'>\n"
          ]
        }
      ]
    },
    {
      "cell_type": "code",
      "metadata": {
        "colab": {
          "base_uri": "https://localhost:8080/"
        },
        "id": "f5TTH-xqnzaa",
        "outputId": "3935ca1b-9f4a-4699-ae5f-18e7250abcd6"
      },
      "source": [
        "var_set = {1,2,3,4,5,6,7,8,1,2,3,1,5,2,3,1,3}\n",
        "print(var_set)\n",
        "print(type(var_set))\n",
        "print(len(var_set))"
      ],
      "execution_count": 76,
      "outputs": [
        {
          "output_type": "stream",
          "name": "stdout",
          "text": [
            "{1, 2, 3, 4, 5, 6, 7, 8}\n",
            "<class 'set'>\n",
            "8\n"
          ]
        }
      ]
    },
    {
      "cell_type": "code",
      "metadata": {
        "colab": {
          "base_uri": "https://localhost:8080/"
        },
        "id": "hY2AdnhCoSnk",
        "outputId": "47fab2d7-9cf6-4856-dbd3-ac897f55d56c"
      },
      "source": [
        "var_set = {'Apple', 'Banana', 'Cherries', 'Dates', 'Eggfruits', ' Fig', 'Grapes'}\n",
        "var_set"
      ],
      "execution_count": 77,
      "outputs": [
        {
          "output_type": "execute_result",
          "data": {
            "text/plain": [
              "{' Fig', 'Apple', 'Banana', 'Cherries', 'Dates', 'Eggfruits', 'Grapes'}"
            ]
          },
          "metadata": {},
          "execution_count": 77
        }
      ]
    },
    {
      "cell_type": "code",
      "metadata": {
        "colab": {
          "base_uri": "https://localhost:8080/"
        },
        "id": "LOKT-azQpMgm",
        "outputId": "00f37cb4-b86b-475e-9293-a1e2a69eb7a9"
      },
      "source": [
        "#Function of Set\n",
        "var_set.add('Mangoes')\n",
        "print(var_set) "
      ],
      "execution_count": 78,
      "outputs": [
        {
          "output_type": "stream",
          "name": "stdout",
          "text": [
            "{'Banana', ' Fig', 'Mangoes', 'Eggfruits', 'Dates', 'Apple', 'Grapes', 'Cherries'}\n"
          ]
        }
      ]
    },
    {
      "cell_type": "code",
      "metadata": {
        "colab": {
          "base_uri": "https://localhost:8080/"
        },
        "id": "9XXIQhEWqJEP",
        "outputId": "618011d8-a335-4439-b2fa-4f78e9afb7cf"
      },
      "source": [
        "var_set.clear()\n",
        "var_set"
      ],
      "execution_count": 79,
      "outputs": [
        {
          "output_type": "execute_result",
          "data": {
            "text/plain": [
              "set()"
            ]
          },
          "metadata": {},
          "execution_count": 79
        }
      ]
    },
    {
      "cell_type": "code",
      "metadata": {
        "colab": {
          "base_uri": "https://localhost:8080/"
        },
        "id": "CPRwkL14qxCh",
        "outputId": "a50d321e-3217-4d12-fe05-e352218248bd"
      },
      "source": [
        "var_set = {'Apple', 'Banana', 'Cherries', 'Dates', 'Eggfruits', ' Fig', 'Grapes'}\n",
        "var_set_cp = var_set.copy()\n",
        "print(var_set)\n",
        "print(var_set_cp)"
      ],
      "execution_count": 80,
      "outputs": [
        {
          "output_type": "stream",
          "name": "stdout",
          "text": [
            "{'Banana', ' Fig', 'Eggfruits', 'Dates', 'Apple', 'Grapes', 'Cherries'}\n",
            "{'Banana', 'Eggfruits', ' Fig', 'Dates', 'Apple', 'Grapes', 'Cherries'}\n"
          ]
        }
      ]
    },
    {
      "cell_type": "code",
      "metadata": {
        "colab": {
          "base_uri": "https://localhost:8080/"
        },
        "id": "fYct3E-Us0j-",
        "outputId": "f428fa51-1898-465f-9cb9-ea1e58228635"
      },
      "source": [
        "a = {1,2,3,4,5,6,7,8,9,10}\n",
        "b = {6,7,8,9,10,11,12,13,14,15}\n",
        "print(a.difference(b))\n",
        "print(b.difference(a))"
      ],
      "execution_count": 81,
      "outputs": [
        {
          "output_type": "stream",
          "name": "stdout",
          "text": [
            "{1, 2, 3, 4, 5}\n",
            "{11, 12, 13, 14, 15}\n"
          ]
        }
      ]
    },
    {
      "cell_type": "code",
      "metadata": {
        "colab": {
          "base_uri": "https://localhost:8080/"
        },
        "id": "j_GXiIkBtrqs",
        "outputId": "e563e164-893c-4961-9881-59f4897790e1"
      },
      "source": [
        "a.difference_update(b)\n",
        "print(a)\n",
        "print(b)"
      ],
      "execution_count": 82,
      "outputs": [
        {
          "output_type": "stream",
          "name": "stdout",
          "text": [
            "{1, 2, 3, 4, 5}\n",
            "{6, 7, 8, 9, 10, 11, 12, 13, 14, 15}\n"
          ]
        }
      ]
    },
    {
      "cell_type": "code",
      "metadata": {
        "colab": {
          "base_uri": "https://localhost:8080/"
        },
        "id": "NRltyysxuLXv",
        "outputId": "c84d7916-f20f-4f69-80b8-49cbb91fab51"
      },
      "source": [
        "b.difference_update(a)\n",
        "print(a)\n",
        "print(b)"
      ],
      "execution_count": 83,
      "outputs": [
        {
          "output_type": "stream",
          "name": "stdout",
          "text": [
            "{1, 2, 3, 4, 5}\n",
            "{6, 7, 8, 9, 10, 11, 12, 13, 14, 15}\n"
          ]
        }
      ]
    },
    {
      "cell_type": "code",
      "metadata": {
        "colab": {
          "base_uri": "https://localhost:8080/"
        },
        "id": "KRUVBorZutr4",
        "outputId": "23f1f13d-bce7-4118-9864-4d9e025e6631"
      },
      "source": [
        "a = {1,2,3,4,5,6,7,8,9,10}\n",
        "a.discard(4)\n",
        "print(a)"
      ],
      "execution_count": 84,
      "outputs": [
        {
          "output_type": "stream",
          "name": "stdout",
          "text": [
            "{1, 2, 3, 5, 6, 7, 8, 9, 10}\n"
          ]
        }
      ]
    },
    {
      "cell_type": "code",
      "metadata": {
        "colab": {
          "base_uri": "https://localhost:8080/"
        },
        "id": "NL-pjxW2vWV1",
        "outputId": "609a7f90-32b6-4ed1-870a-b36bb465df7e"
      },
      "source": [
        "a.discard(12)\n",
        "a"
      ],
      "execution_count": 85,
      "outputs": [
        {
          "output_type": "execute_result",
          "data": {
            "text/plain": [
              "{1, 2, 3, 5, 6, 7, 8, 9, 10}"
            ]
          },
          "metadata": {},
          "execution_count": 85
        }
      ]
    },
    {
      "cell_type": "code",
      "metadata": {
        "colab": {
          "base_uri": "https://localhost:8080/"
        },
        "id": "nanNWasZvcn1",
        "outputId": "5e184f77-c638-4f0a-8a70-0e6ef0a41f2c"
      },
      "source": [
        "a = {1,2,3,4,5,6,7,8,9}\n",
        "b = {5,6,7,8,9,10,11,12,13}\n",
        "c = a.intersection(b)\n",
        "c"
      ],
      "execution_count": 86,
      "outputs": [
        {
          "output_type": "execute_result",
          "data": {
            "text/plain": [
              "{5, 6, 7, 8, 9}"
            ]
          },
          "metadata": {},
          "execution_count": 86
        }
      ]
    },
    {
      "cell_type": "code",
      "metadata": {
        "colab": {
          "base_uri": "https://localhost:8080/"
        },
        "id": "TMLQy9LNwHgl",
        "outputId": "4fad08d7-803a-4fb9-b097-6e5c46c474df"
      },
      "source": [
        "c = b.intersection(a)\n",
        "c"
      ],
      "execution_count": 87,
      "outputs": [
        {
          "output_type": "execute_result",
          "data": {
            "text/plain": [
              "{5, 6, 7, 8, 9}"
            ]
          },
          "metadata": {},
          "execution_count": 87
        }
      ]
    },
    {
      "cell_type": "code",
      "metadata": {
        "colab": {
          "base_uri": "https://localhost:8080/"
        },
        "id": "-awyZEZnwNPR",
        "outputId": "242d0ef6-ebd9-41d4-f312-c7b636f60c29"
      },
      "source": [
        "a.intersection_update(b)\n",
        "print(a,b)"
      ],
      "execution_count": 88,
      "outputs": [
        {
          "output_type": "stream",
          "name": "stdout",
          "text": [
            "{5, 6, 7, 8, 9} {5, 6, 7, 8, 9, 10, 11, 12, 13}\n"
          ]
        }
      ]
    },
    {
      "cell_type": "code",
      "metadata": {
        "colab": {
          "base_uri": "https://localhost:8080/"
        },
        "id": "uKzEVk57wbFT",
        "outputId": "3b41eebd-1f1e-40a2-cdf0-0972c0d1bf83"
      },
      "source": [
        "a = {1,2,3,4,5,6,7,8,9}\n",
        "b = {5,6,7,8,9,10,11,12,13}\n",
        "b.intersection_update(a)\n",
        "print(a,b)"
      ],
      "execution_count": 89,
      "outputs": [
        {
          "output_type": "stream",
          "name": "stdout",
          "text": [
            "{1, 2, 3, 4, 5, 6, 7, 8, 9} {5, 6, 7, 8, 9}\n"
          ]
        }
      ]
    },
    {
      "cell_type": "code",
      "metadata": {
        "colab": {
          "base_uri": "https://localhost:8080/"
        },
        "id": "o3EGdvNaxZVH",
        "outputId": "d070aa8c-ec2c-42c9-8f60-727c8780ecf8"
      },
      "source": [
        "a.isdisjoint(b)"
      ],
      "execution_count": 90,
      "outputs": [
        {
          "output_type": "execute_result",
          "data": {
            "text/plain": [
              "False"
            ]
          },
          "metadata": {},
          "execution_count": 90
        }
      ]
    },
    {
      "cell_type": "code",
      "metadata": {
        "colab": {
          "base_uri": "https://localhost:8080/"
        },
        "id": "D1SOzSm_x32k",
        "outputId": "6bf479b9-7b73-4307-9045-af9e5801a8f9"
      },
      "source": [
        "a = {1,2,3,4,5,6,7,8,9}\n",
        "b = {10,11,12,13,14,15,16,17,18}\n",
        "print(a.isdisjoint(b))\n",
        "print(b.isdisjoint(a))"
      ],
      "execution_count": 91,
      "outputs": [
        {
          "output_type": "stream",
          "name": "stdout",
          "text": [
            "True\n",
            "True\n"
          ]
        }
      ]
    },
    {
      "cell_type": "code",
      "metadata": {
        "colab": {
          "base_uri": "https://localhost:8080/"
        },
        "id": "tVC0JY4myXPx",
        "outputId": "f8e2cdde-b511-4623-f64e-7826c2736d12"
      },
      "source": [
        "a = {1,2,3,4,5,6,7,8,9}\n",
        "b = {5,6,7,8,9,10,11,12,13}\n",
        "print(a.issubset(b))\n",
        "print(b.issubset(a))"
      ],
      "execution_count": 92,
      "outputs": [
        {
          "output_type": "stream",
          "name": "stdout",
          "text": [
            "False\n",
            "False\n"
          ]
        }
      ]
    },
    {
      "cell_type": "code",
      "metadata": {
        "colab": {
          "base_uri": "https://localhost:8080/"
        },
        "id": "ogiSVJwGz5hw",
        "outputId": "e71c3837-6877-444d-c21d-e1d37febde90"
      },
      "source": [
        "a = {1,2,3}\n",
        "b = {1,2,3,4,5,6,7,8,9}\n",
        "print(a.issubset(b))\n",
        "print(b.issubset(a))"
      ],
      "execution_count": 93,
      "outputs": [
        {
          "output_type": "stream",
          "name": "stdout",
          "text": [
            "True\n",
            "False\n"
          ]
        }
      ]
    },
    {
      "cell_type": "code",
      "metadata": {
        "colab": {
          "base_uri": "https://localhost:8080/"
        },
        "id": "xvnvCilwzDne",
        "outputId": "d51b3d04-587c-46e9-beae-aab7cc65d954"
      },
      "source": [
        "a = {1,2,3,4,5,6,7,8,9}\n",
        "b = {1,2,3}\n",
        "print(a.issuperset(b))\n",
        "print(b.issuperset(a))"
      ],
      "execution_count": 94,
      "outputs": [
        {
          "output_type": "stream",
          "name": "stdout",
          "text": [
            "True\n",
            "False\n"
          ]
        }
      ]
    },
    {
      "cell_type": "code",
      "metadata": {
        "colab": {
          "base_uri": "https://localhost:8080/"
        },
        "id": "0SjLOvmo0rHw",
        "outputId": "b179993a-9477-464b-e1e2-56214696a689"
      },
      "source": [
        "a = {1,2,3,4,5,6,7,8,9}\n",
        "b = {1,2,3}\n",
        "a.pop()\n",
        "print(a)\n",
        "b.pop()\n",
        "print(b)\n",
        "b.pop()\n",
        "print(b)"
      ],
      "execution_count": 95,
      "outputs": [
        {
          "output_type": "stream",
          "name": "stdout",
          "text": [
            "{2, 3, 4, 5, 6, 7, 8, 9}\n",
            "{2, 3}\n",
            "{3}\n"
          ]
        }
      ]
    },
    {
      "cell_type": "code",
      "metadata": {
        "colab": {
          "base_uri": "https://localhost:8080/"
        },
        "id": "dWg6KLOo11Vv",
        "outputId": "4ab2da5a-48d5-4d59-bd85-9c55a3496727"
      },
      "source": [
        "a = {1,2,3,4,5,6,7,8,9}\n",
        "b = {1,2,3}\n",
        "a.remove(2)\n",
        "a"
      ],
      "execution_count": 96,
      "outputs": [
        {
          "output_type": "execute_result",
          "data": {
            "text/plain": [
              "{1, 3, 4, 5, 6, 7, 8, 9}"
            ]
          },
          "metadata": {},
          "execution_count": 96
        }
      ]
    },
    {
      "cell_type": "code",
      "metadata": {
        "colab": {
          "base_uri": "https://localhost:8080/"
        },
        "id": "2mcF0w5W2UUL",
        "outputId": "01c08e45-cb15-4e93-f119-dd8a7bef1e56"
      },
      "source": [
        "a = {1,2,3,4,5,6,7,8,9}\n",
        "b = {5,6,7,8,9,10,11,12,13}\n",
        "print(a.symmetric_difference(b))\n",
        "print(b.symmetric_difference(a))"
      ],
      "execution_count": 97,
      "outputs": [
        {
          "output_type": "stream",
          "name": "stdout",
          "text": [
            "{1, 2, 3, 4, 10, 11, 12, 13}\n",
            "{1, 2, 3, 4, 10, 11, 12, 13}\n"
          ]
        }
      ]
    },
    {
      "cell_type": "code",
      "metadata": {
        "colab": {
          "base_uri": "https://localhost:8080/"
        },
        "id": "27UqzXbU3MGD",
        "outputId": "34e75f11-b5c3-4a1b-a786-5329a1cf5e11"
      },
      "source": [
        "a = {1,2,3,4,5,6,7,8,9}\n",
        "b = {5,6,7,8,9,10,11,12,13}\n",
        "c = {}\n",
        "print(a.symmetric_difference(c))\n",
        "print(b.symmetric_difference(c))"
      ],
      "execution_count": 98,
      "outputs": [
        {
          "output_type": "stream",
          "name": "stdout",
          "text": [
            "{1, 2, 3, 4, 5, 6, 7, 8, 9}\n",
            "{5, 6, 7, 8, 9, 10, 11, 12, 13}\n"
          ]
        }
      ]
    },
    {
      "cell_type": "code",
      "metadata": {
        "colab": {
          "base_uri": "https://localhost:8080/"
        },
        "id": "1-5AltxO3VZ3",
        "outputId": "b80a72b0-4327-444b-b453-4a4e0a59489e"
      },
      "source": [
        "a = {1,2,3,4,5,6,7,8,9}\n",
        "b = {5,6,7,8,9,10,11,12,13}\n",
        "a.symmetric_difference_update(b)\n",
        "print(a)\n",
        "print(b)"
      ],
      "execution_count": 109,
      "outputs": [
        {
          "output_type": "stream",
          "name": "stdout",
          "text": [
            "{1, 2, 3, 4, 10, 11, 12, 13}\n",
            "{5, 6, 7, 8, 9, 10, 11, 12, 13}\n"
          ]
        }
      ]
    },
    {
      "cell_type": "code",
      "metadata": {
        "colab": {
          "base_uri": "https://localhost:8080/"
        },
        "id": "08xlDKSi6RuG",
        "outputId": "fd5e99d0-8690-4d5a-d9d1-a59af9f079d5"
      },
      "source": [
        "a = {1,2,3,4,5,6,7,8,9}\n",
        "b = {5,6,7,8,9,10,11,12,13}\n",
        "b.symmetric_difference_update(a)\n",
        "print(b)"
      ],
      "execution_count": 111,
      "outputs": [
        {
          "output_type": "stream",
          "name": "stdout",
          "text": [
            "{1, 2, 3, 4, 10, 11, 12, 13}\n"
          ]
        }
      ]
    },
    {
      "cell_type": "code",
      "metadata": {
        "colab": {
          "base_uri": "https://localhost:8080/"
        },
        "id": "xJVjqYFX4Hry",
        "outputId": "88781133-a562-442b-a033-9f6c8f244320"
      },
      "source": [
        "a = {1,2,3,4,5,6,7,8,9}\n",
        "b = {5,6,7,8,9,10,11,12,13}\n",
        "a.union(b)"
      ],
      "execution_count": 104,
      "outputs": [
        {
          "output_type": "execute_result",
          "data": {
            "text/plain": [
              "{1, 2, 3, 4, 5, 6, 7, 8, 9, 10, 11, 12, 13}"
            ]
          },
          "metadata": {},
          "execution_count": 104
        }
      ]
    },
    {
      "cell_type": "code",
      "metadata": {
        "colab": {
          "base_uri": "https://localhost:8080/"
        },
        "id": "xst-k9_H5OuB",
        "outputId": "8b5ec396-f0d4-4e63-cd1e-c6b995159926"
      },
      "source": [
        "b.union(a)"
      ],
      "execution_count": 105,
      "outputs": [
        {
          "output_type": "execute_result",
          "data": {
            "text/plain": [
              "{1, 2, 3, 4, 5, 6, 7, 8, 9, 10, 11, 12, 13}"
            ]
          },
          "metadata": {},
          "execution_count": 105
        }
      ]
    },
    {
      "cell_type": "code",
      "metadata": {
        "colab": {
          "base_uri": "https://localhost:8080/"
        },
        "id": "mlUnDDWI5Rwj",
        "outputId": "70433138-8155-4f7b-ba92-1327be03dda4"
      },
      "source": [
        "a = {1,2,3,4,5,6,7,8,9}\n",
        "b = {5,6,7,8,9,10,11,12,13}\n",
        "a.update(b)\n",
        "print(a)\n",
        "print(b)"
      ],
      "execution_count": 112,
      "outputs": [
        {
          "output_type": "stream",
          "name": "stdout",
          "text": [
            "{1, 2, 3, 4, 5, 6, 7, 8, 9, 10, 11, 12, 13}\n",
            "{5, 6, 7, 8, 9, 10, 11, 12, 13}\n"
          ]
        }
      ]
    }
  ]
}