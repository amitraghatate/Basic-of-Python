{
  "nbformat": 4,
  "nbformat_minor": 0,
  "metadata": {
    "colab": {
      "name": "Loops, while & else.ipynb",
      "provenance": [],
      "authorship_tag": "ABX9TyMwEhdD7ZD42ySOipmjKl6t",
      "include_colab_link": true
    },
    "kernelspec": {
      "name": "python3",
      "display_name": "Python 3"
    },
    "language_info": {
      "name": "python"
    }
  },
  "cells": [
    {
      "cell_type": "markdown",
      "metadata": {
        "id": "view-in-github",
        "colab_type": "text"
      },
      "source": [
        "<a href=\"https://colab.research.google.com/github/amitraghatate/Basic-of-Python/blob/Conditional-Statement/Loops%2C_while_%26_else.ipynb\" target=\"_parent\"><img src=\"https://colab.research.google.com/assets/colab-badge.svg\" alt=\"Open In Colab\"/></a>"
      ]
    },
    {
      "cell_type": "code",
      "metadata": {
        "id": "Kei6AQczmN1f"
      },
      "source": [
        "'''Loops\n",
        "1) while\n",
        "2) for'''"
      ],
      "execution_count": null,
      "outputs": []
    },
    {
      "cell_type": "code",
      "metadata": {
        "colab": {
          "base_uri": "https://localhost:8080/"
        },
        "id": "xh6p_o8GmlX_",
        "outputId": "99664a28-d99e-4bee-b2ae-24220df1870e"
      },
      "source": [
        "#while\n",
        "a = 10\n",
        "while (a<20):\n",
        "  print('Addition of Numbers:',a)\n",
        "  a+=1"
      ],
      "execution_count": 3,
      "outputs": [
        {
          "output_type": "stream",
          "name": "stdout",
          "text": [
            "Addition of Numbers: 10\n",
            "Addition of Numbers: 11\n",
            "Addition of Numbers: 12\n",
            "Addition of Numbers: 13\n",
            "Addition of Numbers: 14\n",
            "Addition of Numbers: 15\n",
            "Addition of Numbers: 16\n",
            "Addition of Numbers: 17\n",
            "Addition of Numbers: 18\n",
            "Addition of Numbers: 19\n"
          ]
        }
      ]
    },
    {
      "cell_type": "code",
      "metadata": {
        "colab": {
          "base_uri": "https://localhost:8080/"
        },
        "id": "HEllIHPLnI8U",
        "outputId": "c9d5fc00-0982-455a-cafb-664658bded37"
      },
      "source": [
        "a = 20\n",
        "while (a>10):\n",
        "  print('Subtration of Numbers:',a)\n",
        "  a-=1"
      ],
      "execution_count": 10,
      "outputs": [
        {
          "output_type": "stream",
          "name": "stdout",
          "text": [
            "Subtration of Numbers: 20\n",
            "Subtration of Numbers: 19\n",
            "Subtration of Numbers: 18\n",
            "Subtration of Numbers: 17\n",
            "Subtration of Numbers: 16\n",
            "Subtration of Numbers: 15\n",
            "Subtration of Numbers: 14\n",
            "Subtration of Numbers: 13\n",
            "Subtration of Numbers: 12\n",
            "Subtration of Numbers: 11\n"
          ]
        }
      ]
    },
    {
      "cell_type": "code",
      "metadata": {
        "colab": {
          "base_uri": "https://localhost:8080/"
        },
        "id": "ry_9p2OOoDBl",
        "outputId": "6d004ae3-4208-430a-bd83-c9fba1244956"
      },
      "source": [
        "#while and else\n",
        "a = 20\n",
        "while(a > 10):\n",
        "  print(\"Subtraction of Numbers:\",a)\n",
        "  a-=1\n",
        "else:\n",
        "  print(\"We are in else section\")"
      ],
      "execution_count": 11,
      "outputs": [
        {
          "output_type": "stream",
          "name": "stdout",
          "text": [
            "Subtraction of Numbers: 20\n",
            "Subtraction of Numbers: 19\n",
            "Subtraction of Numbers: 18\n",
            "Subtraction of Numbers: 17\n",
            "Subtraction of Numbers: 16\n",
            "Subtraction of Numbers: 15\n",
            "Subtraction of Numbers: 14\n",
            "Subtraction of Numbers: 13\n",
            "Subtraction of Numbers: 12\n",
            "Subtraction of Numbers: 11\n",
            "We are in else section\n"
          ]
        }
      ]
    },
    {
      "cell_type": "code",
      "metadata": {
        "colab": {
          "base_uri": "https://localhost:8080/"
        },
        "id": "hmUlCOmLojy9",
        "outputId": "97421a1c-3f4b-4a97-931d-f66748bd4fd0"
      },
      "source": [
        "#Break\n",
        "a = 20\n",
        "while(a > 10):\n",
        "  print(\"Subtraction of Numbers:\",a)\n",
        "  a-=1\n",
        "  if(a==15):\n",
        "    break\n",
        "else:\n",
        "  print(\"We are in else section\")"
      ],
      "execution_count": 12,
      "outputs": [
        {
          "output_type": "stream",
          "name": "stdout",
          "text": [
            "Subtraction of Numbers: 20\n",
            "Subtraction of Numbers: 19\n",
            "Subtraction of Numbers: 18\n",
            "Subtraction of Numbers: 17\n",
            "Subtraction of Numbers: 16\n"
          ]
        }
      ]
    },
    {
      "cell_type": "code",
      "metadata": {
        "colab": {
          "base_uri": "https://localhost:8080/"
        },
        "id": "4G4vS3Sco-QJ",
        "outputId": "764fe8a8-8b0b-4376-84af-fb8f96993a99"
      },
      "source": [
        "#Continue\n",
        "a = 20\n",
        "while(a>10):\n",
        "  a-=1\n",
        "  if(a==15):\n",
        "    continue                        #skip value 15\n",
        "  print('Subtration of Numbers:',a)\n",
        "else:\n",
        "  print('We are in else section')"
      ],
      "execution_count": 16,
      "outputs": [
        {
          "output_type": "stream",
          "name": "stdout",
          "text": [
            "Subtration of Numbers: 19\n",
            "Subtration of Numbers: 18\n",
            "Subtration of Numbers: 17\n",
            "Subtration of Numbers: 16\n",
            "Subtration of Numbers: 14\n",
            "Subtration of Numbers: 13\n",
            "Subtration of Numbers: 12\n",
            "Subtration of Numbers: 11\n",
            "Subtration of Numbers: 10\n",
            "We are in else section\n"
          ]
        }
      ]
    },
    {
      "cell_type": "code",
      "metadata": {
        "colab": {
          "base_uri": "https://localhost:8080/"
        },
        "id": "2tvFhIHHuZxj",
        "outputId": "59f62b61-52e9-41c4-e4c6-e5efcb1f7173"
      },
      "source": [
        "#Nested while\n",
        "lang = 'Java'\n",
        "db = 'Oracle'\n",
        "os = 'Unix'\n",
        "\n",
        "while(lang == 'Java'):\n",
        "  print('Java Programmer')\n",
        "  lang = None\n",
        "  while(db == 'Oracle'):\n",
        "    print('Oracle Database')\n",
        "    db = None\n",
        "    while(os == 'Unix'):\n",
        "      print('Unix operating system')\n",
        "      os = None"
      ],
      "execution_count": 32,
      "outputs": [
        {
          "output_type": "stream",
          "name": "stdout",
          "text": [
            "Java Programmer\n",
            "Oracle Database\n",
            "Unix operating system\n"
          ]
        }
      ]
    },
    {
      "cell_type": "code",
      "metadata": {
        "colab": {
          "base_uri": "https://localhost:8080/"
        },
        "id": "92YUvGANuiSr",
        "outputId": "084c5a6d-3a60-49a8-f045-e9261fc8e230"
      },
      "source": [
        "var_lst = [0,1,2,3,4,5,6,7,8,9,10]\n",
        "\n",
        "for i in var_lst:\n",
        "  print('Print List:',i)"
      ],
      "execution_count": 33,
      "outputs": [
        {
          "output_type": "stream",
          "name": "stdout",
          "text": [
            "Print List: 0\n",
            "Print List: 1\n",
            "Print List: 2\n",
            "Print List: 3\n",
            "Print List: 4\n",
            "Print List: 5\n",
            "Print List: 6\n",
            "Print List: 7\n",
            "Print List: 8\n",
            "Print List: 9\n",
            "Print List: 10\n"
          ]
        }
      ]
    },
    {
      "cell_type": "code",
      "metadata": {
        "colab": {
          "base_uri": "https://localhost:8080/"
        },
        "id": "M-knSvmnvFYp",
        "outputId": "33aea48e-ac8f-45d1-8dd1-37ce2c383d41"
      },
      "source": [
        "var_tup = [0,1,2,3,4,5,6,7,8,9,10]\n",
        "\n",
        "for i in var_tup:\n",
        "  print('Print Tuple:',i)"
      ],
      "execution_count": 34,
      "outputs": [
        {
          "output_type": "stream",
          "name": "stdout",
          "text": [
            "Print Tuple: 0\n",
            "Print Tuple: 1\n",
            "Print Tuple: 2\n",
            "Print Tuple: 3\n",
            "Print Tuple: 4\n",
            "Print Tuple: 5\n",
            "Print Tuple: 6\n",
            "Print Tuple: 7\n",
            "Print Tuple: 8\n",
            "Print Tuple: 9\n",
            "Print Tuple: 10\n"
          ]
        }
      ]
    },
    {
      "cell_type": "code",
      "metadata": {
        "colab": {
          "base_uri": "https://localhost:8080/"
        },
        "id": "R-O8C8dnwCYR",
        "outputId": "4b7eb60e-0dc6-4636-ff9e-822380eb1796"
      },
      "source": [
        "for i in range(0,11):\n",
        "  print('Print range:',i)"
      ],
      "execution_count": 36,
      "outputs": [
        {
          "output_type": "stream",
          "name": "stdout",
          "text": [
            "Print range: 0\n",
            "Print range: 1\n",
            "Print range: 2\n",
            "Print range: 3\n",
            "Print range: 4\n",
            "Print range: 5\n",
            "Print range: 6\n",
            "Print range: 7\n",
            "Print range: 8\n",
            "Print range: 9\n",
            "Print range: 10\n"
          ]
        }
      ]
    },
    {
      "cell_type": "code",
      "metadata": {
        "colab": {
          "base_uri": "https://localhost:8080/"
        },
        "id": "w-y8WQxyw7B1",
        "outputId": "f361bbdd-c034-47b8-db95-dcbe0a88c7b5"
      },
      "source": [
        "for i in ('Apple', 'Banana', 'Cherries', 'Dates', 'Eggfruit', 'Fig'):\n",
        "  print('Fruits:',i)"
      ],
      "execution_count": 42,
      "outputs": [
        {
          "output_type": "stream",
          "name": "stdout",
          "text": [
            "Fruits: Apple\n",
            "Fruits: Banana\n",
            "Fruits: Cherries\n",
            "Fruits: Dates\n",
            "Fruits: Eggfruit\n",
            "Fruits: Fig\n"
          ]
        }
      ]
    },
    {
      "cell_type": "code",
      "metadata": {
        "colab": {
          "base_uri": "https://localhost:8080/"
        },
        "id": "TBfQA_O_zYG2",
        "outputId": "8efe2306-a0ea-4a33-f4b7-85607367e081"
      },
      "source": [
        "for i in ('Apple', 'Banana', 'Cherries', 'Dates', 'Eggfruit', 'Fig'):\n",
        "  print(' Fruits:',i,end='')"
      ],
      "execution_count": 47,
      "outputs": [
        {
          "output_type": "stream",
          "name": "stdout",
          "text": [
            " Fruits: Apple Fruits: Banana Fruits: Cherries Fruits: Dates Fruits: Eggfruit Fruits: Fig"
          ]
        }
      ]
    },
    {
      "cell_type": "code",
      "metadata": {
        "colab": {
          "base_uri": "https://localhost:8080/"
        },
        "id": "vY4L0G9EyrBN",
        "outputId": "a1f9e951-2cc1-4d64-e813-510cb9644830"
      },
      "source": [
        "for i in ['Python', 'Programming']:\n",
        "  print('List -',i)"
      ],
      "execution_count": 43,
      "outputs": [
        {
          "output_type": "stream",
          "name": "stdout",
          "text": [
            "List - Python\n",
            "List - Programming\n"
          ]
        }
      ]
    },
    {
      "cell_type": "code",
      "metadata": {
        "colab": {
          "base_uri": "https://localhost:8080/"
        },
        "id": "0Gs2YO0MzPBg",
        "outputId": "33cbeb8f-63f9-4a81-9186-8bd89b719d07"
      },
      "source": [
        "for i in ['Python', 'Programming']:\n",
        "  print(i, end='')"
      ],
      "execution_count": 49,
      "outputs": [
        {
          "output_type": "stream",
          "name": "stdout",
          "text": [
            "PythonProgramming"
          ]
        }
      ]
    },
    {
      "cell_type": "code",
      "metadata": {
        "colab": {
          "base_uri": "https://localhost:8080/"
        },
        "id": "cUiWtLoqzxpL",
        "outputId": "e5f89b60-561e-4b16-e5ba-02d9086bc988"
      },
      "source": [
        "for i in ['Python', 'Programming']:\n",
        "  print(i, end=' ')"
      ],
      "execution_count": 50,
      "outputs": [
        {
          "output_type": "stream",
          "name": "stdout",
          "text": [
            "Python Programming "
          ]
        }
      ]
    },
    {
      "cell_type": "code",
      "metadata": {
        "colab": {
          "base_uri": "https://localhost:8080/"
        },
        "id": "EuJvNmIJz1UA",
        "outputId": "93b46be5-ec56-4248-e987-b4b08955f303"
      },
      "source": [
        "for i in ['P-y-t-h-o-n P-r-o-g-r-a-m-m-i-n-g']:\n",
        "  print(i, sep=' - ', end=' ')"
      ],
      "execution_count": 56,
      "outputs": [
        {
          "output_type": "stream",
          "name": "stdout",
          "text": [
            "P-y-t-h-o-n P-r-o-g-r-a-m-m-i-n-g "
          ]
        }
      ]
    }
  ]
}