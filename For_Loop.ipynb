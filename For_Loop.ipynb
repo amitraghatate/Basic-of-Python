{
  "nbformat": 4,
  "nbformat_minor": 0,
  "metadata": {
    "colab": {
      "name": "For Loop.ipynb",
      "provenance": [],
      "authorship_tag": "ABX9TyNhI3uIQEqr+8SZBsbOvfMw",
      "include_colab_link": true
    },
    "kernelspec": {
      "name": "python3",
      "display_name": "Python 3"
    },
    "language_info": {
      "name": "python"
    }
  },
  "cells": [
    {
      "cell_type": "markdown",
      "metadata": {
        "id": "view-in-github",
        "colab_type": "text"
      },
      "source": [
        "<a href=\"https://colab.research.google.com/github/amitraghatate/Basic-of-Python/blob/Conditional-Statement/For_Loop.ipynb\" target=\"_parent\"><img src=\"https://colab.research.google.com/assets/colab-badge.svg\" alt=\"Open In Colab\"/></a>"
      ]
    },
    {
      "cell_type": "code",
      "metadata": {
        "colab": {
          "base_uri": "https://localhost:8080/"
        },
        "id": "okaSt7aLA3Mv",
        "outputId": "14a2a950-29ee-4f56-a3eb-4cc1f34e684b"
      },
      "source": [
        "#for \n",
        "for i in range (0,10):\n",
        "  print('Value of i: ',i)"
      ],
      "execution_count": null,
      "outputs": [
        {
          "output_type": "stream",
          "name": "stdout",
          "text": [
            "Value of i:  0\n",
            "Value of i:  1\n",
            "Value of i:  2\n",
            "Value of i:  3\n",
            "Value of i:  4\n",
            "Value of i:  5\n",
            "Value of i:  6\n",
            "Value of i:  7\n",
            "Value of i:  8\n",
            "Value of i:  9\n"
          ]
        }
      ]
    },
    {
      "cell_type": "code",
      "metadata": {
        "colab": {
          "base_uri": "https://localhost:8080/"
        },
        "id": "-0JkoUpUBXZ2",
        "outputId": "ac95535e-f5c1-46b2-ce24-6c88576551a9"
      },
      "source": [
        "#for else\n",
        "for i in range (0,10):\n",
        "  print('Value of i: ',i)\n",
        "else:\n",
        "  print('We are in else section')"
      ],
      "execution_count": null,
      "outputs": [
        {
          "output_type": "stream",
          "name": "stdout",
          "text": [
            "Value of i:  0\n",
            "Value of i:  1\n",
            "Value of i:  2\n",
            "Value of i:  3\n",
            "Value of i:  4\n",
            "Value of i:  5\n",
            "Value of i:  6\n",
            "Value of i:  7\n",
            "Value of i:  8\n",
            "Value of i:  9\n",
            "We are in else section\n"
          ]
        }
      ]
    },
    {
      "cell_type": "code",
      "metadata": {
        "id": "LASAkYK5BhdF"
      },
      "source": [
        "#pass\n",
        "a=30\n",
        "if(a>20):\n",
        "  pass"
      ],
      "execution_count": null,
      "outputs": []
    },
    {
      "cell_type": "code",
      "metadata": {
        "colab": {
          "base_uri": "https://localhost:8080/"
        },
        "id": "7vuP7OTIB1RK",
        "outputId": "dff18d3f-2f2d-4adf-a3cf-c67580168502"
      },
      "source": [
        "#Break Statment\n",
        "for i in range (0,10):\n",
        "  print('Value of i: ',i)\n",
        "  if (i==5):\n",
        "    break\n",
        "else:\n",
        "  print('We are in else section')"
      ],
      "execution_count": null,
      "outputs": [
        {
          "output_type": "stream",
          "name": "stdout",
          "text": [
            "Value of i:  0\n",
            "Value of i:  1\n",
            "Value of i:  2\n",
            "Value of i:  3\n",
            "Value of i:  4\n",
            "Value of i:  5\n"
          ]
        }
      ]
    },
    {
      "cell_type": "code",
      "metadata": {
        "colab": {
          "base_uri": "https://localhost:8080/"
        },
        "id": "2ZnoLAsICBff",
        "outputId": "93590c7e-1e11-469c-a35a-e74ec8e1984b"
      },
      "source": [
        "#Continue Statment\n",
        "for i in range (0,10):\n",
        "  if (i==5):\n",
        "    continue\n",
        "  print('Value of i: ',i)\n",
        "else:\n",
        "  print('We are in else section')"
      ],
      "execution_count": null,
      "outputs": [
        {
          "output_type": "stream",
          "name": "stdout",
          "text": [
            "Value of i:  0\n",
            "Value of i:  1\n",
            "Value of i:  2\n",
            "Value of i:  3\n",
            "Value of i:  4\n",
            "Value of i:  6\n",
            "Value of i:  7\n",
            "Value of i:  8\n",
            "Value of i:  9\n",
            "We are in else section\n"
          ]
        }
      ]
    },
    {
      "cell_type": "code",
      "metadata": {
        "colab": {
          "base_uri": "https://localhost:8080/"
        },
        "id": "oo4xaR4ECtsr",
        "outputId": "4fd2c81a-099c-4c5f-b268-b1170887dd31"
      },
      "source": [
        "#Nested for\n",
        "for i in range (1,11):\n",
        "  for j in range (1,11):\n",
        "    print(i*j, end= ' ')\n",
        "  print('\\r')"
      ],
      "execution_count": null,
      "outputs": [
        {
          "output_type": "stream",
          "name": "stdout",
          "text": [
            "1 2 3 4 5 6 7 8 9 10 \r\n",
            "2 4 6 8 10 12 14 16 18 20 \r\n",
            "3 6 9 12 15 18 21 24 27 30 \r\n",
            "4 8 12 16 20 24 28 32 36 40 \r\n",
            "5 10 15 20 25 30 35 40 45 50 \r\n",
            "6 12 18 24 30 36 42 48 54 60 \r\n",
            "7 14 21 28 35 42 49 56 63 70 \r\n",
            "8 16 24 32 40 48 56 64 72 80 \r\n",
            "9 18 27 36 45 54 63 72 81 90 \r\n",
            "10 20 30 40 50 60 70 80 90 100 \r\n"
          ]
        }
      ]
    },
    {
      "cell_type": "code",
      "metadata": {
        "colab": {
          "base_uri": "https://localhost:8080/"
        },
        "id": "89gGlv51DdTo",
        "outputId": "7a9feec8-12de-47c6-a600-790bf44eb305"
      },
      "source": [
        "for i in range (10,0,-1):\n",
        "  print('Value of i: ', i)"
      ],
      "execution_count": null,
      "outputs": [
        {
          "output_type": "stream",
          "name": "stdout",
          "text": [
            "Value of i:  10\n",
            "Value of i:  9\n",
            "Value of i:  8\n",
            "Value of i:  7\n",
            "Value of i:  6\n",
            "Value of i:  5\n",
            "Value of i:  4\n",
            "Value of i:  3\n",
            "Value of i:  2\n",
            "Value of i:  1\n"
          ]
        }
      ]
    },
    {
      "cell_type": "code",
      "metadata": {
        "colab": {
          "base_uri": "https://localhost:8080/"
        },
        "id": "rblatMsyDy6K",
        "outputId": "5c836bc4-35d3-4bb2-cd77-a13c91669aee"
      },
      "source": [
        "for i in range (10,0,-1):\n",
        "  for j in range (10,0,-1):\n",
        "    print(i*j, end=' ')\n",
        "  print('\\n')"
      ],
      "execution_count": null,
      "outputs": [
        {
          "output_type": "stream",
          "name": "stdout",
          "text": [
            "100 90 80 70 60 50 40 30 20 10 \n",
            "\n",
            "90 81 72 63 54 45 36 27 18 9 \n",
            "\n",
            "80 72 64 56 48 40 32 24 16 8 \n",
            "\n",
            "70 63 56 49 42 35 28 21 14 7 \n",
            "\n",
            "60 54 48 42 36 30 24 18 12 6 \n",
            "\n",
            "50 45 40 35 30 25 20 15 10 5 \n",
            "\n",
            "40 36 32 28 24 20 16 12 8 4 \n",
            "\n",
            "30 27 24 21 18 15 12 9 6 3 \n",
            "\n",
            "20 18 16 14 12 10 8 6 4 2 \n",
            "\n",
            "10 9 8 7 6 5 4 3 2 1 \n",
            "\n"
          ]
        }
      ]
    },
    {
      "cell_type": "code",
      "metadata": {
        "colab": {
          "base_uri": "https://localhost:8080/"
        },
        "id": "fyoQCLWuEU1M",
        "outputId": "2cd72155-13e8-49da-91f8-7df179fdbfd7"
      },
      "source": [
        "for i in range (1,11,1):\n",
        "  for j in range (1,11,1):\n",
        "    print(i*j, end=' ')\n",
        "  print('\\n')"
      ],
      "execution_count": null,
      "outputs": [
        {
          "output_type": "stream",
          "name": "stdout",
          "text": [
            "1 2 3 4 5 6 7 8 9 10 \n",
            "\n",
            "2 4 6 8 10 12 14 16 18 20 \n",
            "\n",
            "3 6 9 12 15 18 21 24 27 30 \n",
            "\n",
            "4 8 12 16 20 24 28 32 36 40 \n",
            "\n",
            "5 10 15 20 25 30 35 40 45 50 \n",
            "\n",
            "6 12 18 24 30 36 42 48 54 60 \n",
            "\n",
            "7 14 21 28 35 42 49 56 63 70 \n",
            "\n",
            "8 16 24 32 40 48 56 64 72 80 \n",
            "\n",
            "9 18 27 36 45 54 63 72 81 90 \n",
            "\n",
            "10 20 30 40 50 60 70 80 90 100 \n",
            "\n"
          ]
        }
      ]
    },
    {
      "cell_type": "code",
      "metadata": {
        "colab": {
          "base_uri": "https://localhost:8080/"
        },
        "id": "B4Fbj2xGEg1t",
        "outputId": "5d18152a-1a38-41b8-98a3-86c1b2abcc1c"
      },
      "source": [
        "#10*10 Matrix (*)\n",
        "for i in range (1,11):\n",
        "  for j in range (1,11):\n",
        "    print('*', end = ' ')\n",
        "  print('\\r')"
      ],
      "execution_count": null,
      "outputs": [
        {
          "output_type": "stream",
          "name": "stdout",
          "text": [
            "* * * * * * * * * * \r\n",
            "* * * * * * * * * * \r\n",
            "* * * * * * * * * * \r\n",
            "* * * * * * * * * * \r\n",
            "* * * * * * * * * * \r\n",
            "* * * * * * * * * * \r\n",
            "* * * * * * * * * * \r\n",
            "* * * * * * * * * * \r\n",
            "* * * * * * * * * * \r\n",
            "* * * * * * * * * * \r\n"
          ]
        }
      ]
    },
    {
      "cell_type": "code",
      "metadata": {
        "colab": {
          "base_uri": "https://localhost:8080/"
        },
        "id": "ej15kmeBE4R5",
        "outputId": "3ef16060-fb74-48f5-8ce4-1666185499bb"
      },
      "source": [
        "for i in range (0,10):\n",
        "  for j in range (0,10):\n",
        "    if (i in (0,9)):\n",
        "      print('*', end = ' ')\n",
        "    else:\n",
        "      if(j in (0,9)):\n",
        "        print('*', end = ' ')\n",
        "      else:\n",
        "        print(' ', end = ' ')\n",
        "  print('\\r')"
      ],
      "execution_count": null,
      "outputs": [
        {
          "output_type": "stream",
          "name": "stdout",
          "text": [
            "* * * * * * * * * * \r\n",
            "*                 * \r\n",
            "*                 * \r\n",
            "*                 * \r\n",
            "*                 * \r\n",
            "*                 * \r\n",
            "*                 * \r\n",
            "*                 * \r\n",
            "*                 * \r\n",
            "* * * * * * * * * * \r\n"
          ]
        }
      ]
    },
    {
      "cell_type": "code",
      "metadata": {
        "colab": {
          "base_uri": "https://localhost:8080/"
        },
        "id": "I6jhJimMGM3w",
        "outputId": "8e0889ce-56be-408b-efca-bc666a2acde4"
      },
      "source": [
        "for i in range (0,10):\n",
        "  for j in range (0,10):\n",
        "    if((i==0) | (i==9)):\n",
        "      print('*', end = ' ')\n",
        "    else:\n",
        "      if((j==0) | (j==9)):\n",
        "        print('*', end = ' ')\n",
        "      else:\n",
        "        print(' ', end = ' ')\n",
        "  print('\\r')"
      ],
      "execution_count": null,
      "outputs": [
        {
          "output_type": "stream",
          "name": "stdout",
          "text": [
            "* * * * * * * * * * \r\n",
            "*                 * \r\n",
            "*                 * \r\n",
            "*                 * \r\n",
            "*                 * \r\n",
            "*                 * \r\n",
            "*                 * \r\n",
            "*                 * \r\n",
            "*                 * \r\n",
            "* * * * * * * * * * \r\n"
          ]
        }
      ]
    },
    {
      "cell_type": "code",
      "metadata": {
        "colab": {
          "base_uri": "https://localhost:8080/"
        },
        "id": "COfLeaV2HUSQ",
        "outputId": "a1fdc8e2-3faf-4901-d1fa-27936d943a9e"
      },
      "source": [
        "for i in range (0,1):\n",
        "  for j in range (0,1):\n",
        "    if((i==0) | (i==1)):\n",
        "      print('*', end = ' ')\n",
        "    else:\n",
        "      if((j==0) | (j==1)):\n",
        "        print('*', end = ' ')\n",
        "      else:\n",
        "        print(' ', end = ' ')\n",
        "  print('\\r')"
      ],
      "execution_count": null,
      "outputs": [
        {
          "output_type": "stream",
          "name": "stdout",
          "text": [
            "* \r\n"
          ]
        }
      ]
    },
    {
      "cell_type": "code",
      "metadata": {
        "colab": {
          "base_uri": "https://localhost:8080/"
        },
        "id": "ypr3DbV2HgEb",
        "outputId": "9d80079f-c3c4-4b92-d176-b75ef4a9f597"
      },
      "source": [
        "for i in range (0,2):\n",
        "  for j in range (0,2):\n",
        "    if((i==0) | (i==2)):\n",
        "      print('*', end = ' ')\n",
        "    else:\n",
        "      if((j==0) | (j==2)):\n",
        "        print('*', end = ' ')\n",
        "      else:\n",
        "        print(' ', end = ' ')\n",
        "  print('\\r')"
      ],
      "execution_count": null,
      "outputs": [
        {
          "output_type": "stream",
          "name": "stdout",
          "text": [
            "* * \r\n",
            "*   \r\n"
          ]
        }
      ]
    },
    {
      "cell_type": "code",
      "metadata": {
        "colab": {
          "base_uri": "https://localhost:8080/"
        },
        "id": "SsrO6yBHHlj1",
        "outputId": "f84fdde3-1ac6-440e-ca19-334a128a6655"
      },
      "source": [
        "for i in range (0,3):\n",
        "  for j in range (0,3):\n",
        "    if((i==0) | (i==3)):\n",
        "      print('*', end = ' ')\n",
        "    else:\n",
        "      if((j==0) | (j==3)):\n",
        "        print('*', end = ' ')\n",
        "      else:\n",
        "        print(' ', end = ' ')\n",
        "  print('\\r')"
      ],
      "execution_count": null,
      "outputs": [
        {
          "output_type": "stream",
          "name": "stdout",
          "text": [
            "* * * \r\n",
            "*     \r\n",
            "*     \r\n"
          ]
        }
      ]
    },
    {
      "cell_type": "code",
      "metadata": {
        "colab": {
          "base_uri": "https://localhost:8080/"
        },
        "id": "DiEneUTUHqDr",
        "outputId": "eec4b34a-2462-4211-d2cf-7d236f2d15f4"
      },
      "source": [
        "for i in range (0,5):\n",
        "  for j in range (0,5):\n",
        "    if((i==0) | (i==5)):\n",
        "      print('*', end = ' ')\n",
        "    else:\n",
        "      if((j==0) | (j==5)):\n",
        "        print('*', end = ' ')\n",
        "      else:\n",
        "        print(' ', end = ' ')\n",
        "  print('\\r')"
      ],
      "execution_count": null,
      "outputs": [
        {
          "output_type": "stream",
          "name": "stdout",
          "text": [
            "* * * * * \r\n",
            "*         \r\n",
            "*         \r\n",
            "*         \r\n",
            "*         \r\n"
          ]
        }
      ]
    },
    {
      "cell_type": "code",
      "metadata": {
        "colab": {
          "base_uri": "https://localhost:8080/"
        },
        "id": "I57__w6OHvNA",
        "outputId": "aa7c6782-6285-497b-ee70-24407b6fc325"
      },
      "source": [
        "for i in range (0,8):\n",
        "  for j in range (0,8):\n",
        "    if((i==0) | (i==7)):\n",
        "      print('*', end = ' ')\n",
        "    else:\n",
        "      if((j==0) | (j==7)):\n",
        "        print('*', end = ' ')\n",
        "      else:\n",
        "        print(' ', end = ' ')\n",
        "  print('\\r')"
      ],
      "execution_count": null,
      "outputs": [
        {
          "output_type": "stream",
          "name": "stdout",
          "text": [
            "* * * * * * * * \r\n",
            "*             * \r\n",
            "*             * \r\n",
            "*             * \r\n",
            "*             * \r\n",
            "*             * \r\n",
            "*             * \r\n",
            "* * * * * * * * \r\n"
          ]
        }
      ]
    },
    {
      "cell_type": "code",
      "metadata": {
        "colab": {
          "base_uri": "https://localhost:8080/"
        },
        "id": "J9BF7noeIBJK",
        "outputId": "09856608-1edc-45f6-b75d-1c81c8422b1b"
      },
      "source": [
        "for i in range (0,10):\n",
        "  for j in range (0,10):\n",
        "    if((i==0) | (i==9)):\n",
        "      print('*', end = ' ')\n",
        "    else:\n",
        "      if((j==0) | (j==9)):\n",
        "        print('*', end = ' ')\n",
        "      else:\n",
        "        print(' ', end = ' ')\n",
        "  print('\\r')"
      ],
      "execution_count": null,
      "outputs": [
        {
          "output_type": "stream",
          "name": "stdout",
          "text": [
            "* * * * * * * * * * \r\n",
            "*                 * \r\n",
            "*                 * \r\n",
            "*                 * \r\n",
            "*                 * \r\n",
            "*                 * \r\n",
            "*                 * \r\n",
            "*                 * \r\n",
            "*                 * \r\n",
            "* * * * * * * * * * \r\n"
          ]
        }
      ]
    },
    {
      "cell_type": "code",
      "metadata": {
        "colab": {
          "base_uri": "https://localhost:8080/"
        },
        "id": "h5kwTugaIt54",
        "outputId": "308b0dfd-612a-442d-b913-f21239238b41"
      },
      "source": [
        "for i in range (1,101,10):\n",
        "  for j in range(i, i+10):\n",
        "    print(j, end = ' ')\n",
        "  print()"
      ],
      "execution_count": null,
      "outputs": [
        {
          "output_type": "stream",
          "name": "stdout",
          "text": [
            "1 2 3 4 5 6 7 8 9 10 \n",
            "11 12 13 14 15 16 17 18 19 20 \n",
            "21 22 23 24 25 26 27 28 29 30 \n",
            "31 32 33 34 35 36 37 38 39 40 \n",
            "41 42 43 44 45 46 47 48 49 50 \n",
            "51 52 53 54 55 56 57 58 59 60 \n",
            "61 62 63 64 65 66 67 68 69 70 \n",
            "71 72 73 74 75 76 77 78 79 80 \n",
            "81 82 83 84 85 86 87 88 89 90 \n",
            "91 92 93 94 95 96 97 98 99 100 \n"
          ]
        }
      ]
    },
    {
      "cell_type": "code",
      "metadata": {
        "colab": {
          "base_uri": "https://localhost:8080/"
        },
        "id": "JjMWxsyJ6OYj",
        "outputId": "13be1f00-92a6-4fb9-ebfb-7bc458c32cfa"
      },
      "source": [
        "for i in range (0,10):\n",
        "  for j in range (0,10):\n",
        "    if((i==0) | (i==9)):\n",
        "      print(\"('i','j')\", end = ' ')\n",
        "    else:\n",
        "      if((j==0) | (j==9)):\n",
        "        print(\"('i','j')\", end = ' ')\n",
        "      else:\n",
        "        print(' ', end = ' ')\n",
        "  print('\\n')"
      ],
      "execution_count": 7,
      "outputs": [
        {
          "output_type": "stream",
          "name": "stdout",
          "text": [
            "('i','j') ('i','j') ('i','j') ('i','j') ('i','j') ('i','j') ('i','j') ('i','j') ('i','j') ('i','j') \n",
            "\n",
            "('i','j')                 ('i','j') \n",
            "\n",
            "('i','j')                 ('i','j') \n",
            "\n",
            "('i','j')                 ('i','j') \n",
            "\n",
            "('i','j')                 ('i','j') \n",
            "\n",
            "('i','j')                 ('i','j') \n",
            "\n",
            "('i','j')                 ('i','j') \n",
            "\n",
            "('i','j')                 ('i','j') \n",
            "\n",
            "('i','j')                 ('i','j') \n",
            "\n",
            "('i','j') ('i','j') ('i','j') ('i','j') ('i','j') ('i','j') ('i','j') ('i','j') ('i','j') ('i','j') \n",
            "\n"
          ]
        }
      ]
    },
    {
      "cell_type": "code",
      "metadata": {
        "colab": {
          "base_uri": "https://localhost:8080/"
        },
        "id": "U_FsrC1q7SaE",
        "outputId": "1165f924-d0f1-4ca3-f0bf-1522971cd081"
      },
      "source": [
        "for i in range(0, 10):\n",
        "  for j in range(0, 10):\n",
        "    if ((i == 0) | (i == 9)):\n",
        "      print(\"(\",i,\",\",j,\")\", end=' ')\n",
        "    else:\n",
        "      if ((j == 0) | (j == 9)):\n",
        "        print(\"(\",i,\",\",j,\")\", end= ' ')\n",
        "      else:\n",
        "        print(\"---------\", end =' ')\n",
        "  print('\\n')"
      ],
      "execution_count": 8,
      "outputs": [
        {
          "output_type": "stream",
          "name": "stdout",
          "text": [
            "( 0 , 0 ) ( 0 , 1 ) ( 0 , 2 ) ( 0 , 3 ) ( 0 , 4 ) ( 0 , 5 ) ( 0 , 6 ) ( 0 , 7 ) ( 0 , 8 ) ( 0 , 9 ) \n",
            "\n",
            "( 1 , 0 ) --------- --------- --------- --------- --------- --------- --------- --------- ( 1 , 9 ) \n",
            "\n",
            "( 2 , 0 ) --------- --------- --------- --------- --------- --------- --------- --------- ( 2 , 9 ) \n",
            "\n",
            "( 3 , 0 ) --------- --------- --------- --------- --------- --------- --------- --------- ( 3 , 9 ) \n",
            "\n",
            "( 4 , 0 ) --------- --------- --------- --------- --------- --------- --------- --------- ( 4 , 9 ) \n",
            "\n",
            "( 5 , 0 ) --------- --------- --------- --------- --------- --------- --------- --------- ( 5 , 9 ) \n",
            "\n",
            "( 6 , 0 ) --------- --------- --------- --------- --------- --------- --------- --------- ( 6 , 9 ) \n",
            "\n",
            "( 7 , 0 ) --------- --------- --------- --------- --------- --------- --------- --------- ( 7 , 9 ) \n",
            "\n",
            "( 8 , 0 ) --------- --------- --------- --------- --------- --------- --------- --------- ( 8 , 9 ) \n",
            "\n",
            "( 9 , 0 ) ( 9 , 1 ) ( 9 , 2 ) ( 9 , 3 ) ( 9 , 4 ) ( 9 , 5 ) ( 9 , 6 ) ( 9 , 7 ) ( 9 , 8 ) ( 9 , 9 ) \n",
            "\n"
          ]
        }
      ]
    },
    {
      "cell_type": "code",
      "metadata": {
        "colab": {
          "base_uri": "https://localhost:8080/"
        },
        "id": "ygoGX9Ub7ZHt",
        "outputId": "1b103f8c-2b2b-4e79-ad62-0b82e3f3e5dd"
      },
      "source": [
        "#Pyramid\n",
        "for i in range (10,0,-1):\n",
        "  for j in range (0,i):\n",
        "    print(\" \", end = \"\")\n",
        "  for k in range (0,11-i):\n",
        "    print(\"*\", end = \" \")\n",
        "  print(\"\\r\")"
      ],
      "execution_count": 27,
      "outputs": [
        {
          "output_type": "stream",
          "name": "stdout",
          "text": [
            "          * \r\n",
            "         * * \r\n",
            "        * * * \r\n",
            "       * * * * \r\n",
            "      * * * * * \r\n",
            "     * * * * * * \r\n",
            "    * * * * * * * \r\n",
            "   * * * * * * * * \r\n",
            "  * * * * * * * * * \r\n",
            " * * * * * * * * * * \r\n"
          ]
        }
      ]
    },
    {
      "cell_type": "code",
      "metadata": {
        "colab": {
          "base_uri": "https://localhost:8080/"
        },
        "id": "FZXQXnhwEI2D",
        "outputId": "94d0f216-9947-4160-f228-ea2b53fc4be7"
      },
      "source": [
        "for i in range (10,0,-1):\n",
        "  for j in range (0,i):\n",
        "    print(\" \", end = \"\")\n",
        "  for k in range (0,11-i):\n",
        "    print((i,j), end = \" \")\n",
        "  print(\"\\r\")"
      ],
      "execution_count": 89,
      "outputs": [
        {
          "output_type": "stream",
          "name": "stdout",
          "text": [
            "          (10, 9) \r\n",
            "         (9, 8) (9, 8) \r\n",
            "        (8, 7) (8, 7) (8, 7) \r\n",
            "       (7, 6) (7, 6) (7, 6) (7, 6) \r\n",
            "      (6, 5) (6, 5) (6, 5) (6, 5) (6, 5) \r\n",
            "     (5, 4) (5, 4) (5, 4) (5, 4) (5, 4) (5, 4) \r\n",
            "    (4, 3) (4, 3) (4, 3) (4, 3) (4, 3) (4, 3) (4, 3) \r\n",
            "   (3, 2) (3, 2) (3, 2) (3, 2) (3, 2) (3, 2) (3, 2) (3, 2) \r\n",
            "  (2, 1) (2, 1) (2, 1) (2, 1) (2, 1) (2, 1) (2, 1) (2, 1) (2, 1) \r\n",
            " (1, 0) (1, 0) (1, 0) (1, 0) (1, 0) (1, 0) (1, 0) (1, 0) (1, 0) (1, 0) \r\n"
          ]
        }
      ]
    },
    {
      "cell_type": "code",
      "metadata": {
        "colab": {
          "base_uri": "https://localhost:8080/"
        },
        "id": "qhe2LXtBFO7L",
        "outputId": "7e2aa66b-5e26-4616-c219-fa8dc0ada561"
      },
      "source": [
        "for i in range (10,0,-1):\n",
        "  for j in range (0,i):\n",
        "    print(\" \", end = \"\")\n",
        "  for k in range (0,11-i):\n",
        "    print((i,k), end = \" \")\n",
        "  print(\"\\r\")"
      ],
      "execution_count": 91,
      "outputs": [
        {
          "output_type": "stream",
          "name": "stdout",
          "text": [
            "          (10, 0) \r\n",
            "         (9, 0) (9, 1) \r\n",
            "        (8, 0) (8, 1) (8, 2) \r\n",
            "       (7, 0) (7, 1) (7, 2) (7, 3) \r\n",
            "      (6, 0) (6, 1) (6, 2) (6, 3) (6, 4) \r\n",
            "     (5, 0) (5, 1) (5, 2) (5, 3) (5, 4) (5, 5) \r\n",
            "    (4, 0) (4, 1) (4, 2) (4, 3) (4, 4) (4, 5) (4, 6) \r\n",
            "   (3, 0) (3, 1) (3, 2) (3, 3) (3, 4) (3, 5) (3, 6) (3, 7) \r\n",
            "  (2, 0) (2, 1) (2, 2) (2, 3) (2, 4) (2, 5) (2, 6) (2, 7) (2, 8) \r\n",
            " (1, 0) (1, 1) (1, 2) (1, 3) (1, 4) (1, 5) (1, 6) (1, 7) (1, 8) (1, 9) \r\n"
          ]
        }
      ]
    },
    {
      "cell_type": "code",
      "metadata": {
        "colab": {
          "base_uri": "https://localhost:8080/"
        },
        "id": "3TWHt-9q9X57",
        "outputId": "cebf1396-975a-4842-d28d-354008abacc9"
      },
      "source": [
        "for i in range (0,10,1):\n",
        "  for j in range (0,i):\n",
        "    print(\" \", end = \"\")\n",
        "  for k in range (0,10-i):\n",
        "    print(\"*\", end = \" \")\n",
        "  print(\"\\r\")"
      ],
      "execution_count": 29,
      "outputs": [
        {
          "output_type": "stream",
          "name": "stdout",
          "text": [
            "* * * * * * * * * * \r\n",
            " * * * * * * * * * \r\n",
            "  * * * * * * * * \r\n",
            "   * * * * * * * \r\n",
            "    * * * * * * \r\n",
            "     * * * * * \r\n",
            "      * * * * \r\n",
            "       * * * \r\n",
            "        * * \r\n",
            "         * \r\n"
          ]
        }
      ]
    },
    {
      "cell_type": "code",
      "metadata": {
        "colab": {
          "base_uri": "https://localhost:8080/"
        },
        "id": "gIihPu-C_p0P",
        "outputId": "074e2adb-aee2-496b-8456-acf85de25cbb"
      },
      "source": [
        "a = 0\n",
        "for i in range (10,0,-1):\n",
        "  for j in range (0,a):\n",
        "    print(\" \", end = \"\")\n",
        "  for k in range (0,i):\n",
        "    print(\"*\", end = \" \")\n",
        "  a+=1\n",
        "  print(\"\\r\")"
      ],
      "execution_count": 52,
      "outputs": [
        {
          "output_type": "stream",
          "name": "stdout",
          "text": [
            "* * * * * * * * * * \r\n",
            " * * * * * * * * * \r\n",
            "  * * * * * * * * \r\n",
            "   * * * * * * * \r\n",
            "    * * * * * * \r\n",
            "     * * * * * \r\n",
            "      * * * * \r\n",
            "       * * * \r\n",
            "        * * \r\n",
            "         * \r\n"
          ]
        }
      ]
    },
    {
      "cell_type": "code",
      "metadata": {
        "colab": {
          "base_uri": "https://localhost:8080/"
        },
        "id": "yPTaDecKBPx7",
        "outputId": "faea1fd5-e8bf-439f-9d59-7584b6a17542"
      },
      "source": [
        " a = 0\n",
        "for i in range (11,0,-1):\n",
        "  for j in range (0,a):\n",
        "    print(\" \", end = \"\")\n",
        "  for k in range (0,i):\n",
        "    print(\"*\", end = \" \")\n",
        "  a+=1\n",
        "  print(\"\\r\")\n",
        "for i in range (10,0,-1):\n",
        "  for j in range (0,i):\n",
        "    print(\" \", end = \"\")\n",
        "  for k in range (0,11-i):\n",
        "    print(\"*\", end = \" \")\n",
        "  print(\"\\r\")"
      ],
      "execution_count": 65,
      "outputs": [
        {
          "output_type": "stream",
          "name": "stdout",
          "text": [
            "* * * * * * * * * * * \r\n",
            " * * * * * * * * * * \r\n",
            "  * * * * * * * * * \r\n",
            "   * * * * * * * * \r\n",
            "    * * * * * * * \r\n",
            "     * * * * * * \r\n",
            "      * * * * * \r\n",
            "       * * * * \r\n",
            "        * * * \r\n",
            "         * * \r\n",
            "          * \r\n",
            "          * \r\n",
            "         * * \r\n",
            "        * * * \r\n",
            "       * * * * \r\n",
            "      * * * * * \r\n",
            "     * * * * * * \r\n",
            "    * * * * * * * \r\n",
            "   * * * * * * * * \r\n",
            "  * * * * * * * * * \r\n",
            " * * * * * * * * * * \r\n"
          ]
        }
      ]
    },
    {
      "cell_type": "code",
      "metadata": {
        "colab": {
          "base_uri": "https://localhost:8080/"
        },
        "id": "JA09JCKJDZIf",
        "outputId": "6f02284c-f5a0-4f27-c7cf-eb4d607698cc"
      },
      "source": [
        "for i in range (10,0,-1):\n",
        "  for j in range (0,i):\n",
        "    print(\"\", end = \"\")\n",
        "  for k in range (0,11-i):\n",
        "    print(\"*\", end = \" \")\n",
        "  print(\"\\r\")"
      ],
      "execution_count": 66,
      "outputs": [
        {
          "output_type": "stream",
          "name": "stdout",
          "text": [
            "* \r\n",
            "* * \r\n",
            "* * * \r\n",
            "* * * * \r\n",
            "* * * * * \r\n",
            "* * * * * * \r\n",
            "* * * * * * * \r\n",
            "* * * * * * * * \r\n",
            "* * * * * * * * * \r\n",
            "* * * * * * * * * * \r\n"
          ]
        }
      ]
    },
    {
      "cell_type": "code",
      "metadata": {
        "colab": {
          "base_uri": "https://localhost:8080/"
        },
        "id": "RmrKZ2u7Dk6T",
        "outputId": "7c8d1c9c-990a-49ec-efa3-fb8a14b577fb"
      },
      "source": [
        "for i in range (0,10,1):\n",
        "  for j in range (0,i):\n",
        "    print(\"\", end = \"\")\n",
        "  for k in range (0,10-i):\n",
        "    print(\"*\", end = \" \")\n",
        "  print(\"\\r\")"
      ],
      "execution_count": 67,
      "outputs": [
        {
          "output_type": "stream",
          "name": "stdout",
          "text": [
            "* * * * * * * * * * \r\n",
            "* * * * * * * * * \r\n",
            "* * * * * * * * \r\n",
            "* * * * * * * \r\n",
            "* * * * * * \r\n",
            "* * * * * \r\n",
            "* * * * \r\n",
            "* * * \r\n",
            "* * \r\n",
            "* \r\n"
          ]
        }
      ]
    },
    {
      "cell_type": "code",
      "metadata": {
        "colab": {
          "base_uri": "https://localhost:8080/"
        },
        "id": "jAytyDf-Dujq",
        "outputId": "ca86713d-c0a0-4c88-9207-d8359b83369b"
      },
      "source": [
        "for i in range (0,10,1):\n",
        "  for j in range (0,i):\n",
        "    print(\" \", end = \"\")\n",
        "  for k in range (0,10-i):\n",
        "    print(\"*\", end = \"\")\n",
        "  print(\"\\r\")"
      ],
      "execution_count": 70,
      "outputs": [
        {
          "output_type": "stream",
          "name": "stdout",
          "text": [
            "**********\r\n",
            " *********\r\n",
            "  ********\r\n",
            "   *******\r\n",
            "    ******\r\n",
            "     *****\r\n",
            "      ****\r\n",
            "       ***\r\n",
            "        **\r\n",
            "         *\r\n"
          ]
        }
      ]
    },
    {
      "cell_type": "code",
      "metadata": {
        "colab": {
          "base_uri": "https://localhost:8080/"
        },
        "id": "Z1ns5cSvD6WB",
        "outputId": "d2470345-506e-49d3-ca2c-9f14a38cdeb8"
      },
      "source": [
        "for i in range (10,0,-1):\n",
        "  for j in range (0,i):\n",
        "    print(\"\", end = \" \")\n",
        "  for k in range (0,11-i):\n",
        "    print(\"*\", end = \"\")\n",
        "  print(\"\\r\")"
      ],
      "execution_count": 74,
      "outputs": [
        {
          "output_type": "stream",
          "name": "stdout",
          "text": [
            "          *\r\n",
            "         **\r\n",
            "        ***\r\n",
            "       ****\r\n",
            "      *****\r\n",
            "     ******\r\n",
            "    *******\r\n",
            "   ********\r\n",
            "  *********\r\n",
            " **********\r\n"
          ]
        }
      ]
    }
  ]
}