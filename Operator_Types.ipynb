{
  "nbformat": 4,
  "nbformat_minor": 0,
  "metadata": {
    "colab": {
      "name": "Operator Types.ipynb",
      "provenance": [],
      "authorship_tag": "ABX9TyNe33/Ln4fdxvdJDoGFYHLe",
      "include_colab_link": true
    },
    "kernelspec": {
      "name": "python3",
      "display_name": "Python 3"
    },
    "language_info": {
      "name": "python"
    }
  },
  "cells": [
    {
      "cell_type": "markdown",
      "metadata": {
        "id": "view-in-github",
        "colab_type": "text"
      },
      "source": [
        "<a href=\"https://colab.research.google.com/github/amitraghatate/Basic-of-Python/blob/Python-basic-Operator/Operator_Types.ipynb\" target=\"_parent\"><img src=\"https://colab.research.google.com/assets/colab-badge.svg\" alt=\"Open In Colab\"/></a>"
      ]
    },
    {
      "cell_type": "markdown",
      "metadata": {
        "id": "VZQHCwEcrPaq"
      },
      "source": [
        "# Python - Basic Operator\n",
        "\n",
        "# Types of Operator\n",
        "\n",
        "**Python language supports the following types of operators −**\n",
        "1.  Arithmetic Operators\n",
        "2.  Comparison (Relational) Operators\n",
        "3.  Assignment Operators\n",
        "4.  Logical Operators\n",
        "5.  Bitwise Operators\n",
        "6.  Membership Operators\n",
        "7.  Identity Operators"
      ]
    },
    {
      "cell_type": "code",
      "metadata": {
        "colab": {
          "base_uri": "https://localhost:8080/"
        },
        "id": "wGEseDYHrN-J",
        "outputId": "b4974cb1-31df-4dd4-c943-2a59cb00cf97"
      },
      "source": [
        "# Logical Operators\n",
        "# AND Operator => &\n",
        "a = 10\n",
        "b = 20\n",
        "print('logical operation -', ((a==b) & (a<b))) #False and True -> False\n",
        "print('logical operation -', ((a!=b) & (a<b))) #True and True -> True\n",
        "print('logical operation -', ((a!=b) & (a>b))) #True and False -> False\n",
        "print('logical operation -', ((a==b) & (a>b))) #False and False -> False\n"
      ],
      "execution_count": 23,
      "outputs": [
        {
          "output_type": "stream",
          "name": "stdout",
          "text": [
            "logical operation - False\n",
            "logical operation - True\n",
            "logical operation - False\n",
            "logical operation - False\n"
          ]
        }
      ]
    },
    {
      "cell_type": "code",
      "metadata": {
        "colab": {
          "base_uri": "https://localhost:8080/"
        },
        "id": "_p0OdOabwCtI",
        "outputId": "63cc898e-1ef5-4b14-d57c-3b9f7b04105f"
      },
      "source": [
        "a = True\n",
        "b = False\n",
        "print('logical operation -', ((a==b) & (a<b)))\n",
        "print('logical operation -', ((a!=b) & (a<b)))\n",
        "print('logical operation -', ((a!=b) & (a>b)))\n",
        "print('logical operation -', ((a==b) & (a>b)))"
      ],
      "execution_count": 7,
      "outputs": [
        {
          "output_type": "stream",
          "name": "stdout",
          "text": [
            "logical operation - False\n",
            "logical operation - False\n",
            "logical operation - True\n",
            "logical operation - False\n"
          ]
        }
      ]
    },
    {
      "cell_type": "code",
      "metadata": {
        "colab": {
          "base_uri": "https://localhost:8080/"
        },
        "id": "1JkXbTnfwHOo",
        "outputId": "2129c7b2-f772-4ff1-c2ce-969b0cf1f8eb"
      },
      "source": [
        "a = 'python'\n",
        "b = 'programming'\n",
        "print('logical operation -', ((a==b) & (a<b)))\n",
        "print('logical operation -', ((a!=b) & (a<b)))\n",
        "print('logical operation -', ((a!=b) & (a>b)))\n",
        "print('logical operation -', ((a==b) & (a>b)))"
      ],
      "execution_count": 8,
      "outputs": [
        {
          "output_type": "stream",
          "name": "stdout",
          "text": [
            "logical operation - False\n",
            "logical operation - False\n",
            "logical operation - True\n",
            "logical operation - False\n"
          ]
        }
      ]
    },
    {
      "cell_type": "code",
      "metadata": {
        "colab": {
          "base_uri": "https://localhost:8080/"
        },
        "id": "yi8djUpVwPLz",
        "outputId": "a4fdda3c-8f71-44ff-c878-315829402eb4"
      },
      "source": [
        "# Logical Operator\n",
        "# OR Operator => |\n",
        "a = 10\n",
        "b = 20\n",
        "print('logical operation -', ((a==b) | (a<b))) #False and True -> True\n",
        "print('logical operation -', ((a!=b) | (a<b))) #True and True -> True\n",
        "print('logical operation -', ((a!=b) | (a>b))) #True and False -> True\n",
        "print('logical operation -', ((a==b) | (a>b))) #Flase and False -> Flase"
      ],
      "execution_count": 20,
      "outputs": [
        {
          "output_type": "stream",
          "name": "stdout",
          "text": [
            "logical operation - True\n",
            "logical operation - True\n",
            "logical operation - True\n",
            "logical operation - False\n"
          ]
        }
      ]
    },
    {
      "cell_type": "code",
      "metadata": {
        "colab": {
          "base_uri": "https://localhost:8080/"
        },
        "id": "U2aL5XX8w2jI",
        "outputId": "9268dfa2-553a-4390-cd91-092785f658dd"
      },
      "source": [
        "a = True\n",
        "b = False\n",
        "print('logical operation -', ((a==b) | (a<b)))\n",
        "print('logical operation -', ((a!=b) | (a<b)))\n",
        "print('logical operation -', ((a!=b) | (a>b)))\n",
        "print('logical operation -', ((a==b) | (a>b)))"
      ],
      "execution_count": 13,
      "outputs": [
        {
          "output_type": "stream",
          "name": "stdout",
          "text": [
            "logical operation - False\n",
            "logical operation - True\n",
            "logical operation - True\n",
            "logical operation - True\n"
          ]
        }
      ]
    },
    {
      "cell_type": "code",
      "metadata": {
        "colab": {
          "base_uri": "https://localhost:8080/"
        },
        "id": "hfAs6dEKw6Uf",
        "outputId": "a8425136-3326-4bfb-9fcd-2a7059d11ed2"
      },
      "source": [
        "a = 'Python'\n",
        "b = 'Programming'\n",
        "print('logical operation -', ((a==b) | (a<b)))\n",
        "print('logical operation -', ((a!=b) | (a<b)))\n",
        "print('logical operation -', ((a!=b) | (a>b)))\n",
        "print('logical operation -', ((a==b) | (a>b)))"
      ],
      "execution_count": 14,
      "outputs": [
        {
          "output_type": "stream",
          "name": "stdout",
          "text": [
            "logical operation - False\n",
            "logical operation - True\n",
            "logical operation - True\n",
            "logical operation - True\n"
          ]
        }
      ]
    },
    {
      "cell_type": "code",
      "metadata": {
        "colab": {
          "base_uri": "https://localhost:8080/"
        },
        "id": "uJIeri-ExAmf",
        "outputId": "35d6239e-d2b5-4103-856c-fca3b6d0e174"
      },
      "source": [
        "# NOR Operator => ^\n",
        "a = 123\n",
        "b = 321\n",
        "print('logical operation -', ((a==b) ^ (a<b))) #False and True -> True\n",
        "print('logical operation -', ((a!=b) ^ (a<b))) #True and True -> False\n",
        "print('logical operation -', ((a!=b) ^ (a>b))) #True and False -> True\n",
        "print('logical operation -', ((a==b) ^ (a>b))) #False and False -> False"
      ],
      "execution_count": 22,
      "outputs": [
        {
          "output_type": "stream",
          "name": "stdout",
          "text": [
            "logical operation - True\n",
            "logical operation - False\n",
            "logical operation - True\n",
            "logical operation - False\n"
          ]
        }
      ]
    },
    {
      "cell_type": "code",
      "metadata": {
        "colab": {
          "base_uri": "https://localhost:8080/"
        },
        "id": "p6iiyYxZxQK3",
        "outputId": "ef646960-fa39-492a-b2da-92dcb4ab0ab4"
      },
      "source": [
        "a = True\n",
        "b = False\n",
        "print('logical operation -', ((a==b) ^ (a<b)))\n",
        "print('logical operation -', ((a!=b) ^ (a<b)))\n",
        "print('logical operation -', ((a!=b) ^ (a>b)))\n",
        "print('logical operation -', ((a==b) ^ (a>b)))"
      ],
      "execution_count": 16,
      "outputs": [
        {
          "output_type": "stream",
          "name": "stdout",
          "text": [
            "logical operation - False\n",
            "logical operation - True\n",
            "logical operation - False\n",
            "logical operation - True\n"
          ]
        }
      ]
    },
    {
      "cell_type": "code",
      "metadata": {
        "colab": {
          "base_uri": "https://localhost:8080/"
        },
        "id": "ENfBXRhqxWUE",
        "outputId": "9980e831-b6a5-4ab7-f843-dc607ef2eef0"
      },
      "source": [
        "a = 'PYTHON'\n",
        "b = 'python'\n",
        "print('logical operation -', ((a==b) ^ (a<b))) \n",
        "print('logical operation -', ((a!=b) ^ (a<b))) \n",
        "print('logical operation -', ((a!=b) ^ (a>b))) \n",
        "print('logical operation -', ((a==b) ^ (a>b))) "
      ],
      "execution_count": 21,
      "outputs": [
        {
          "output_type": "stream",
          "name": "stdout",
          "text": [
            "logical operation - True\n",
            "logical operation - False\n",
            "logical operation - True\n",
            "logical operation - False\n"
          ]
        }
      ]
    },
    {
      "cell_type": "code",
      "metadata": {
        "id": "njbOzlK_z6va"
      },
      "source": [
        "a = 'PYTHON'\n",
        "b = 'python'\n",
        "print('logical operation -', ((a==b) ^ (a<b)))\n",
        "print('logical operation -', ((a!=b) ^ (a<b)))\n",
        "print('logical operation -', ((a!=b) ^ (a>b)))\n",
        "print('logical operation -', ((a==b) ^ (a>b)))"
      ],
      "execution_count": null,
      "outputs": []
    },
    {
      "cell_type": "code",
      "metadata": {
        "colab": {
          "base_uri": "https://localhost:8080/",
          "height": 246
        },
        "id": "aPA0iw7_0ZU5",
        "outputId": "f90090a9-12e3-4f72-ae9a-d88b500f46c1"
      },
      "source": [
        "# Membership Operator\n",
        "# in or not in\n",
        "a = [1,2,3,4,5,6,7,8,9,0]\n",
        "b = 5\n",
        "print('Membership Operator -', b in a)\n",
        "print('Membership Operator -', b not in a)\n",
        "print('Membership Operator -', a in b)\n",
        "print('Membership Operator -', a not in b)"
      ],
      "execution_count": 32,
      "outputs": [
        {
          "output_type": "stream",
          "name": "stdout",
          "text": [
            "Membership Operator - True\n",
            "Membership Operator - False\n"
          ]
        },
        {
          "output_type": "error",
          "ename": "TypeError",
          "evalue": "ignored",
          "traceback": [
            "\u001b[0;31m---------------------------------------------------------------------------\u001b[0m",
            "\u001b[0;31mTypeError\u001b[0m                                 Traceback (most recent call last)",
            "\u001b[0;32m<ipython-input-32-09b9691551e7>\u001b[0m in \u001b[0;36m<module>\u001b[0;34m()\u001b[0m\n\u001b[1;32m      5\u001b[0m \u001b[0mprint\u001b[0m\u001b[0;34m(\u001b[0m\u001b[0;34m'Membership Operator -'\u001b[0m\u001b[0;34m,\u001b[0m \u001b[0mb\u001b[0m \u001b[0;32min\u001b[0m \u001b[0ma\u001b[0m\u001b[0;34m)\u001b[0m\u001b[0;34m\u001b[0m\u001b[0;34m\u001b[0m\u001b[0m\n\u001b[1;32m      6\u001b[0m \u001b[0mprint\u001b[0m\u001b[0;34m(\u001b[0m\u001b[0;34m'Membership Operator -'\u001b[0m\u001b[0;34m,\u001b[0m \u001b[0mb\u001b[0m \u001b[0;32mnot\u001b[0m \u001b[0;32min\u001b[0m \u001b[0ma\u001b[0m\u001b[0;34m)\u001b[0m\u001b[0;34m\u001b[0m\u001b[0;34m\u001b[0m\u001b[0m\n\u001b[0;32m----> 7\u001b[0;31m \u001b[0mprint\u001b[0m\u001b[0;34m(\u001b[0m\u001b[0;34m'Membership Operator -'\u001b[0m\u001b[0;34m,\u001b[0m \u001b[0ma\u001b[0m \u001b[0;32min\u001b[0m \u001b[0mb\u001b[0m\u001b[0;34m)\u001b[0m\u001b[0;34m\u001b[0m\u001b[0;34m\u001b[0m\u001b[0m\n\u001b[0m\u001b[1;32m      8\u001b[0m \u001b[0mprint\u001b[0m\u001b[0;34m(\u001b[0m\u001b[0;34m'Membership Operator -'\u001b[0m\u001b[0;34m,\u001b[0m \u001b[0ma\u001b[0m \u001b[0;32mnot\u001b[0m \u001b[0;32min\u001b[0m \u001b[0mb\u001b[0m\u001b[0;34m)\u001b[0m\u001b[0;34m\u001b[0m\u001b[0;34m\u001b[0m\u001b[0m\n",
            "\u001b[0;31mTypeError\u001b[0m: argument of type 'int' is not iterable"
          ]
        }
      ]
    },
    {
      "cell_type": "code",
      "metadata": {
        "colab": {
          "base_uri": "https://localhost:8080/",
          "height": 229
        },
        "id": "i00LW-792Ly9",
        "outputId": "ca9cc363-4575-4bb8-a104-2c12c048fbc7"
      },
      "source": [
        "a = [True, False, True, True, False]\n",
        "b = False\n",
        "print('Membership Operator -', b in a)\n",
        "print('Membership Operator -', b not in a)\n",
        "print('Membership Operator -', a not in b)"
      ],
      "execution_count": 33,
      "outputs": [
        {
          "output_type": "stream",
          "name": "stdout",
          "text": [
            "Membership Operator - True\n",
            "Membership Operator - False\n"
          ]
        },
        {
          "output_type": "error",
          "ename": "TypeError",
          "evalue": "ignored",
          "traceback": [
            "\u001b[0;31m---------------------------------------------------------------------------\u001b[0m",
            "\u001b[0;31mTypeError\u001b[0m                                 Traceback (most recent call last)",
            "\u001b[0;32m<ipython-input-33-4fd2b3a0f471>\u001b[0m in \u001b[0;36m<module>\u001b[0;34m()\u001b[0m\n\u001b[1;32m      3\u001b[0m \u001b[0mprint\u001b[0m\u001b[0;34m(\u001b[0m\u001b[0;34m'Membership Operator -'\u001b[0m\u001b[0;34m,\u001b[0m \u001b[0mb\u001b[0m \u001b[0;32min\u001b[0m \u001b[0ma\u001b[0m\u001b[0;34m)\u001b[0m\u001b[0;34m\u001b[0m\u001b[0;34m\u001b[0m\u001b[0m\n\u001b[1;32m      4\u001b[0m \u001b[0mprint\u001b[0m\u001b[0;34m(\u001b[0m\u001b[0;34m'Membership Operator -'\u001b[0m\u001b[0;34m,\u001b[0m \u001b[0mb\u001b[0m \u001b[0;32mnot\u001b[0m \u001b[0;32min\u001b[0m \u001b[0ma\u001b[0m\u001b[0;34m)\u001b[0m\u001b[0;34m\u001b[0m\u001b[0;34m\u001b[0m\u001b[0m\n\u001b[0;32m----> 5\u001b[0;31m \u001b[0mprint\u001b[0m\u001b[0;34m(\u001b[0m\u001b[0;34m'Membership Operator -'\u001b[0m\u001b[0;34m,\u001b[0m \u001b[0ma\u001b[0m \u001b[0;32mnot\u001b[0m \u001b[0;32min\u001b[0m \u001b[0mb\u001b[0m\u001b[0;34m)\u001b[0m\u001b[0;34m\u001b[0m\u001b[0;34m\u001b[0m\u001b[0m\n\u001b[0m",
            "\u001b[0;31mTypeError\u001b[0m: argument of type 'bool' is not iterable"
          ]
        }
      ]
    },
    {
      "cell_type": "code",
      "metadata": {
        "colab": {
          "base_uri": "https://localhost:8080/"
        },
        "id": "-dvrNWHB2lgV",
        "outputId": "4a6557d9-6770-469d-c02c-7a8f904b3dfb"
      },
      "source": [
        "a = 'Python'\n",
        "b = ['Python', 'python', 'PYTHON', 'pythÖn', 'pythôn']\n",
        "print('Membership Operator -', a in b)\n",
        "print('Membership Operator -', a not in b)"
      ],
      "execution_count": 43,
      "outputs": [
        {
          "output_type": "stream",
          "name": "stdout",
          "text": [
            "Membership Operator - True\n",
            "Membership Operator - False\n"
          ]
        }
      ]
    },
    {
      "cell_type": "code",
      "metadata": {
        "colab": {
          "base_uri": "https://localhost:8080/",
          "height": 246
        },
        "id": "4hQa9mdr2fh3",
        "outputId": "ca14712f-e671-4c42-946e-d5c788b5a30a"
      },
      "source": [
        "a = [10]\n",
        "b = 10\n",
        "print('Membership Operator -', b in a)\n",
        "print('Membership Operator -', b not in a)"
      ],
      "execution_count": 54,
      "outputs": [
        {
          "output_type": "stream",
          "name": "stdout",
          "text": [
            "Membership Operator - True\n",
            "Membership Operator - False\n"
          ]
        },
        {
          "output_type": "error",
          "ename": "TypeError",
          "evalue": "ignored",
          "traceback": [
            "\u001b[0;31m---------------------------------------------------------------------------\u001b[0m",
            "\u001b[0;31mTypeError\u001b[0m                                 Traceback (most recent call last)",
            "\u001b[0;32m<ipython-input-54-9545b757ecd7>\u001b[0m in \u001b[0;36m<module>\u001b[0;34m()\u001b[0m\n\u001b[1;32m      3\u001b[0m \u001b[0mprint\u001b[0m\u001b[0;34m(\u001b[0m\u001b[0;34m'Membership Operator -'\u001b[0m\u001b[0;34m,\u001b[0m \u001b[0mb\u001b[0m \u001b[0;32min\u001b[0m \u001b[0ma\u001b[0m\u001b[0;34m)\u001b[0m\u001b[0;34m\u001b[0m\u001b[0;34m\u001b[0m\u001b[0m\n\u001b[1;32m      4\u001b[0m \u001b[0mprint\u001b[0m\u001b[0;34m(\u001b[0m\u001b[0;34m'Membership Operator -'\u001b[0m\u001b[0;34m,\u001b[0m \u001b[0mb\u001b[0m \u001b[0;32mnot\u001b[0m \u001b[0;32min\u001b[0m \u001b[0ma\u001b[0m\u001b[0;34m)\u001b[0m\u001b[0;34m\u001b[0m\u001b[0;34m\u001b[0m\u001b[0m\n\u001b[0;32m----> 5\u001b[0;31m \u001b[0mprint\u001b[0m\u001b[0;34m(\u001b[0m\u001b[0;34m'Membership Operator -'\u001b[0m\u001b[0;34m,\u001b[0m \u001b[0ma\u001b[0m \u001b[0;32min\u001b[0m \u001b[0mb\u001b[0m\u001b[0;34m)\u001b[0m\u001b[0;34m\u001b[0m\u001b[0;34m\u001b[0m\u001b[0m\n\u001b[0m\u001b[1;32m      6\u001b[0m \u001b[0mprint\u001b[0m\u001b[0;34m(\u001b[0m\u001b[0;34m'Membership Operator -'\u001b[0m\u001b[0;34m,\u001b[0m \u001b[0ma\u001b[0m \u001b[0;32mnot\u001b[0m \u001b[0;32min\u001b[0m \u001b[0mb\u001b[0m\u001b[0;34m)\u001b[0m\u001b[0;34m\u001b[0m\u001b[0;34m\u001b[0m\u001b[0m\n",
            "\u001b[0;31mTypeError\u001b[0m: argument of type 'int' is not iterable"
          ]
        }
      ]
    },
    {
      "cell_type": "code",
      "metadata": {
        "colab": {
          "base_uri": "https://localhost:8080/"
        },
        "id": "UWOZe5vZ4gW4",
        "outputId": "c7e6e02c-c05e-4f17-aa14-c9bf830e8331"
      },
      "source": [
        "a = [10]\n",
        "b = [10]\n",
        "print('Membership Operator -', b in a)\n",
        "print('Membership Operator -', b not in a)\n",
        "print('Membership Operator -', a in b)\n",
        "print('Membership Operator -', a not in b)"
      ],
      "execution_count": 55,
      "outputs": [
        {
          "output_type": "stream",
          "name": "stdout",
          "text": [
            "Membership Operator - False\n",
            "Membership Operator - True\n",
            "Membership Operator - False\n",
            "Membership Operator - True\n"
          ]
        }
      ]
    },
    {
      "cell_type": "code",
      "metadata": {
        "colab": {
          "base_uri": "https://localhost:8080/"
        },
        "id": "n2D_zWPZ4j5f",
        "outputId": "ad31a92c-f1d8-4c0c-e34f-a7a37463495e"
      },
      "source": [
        "a = [10]\n",
        "b = 20\n",
        "print('Membership Operator -', b in a)\n",
        "print('Membership Operator -', b not in a)"
      ],
      "execution_count": 57,
      "outputs": [
        {
          "output_type": "stream",
          "name": "stdout",
          "text": [
            "Membership Operator - False\n",
            "Membership Operator - True\n"
          ]
        }
      ]
    },
    {
      "cell_type": "code",
      "metadata": {
        "colab": {
          "base_uri": "https://localhost:8080/"
        },
        "id": "yTt9LoYx4qiJ",
        "outputId": "12c52b89-a503-4af1-a57f-16b79cfa79be"
      },
      "source": [
        "#Identity Operator\n",
        "#is Operator\n",
        "a = 10\n",
        "b = 20\n",
        "print('Identity Operator -', a is b)\n",
        "print('Identity Operator -', a is not b)\n",
        "print('Identity Operator -', b is a)\n",
        "print('Identity Operator -', b is not a)"
      ],
      "execution_count": 62,
      "outputs": [
        {
          "output_type": "stream",
          "name": "stdout",
          "text": [
            "Identity Operator - False\n",
            "Identity Operator - True\n",
            "Identity Operator - False\n",
            "Identity Operator - True\n"
          ]
        }
      ]
    },
    {
      "cell_type": "code",
      "metadata": {
        "colab": {
          "base_uri": "https://localhost:8080/"
        },
        "id": "Ox5bxsF55eqc",
        "outputId": "948b5b70-ca42-46e6-b085-3bf320970928"
      },
      "source": [
        "a = 10\n",
        "b = 10\n",
        "print('Identity Operator -', a is b)\n",
        "print('Identity Operator -', a is not b)\n",
        "print('Identity Operator -', b is a)\n",
        "print('Identity Operator -', b is not a)"
      ],
      "execution_count": 60,
      "outputs": [
        {
          "output_type": "stream",
          "name": "stdout",
          "text": [
            "Identity Operator - True\n",
            "Identity Operator - False\n",
            "Identity Operator - True\n",
            "Identity Operator - True\n"
          ]
        }
      ]
    },
    {
      "cell_type": "code",
      "metadata": {
        "colab": {
          "base_uri": "https://localhost:8080/"
        },
        "id": "bJH9TKxI5jG6",
        "outputId": "a31001c6-5744-4bfe-d6a0-a34e43026c6e"
      },
      "source": [
        "a = False\n",
        "b = True\n",
        "print('Identity Operator -', a is b)\n",
        "print('Identity Operator -', a is not b)\n",
        "print('Identity Operator -', b is a)\n",
        "print('Identity Operator -', b is not a)"
      ],
      "execution_count": 65,
      "outputs": [
        {
          "output_type": "stream",
          "name": "stdout",
          "text": [
            "Identity Operator - False\n",
            "Identity Operator - True\n",
            "Identity Operator - False\n",
            "Identity Operator - True\n"
          ]
        }
      ]
    }
  ]
}