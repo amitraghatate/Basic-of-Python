{
  "nbformat": 4,
  "nbformat_minor": 0,
  "metadata": {
    "colab": {
      "name": "Secret code & Secret Password.ipynb",
      "provenance": [],
      "collapsed_sections": [],
      "authorship_tag": "ABX9TyO8Rn9ZL5rYw82iN2kCvM9s",
      "include_colab_link": true
    },
    "kernelspec": {
      "name": "python3",
      "display_name": "Python 3"
    },
    "language_info": {
      "name": "python"
    }
  },
  "cells": [
    {
      "cell_type": "markdown",
      "metadata": {
        "id": "view-in-github",
        "colab_type": "text"
      },
      "source": [
        "<a href=\"https://colab.research.google.com/github/amitraghatate/Basic-of-Python/blob/Secret-Password/Secret_code_%26_Secret_Password.ipynb\" target=\"_parent\"><img src=\"https://colab.research.google.com/assets/colab-badge.svg\" alt=\"Open In Colab\"/></a>"
      ]
    },
    {
      "cell_type": "code",
      "metadata": {
        "colab": {
          "base_uri": "https://localhost:8080/"
        },
        "id": "dHtJg-TXJ0Xn",
        "outputId": "1c6c2808-315e-4ac1-ae94-163c4da3b735"
      },
      "source": [
        "a_dict_personal_code = {}\n",
        "a_dict_hard_coded_values = {\"A\":1,\"B\":2,\"C\":3,\"D\":4,\"E\":5,\"F\":6,\"G\":7,\"H\":8,\"I\":9,\"J\":10,\"K\":11,\"L\":12,\"M\":13,\"N\":14,\"O\":15,\"P\":16,\"Q\":17,\"R\":18,\"S\":19,\"T\":20,\"U\":21,\"V\":22,\"W\":23,\"X\":24,\"Y\":25,\"Z\":26}\n",
        "b_list_name_surname = []\n",
        "b_list_ind_char = []\n",
        "b_list_unique = []\n",
        "name = []\n",
        "surname = []\n",
        "dummy = []\n",
        "\n",
        "user_input_1 = input(\"Enter Name Surname Seperated by '@'\")\n",
        "\n",
        "if(user_input_1.count(\"@\") == 1):\n",
        "    b_list_name_surname = user_input_1.split(\"@\")\n",
        "    if(len(b_list_name_surname)>=3):\n",
        "        pass\n",
        "    else:\n",
        "        b_list_name_surname[0] = b_list_name_surname[0] + \"X\"\n",
        "    if(len(b_list_name_surname)>=3):\n",
        "        pass\n",
        "    else:\n",
        "        b_list_name_surname[1] = b_list_name_surname[1] + \"Z\"\n",
        "#Validation for Name and Surname Completed\n",
        "\n",
        "    b_list_ind_char = b_list_name_surname[0] + b_list_name_surname[1]\n",
        "\n",
        "    for i in range (0,len(b_list_ind_char)):\n",
        "        if(b_list_ind_char[i] in b_list_unique):\n",
        "            pass\n",
        "        else:\n",
        "            b_list_unique.append(b_list_ind_char[i])\n",
        "\n",
        "    for i in range (0,len(b_list_name_surname)):\n",
        "        for j in range (0,len(b_list_name_surname[i])):\n",
        "            if b_list_name_surname[i][j] in dummy:\n",
        "                pass\n",
        "            else:\n",
        "                dummy.append(b_list_name_surname[i][j])\n",
        "        if(i==0):\n",
        "                name = dummy.copy()\n",
        "                dummy.clear()\n",
        "    surname = dummy.copy()\n",
        "    print(name)\n",
        "    print(surname)\n",
        "\n",
        "    for i in range (0,3):\n",
        "        a_dict_personal_code[name[i]] = a_dict_hard_coded_values[name[i]]\n",
        "    print(a_dict_personal_code)         \n",
        "    for i in range (0,3):\n",
        "        a_dict_personal_code[surname[i]] = a_dict_hard_coded_values[surname[i]]\n",
        "    print(a_dict_personal_code)\n",
        "\n",
        "    user_input_2 =input(\"Enter the number between 1 to 3\")\n",
        "    if user_input_2.isnumeric:\n",
        "        if(int(user_input_2) > 0 and int(user_input_2) < 4):\n",
        "            user_input_2 = int(user_input_2)\n",
        "        else:\n",
        "            user_input_2 = 3\n",
        "    else:\n",
        "        user_input_2 = 3\n",
        "    print(user_input_2)\n",
        "\n",
        "    secret_code = a_dict_personal_code[name[user_input_2 - 1]] + a_dict_personal_code[surname[user_input_2 - 1]]\n",
        "\n",
        "    for key, value in a_dict_hard_coded_values.items():\n",
        "        if value == secret_code:\n",
        "                secret_key = key\n",
        "    print(\"secret key\", secret_key)\n",
        "    print(\"secret code\", secret_code)\n",
        "    print(f\"{name[user_input_2 - 1]} {a_dict_hard_coded_values[name[user_input_2 - 1]]} {surname[user_input_2 - 1]} {a_dict_personal_code[surname[user_input_2 - 1]]} {secret_key} {secret_code}\")\n",
        "\n",
        "else:\n",
        "    print(\"Wrong entry, try again\")\n",
        "    "
      ],
      "execution_count": 2,
      "outputs": [
        {
          "output_type": "stream",
          "name": "stdout",
          "text": [
            "Enter Name Surname Seperated by '@'ABC@DEF\n",
            "['A', 'B', 'C', 'X']\n",
            "['D', 'E', 'F', 'Z']\n",
            "{'A': 1, 'B': 2, 'C': 3}\n",
            "{'A': 1, 'B': 2, 'C': 3, 'D': 4, 'E': 5, 'F': 6}\n",
            "Enter the number between 1 to 33\n",
            "3\n",
            "secret key I\n",
            "secret code 9\n",
            "C 3 F 6 I 9\n"
          ]
        }
      ]
    }
  ]
}