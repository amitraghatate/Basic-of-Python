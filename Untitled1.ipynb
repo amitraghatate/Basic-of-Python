{
  "nbformat": 4,
  "nbformat_minor": 0,
  "metadata": {
    "colab": {
      "name": "Untitled1.ipynb",
      "provenance": [],
      "authorship_tag": "ABX9TyOngC5MlDMmYmct0uE1Fm6K",
      "include_colab_link": true
    },
    "kernelspec": {
      "name": "python3",
      "display_name": "Python 3"
    },
    "language_info": {
      "name": "python"
    }
  },
  "cells": [
    {
      "cell_type": "markdown",
      "metadata": {
        "id": "view-in-github",
        "colab_type": "text"
      },
      "source": [
        "<a href=\"https://colab.research.google.com/github/amitraghatate/Basic-of-Python/blob/main/Untitled1.ipynb\" target=\"_parent\"><img src=\"https://colab.research.google.com/assets/colab-badge.svg\" alt=\"Open In Colab\"/></a>"
      ]
    },
    {
      "cell_type": "code",
      "metadata": {
        "colab": {
          "base_uri": "https://localhost:8080/"
        },
        "id": "g3NviG36GvBF",
        "outputId": "08c12c7c-44f2-4df1-fa69-7739c3c73c26"
      },
      "source": [
        "var_str = 'Yeh Tera Ghar Yeh Mera Ghar'\n",
        "print(var_str)"
      ],
      "execution_count": 3,
      "outputs": [
        {
          "output_type": "stream",
          "name": "stdout",
          "text": [
            "Yeh Tera Ghar Yeh Mera Ghar\n"
          ]
        }
      ]
    },
    {
      "cell_type": "code",
      "metadata": {
        "colab": {
          "base_uri": "https://localhost:8080/"
        },
        "id": "FBIlP9-CHD_w",
        "outputId": "45d358be-a70e-49c5-8078-9b77578a3b83"
      },
      "source": [
        "#Slicing of string Word by Word\n",
        "print(var_str[0:len(var_str):1])\n",
        "print(var_str[0:1:])\n",
        "print(var_str[1:2:])\n",
        "print(var_str[2:3:])\n",
        "print(var_str[3:4:])\n",
        "print(var_str[4:5:])\n",
        "print(var_str[5:6:])\n",
        "print(var_str[6:7:])\n",
        "print(var_str[7:8:])\n",
        "print(var_str[8:9:])\n",
        "print(var_str[9:10:])\n",
        "print(var_str[10:11:])\n",
        "print(var_str[11:12:])\n",
        "print(var_str[12:13:])\n",
        "print(var_str[13:14:])\n",
        "print(var_str[14:15:])\n",
        "print(var_str[15:16:])\n",
        "print(var_str[16:17:])\n",
        "print(var_str[17:18:])\n",
        "print(var_str[18:19:])\n",
        "print(var_str[19:20:])\n",
        "print(var_str[20:21:])\n",
        "print(var_str[21:22:])\n",
        "print(var_str[22:23:])\n",
        "print(var_str[23:24:])\n",
        "print(var_str[24:25:])\n",
        "print(var_str[25:26:])\n",
        "print(var_str[26:27:])"
      ],
      "execution_count": 4,
      "outputs": [
        {
          "output_type": "stream",
          "name": "stdout",
          "text": [
            "Yeh Tera Ghar Yeh Mera Ghar\n",
            "Y\n",
            "e\n",
            "h\n",
            " \n",
            "T\n",
            "e\n",
            "r\n",
            "a\n",
            " \n",
            "G\n",
            "h\n",
            "a\n",
            "r\n",
            " \n",
            "Y\n",
            "e\n",
            "h\n",
            " \n",
            "M\n",
            "e\n",
            "r\n",
            "a\n",
            " \n",
            "G\n",
            "h\n",
            "a\n",
            "r\n"
          ]
        }
      ]
    },
    {
      "cell_type": "code",
      "metadata": {
        "colab": {
          "base_uri": "https://localhost:8080/",
          "height": 35
        },
        "id": "k0AwIwefIFnE",
        "outputId": "6e9b1731-8afe-4abe-e900-6579343e1dcd"
      },
      "source": [
        "var_str = 'The Chronicles Of Narnia: The Lion, The Witch And The Wardrobe'\n",
        "var_str"
      ],
      "execution_count": 5,
      "outputs": [
        {
          "output_type": "execute_result",
          "data": {
            "application/vnd.google.colaboratory.intrinsic+json": {
              "type": "string"
            },
            "text/plain": [
              "'The Chronicles Of Narnia: The Lion, The Witch And The Wardrobe'"
            ]
          },
          "metadata": {},
          "execution_count": 5
        }
      ]
    },
    {
      "cell_type": "code",
      "metadata": {
        "colab": {
          "base_uri": "https://localhost:8080/"
        },
        "id": "EIpaRIO0MJ7U",
        "outputId": "bbdf1c55-8403-4f0f-f32f-04d0d9e6cf57"
      },
      "source": [
        "print(var_str[:1])\n",
        "print(var_str[1:2])\n",
        "print(var_str[2:3])\n",
        "print(var_str[3:4])\n",
        "print(var_str[4:5])\n",
        "print(var_str[5:6])\n",
        "print(var_str[6:7])\n",
        "print(var_str[7:8])\n",
        "print(var_str[8:9])\n",
        "print(var_str[9:10])\n",
        "print(var_str[10:11])\n",
        "print(var_str[11:12])\n",
        "print(var_str[12:13])\n",
        "print(var_str[13:14])\n",
        "print(var_str[14:15])\n",
        "print(var_str[15:16])\n",
        "print(var_str[16:17])\n",
        "print(var_str[17:18])\n",
        "print(var_str[18:19])\n",
        "print(var_str[19:20])\n",
        "print(var_str[20:21])\n",
        "print(var_str[21:22])\n",
        "print(var_str[22:23])\n",
        "print(var_str[23:24])\n",
        "print(var_str[24:25])\n",
        "print(var_str[25:26])\n",
        "print(var_str[26:27])\n",
        "print(var_str[27:28])\n",
        "print(var_str[28:29])\n",
        "print(var_str[29:30])\n",
        "print(var_str[30:31])\n",
        "print(var_str[31:32])\n",
        "print(var_str[32:33])\n",
        "print(var_str[33:34])\n",
        "print(var_str[34:35])\n",
        "print(var_str[35:36])\n",
        "print(var_str[36:37])\n",
        "print(var_str[37:38])\n",
        "print(var_str[38:39])\n",
        "print(var_str[39:40])\n",
        "print(var_str[40:41])\n",
        "print(var_str[41:42])\n",
        "print(var_str[42:43])\n",
        "print(var_str[43:44])\n",
        "print(var_str[44:45])\n",
        "print(var_str[45:46])\n",
        "print(var_str[46:47])\n",
        "print(var_str[47:48])\n",
        "print(var_str[48:49])\n",
        "print(var_str[49:50])\n",
        "print(var_str[50:51])\n",
        "print(var_str[51:52])\n",
        "print(var_str[52:53])\n",
        "print(var_str[53:54])\n",
        "print(var_str[54:55])\n",
        "print(var_str[55:56])\n",
        "print(var_str[56:57])\n",
        "print(var_str[57:58])\n",
        "print(var_str[58:59])\n",
        "print(var_str[59:60])\n",
        "print(var_str[60:61])\n",
        "print(var_str[61:62])"
      ],
      "execution_count": 6,
      "outputs": [
        {
          "output_type": "stream",
          "name": "stdout",
          "text": [
            "T\n",
            "h\n",
            "e\n",
            " \n",
            "C\n",
            "h\n",
            "r\n",
            "o\n",
            "n\n",
            "i\n",
            "c\n",
            "l\n",
            "e\n",
            "s\n",
            " \n",
            "O\n",
            "f\n",
            " \n",
            "N\n",
            "a\n",
            "r\n",
            "n\n",
            "i\n",
            "a\n",
            ":\n",
            " \n",
            "T\n",
            "h\n",
            "e\n",
            " \n",
            "L\n",
            "i\n",
            "o\n",
            "n\n",
            ",\n",
            " \n",
            "T\n",
            "h\n",
            "e\n",
            " \n",
            "W\n",
            "i\n",
            "t\n",
            "c\n",
            "h\n",
            " \n",
            "A\n",
            "n\n",
            "d\n",
            " \n",
            "T\n",
            "h\n",
            "e\n",
            " \n",
            "W\n",
            "a\n",
            "r\n",
            "d\n",
            "r\n",
            "o\n",
            "b\n",
            "e\n"
          ]
        }
      ]
    },
    {
      "cell_type": "code",
      "metadata": {
        "colab": {
          "base_uri": "https://localhost:8080/",
          "height": 35
        },
        "id": "jkptXIJKONGb",
        "outputId": "4e31a316-e11f-43fb-9bf9-c9b526f773c9"
      },
      "source": [
        "var_str = 'Borat: Cultural Learnings Of America For Make Benefit Glorious Nation Of Kazakhstan'\n",
        "var_str"
      ],
      "execution_count": 7,
      "outputs": [
        {
          "output_type": "execute_result",
          "data": {
            "application/vnd.google.colaboratory.intrinsic+json": {
              "type": "string"
            },
            "text/plain": [
              "'Borat: Cultural Learnings Of America For Make Benefit Glorious Nation Of Kazakhstan'"
            ]
          },
          "metadata": {},
          "execution_count": 7
        }
      ]
    },
    {
      "cell_type": "code",
      "metadata": {
        "colab": {
          "base_uri": "https://localhost:8080/"
        },
        "id": "9yRbqOjvOmaM",
        "outputId": "a7460004-eae3-4150-cc40-0a798d9bcf20"
      },
      "source": [
        "print(var_str[:1])\n",
        "print(var_str[1:2])\n",
        "print(var_str[2:3])\n",
        "print(var_str[3:4])\n",
        "print(var_str[4:5])\n",
        "print(var_str[5:6])\n",
        "print(var_str[6:7])\n",
        "print(var_str[7:8])\n",
        "print(var_str[8:9])\n",
        "print(var_str[9:10])\n",
        "print(var_str[10:11])\n",
        "print(var_str[11:12])\n",
        "print(var_str[12:13])\n",
        "print(var_str[13:14])\n",
        "print(var_str[14:15])\n",
        "print(var_str[15:16])\n",
        "print(var_str[16:17])\n",
        "print(var_str[17:18])\n",
        "print(var_str[18:19])\n",
        "print(var_str[19:20])\n",
        "print(var_str[20:21])\n",
        "print(var_str[21:22])\n",
        "print(var_str[22:23])\n",
        "print(var_str[23:24])\n",
        "print(var_str[24:25])\n",
        "print(var_str[25:26])\n",
        "print(var_str[26:27])\n",
        "print(var_str[27:28])\n",
        "print(var_str[28:29])\n",
        "print(var_str[29:30])\n",
        "print(var_str[30:31])\n",
        "print(var_str[31:32])\n",
        "print(var_str[32:33])\n",
        "print(var_str[33:34])\n",
        "print(var_str[34:35])\n",
        "print(var_str[35:36])\n",
        "print(var_str[36:37])\n",
        "print(var_str[37:38])\n",
        "print(var_str[38:39])\n",
        "print(var_str[39:40])\n",
        "print(var_str[40:41])\n",
        "print(var_str[41:42])\n",
        "print(var_str[42:43])\n",
        "print(var_str[43:44])\n",
        "print(var_str[44:45])\n",
        "print(var_str[45:46])\n",
        "print(var_str[46:47])\n",
        "print(var_str[47:48])\n",
        "print(var_str[48:49])\n",
        "print(var_str[49:50])\n",
        "print(var_str[50:51])\n",
        "print(var_str[51:52])\n",
        "print(var_str[52:53])\n",
        "print(var_str[53:54])\n",
        "print(var_str[54:55])\n",
        "print(var_str[55:56])\n",
        "print(var_str[56:57])\n",
        "print(var_str[57:58])\n",
        "print(var_str[58:59])\n",
        "print(var_str[59:60])\n",
        "print(var_str[60:61])\n",
        "print(var_str[61:62])\n",
        "print(var_str[62:63])\n",
        "print(var_str[63:64])\n",
        "print(var_str[64:65])\n",
        "print(var_str[65:66])\n",
        "print(var_str[66:67])\n",
        "print(var_str[67:68])\n",
        "print(var_str[68:69])\n",
        "print(var_str[69:70])\n",
        "print(var_str[70:71])\n",
        "print(var_str[71:72])\n",
        "print(var_str[72:73])\n",
        "print(var_str[73:74])\n",
        "print(var_str[74:75])\n",
        "print(var_str[75:76])\n",
        "print(var_str[76:77])\n",
        "print(var_str[77:78])\n",
        "print(var_str[78:79])\n",
        "print(var_str[79:80])\n",
        "print(var_str[80:81])\n",
        "print(var_str[81:82])\n",
        "print(var_str[82:83])"
      ],
      "execution_count": 8,
      "outputs": [
        {
          "output_type": "stream",
          "name": "stdout",
          "text": [
            "B\n",
            "o\n",
            "r\n",
            "a\n",
            "t\n",
            ":\n",
            " \n",
            "C\n",
            "u\n",
            "l\n",
            "t\n",
            "u\n",
            "r\n",
            "a\n",
            "l\n",
            " \n",
            "L\n",
            "e\n",
            "a\n",
            "r\n",
            "n\n",
            "i\n",
            "n\n",
            "g\n",
            "s\n",
            " \n",
            "O\n",
            "f\n",
            " \n",
            "A\n",
            "m\n",
            "e\n",
            "r\n",
            "i\n",
            "c\n",
            "a\n",
            " \n",
            "F\n",
            "o\n",
            "r\n",
            " \n",
            "M\n",
            "a\n",
            "k\n",
            "e\n",
            " \n",
            "B\n",
            "e\n",
            "n\n",
            "e\n",
            "f\n",
            "i\n",
            "t\n",
            " \n",
            "G\n",
            "l\n",
            "o\n",
            "r\n",
            "i\n",
            "o\n",
            "u\n",
            "s\n",
            " \n",
            "N\n",
            "a\n",
            "t\n",
            "i\n",
            "o\n",
            "n\n",
            " \n",
            "O\n",
            "f\n",
            " \n",
            "K\n",
            "a\n",
            "z\n",
            "a\n",
            "k\n",
            "h\n",
            "s\n",
            "t\n",
            "a\n",
            "n\n"
          ]
        }
      ]
    },
    {
      "cell_type": "code",
      "metadata": {
        "colab": {
          "base_uri": "https://localhost:8080/",
          "height": 35
        },
        "id": "x4oQqscaPm-v",
        "outputId": "13b2bffd-fa2c-4f75-c9a5-14bd9274dc0c"
      },
      "source": [
        "var_str = 'Dr. Strangelove Or: How I Learned To Stop Worrying And Love The Bomb'\n",
        "var_str"
      ],
      "execution_count": 9,
      "outputs": [
        {
          "output_type": "execute_result",
          "data": {
            "application/vnd.google.colaboratory.intrinsic+json": {
              "type": "string"
            },
            "text/plain": [
              "'Dr. Strangelove Or: How I Learned To Stop Worrying And Love The Bomb'"
            ]
          },
          "metadata": {},
          "execution_count": 9
        }
      ]
    },
    {
      "cell_type": "code",
      "metadata": {
        "colab": {
          "base_uri": "https://localhost:8080/"
        },
        "id": "-d7LpXvWP6DA",
        "outputId": "3f2ad992-e8ae-4528-a1da-6f39c55d2358"
      },
      "source": [
        "print(var_str[:1])\n",
        "print(var_str[1:2])\n",
        "print(var_str[2:3])\n",
        "print(var_str[3:4])\n",
        "print(var_str[4:5])\n",
        "print(var_str[5:6])\n",
        "print(var_str[6:7])\n",
        "print(var_str[7:8])\n",
        "print(var_str[8:9])\n",
        "print(var_str[9:10])\n",
        "print(var_str[10:11])\n",
        "print(var_str[11:12])\n",
        "print(var_str[12:13])\n",
        "print(var_str[13:14])\n",
        "print(var_str[14:15])\n",
        "print(var_str[15:16])\n",
        "print(var_str[16:17])\n",
        "print(var_str[17:18])\n",
        "print(var_str[18:19])\n",
        "print(var_str[19:20])\n",
        "print(var_str[20:21])\n",
        "print(var_str[21:22])\n",
        "print(var_str[22:23])\n",
        "print(var_str[23:24])\n",
        "print(var_str[24:25])\n",
        "print(var_str[25:26])\n",
        "print(var_str[26:27])\n",
        "print(var_str[27:28])\n",
        "print(var_str[28:29])\n",
        "print(var_str[29:30])\n",
        "print(var_str[30:31])\n",
        "print(var_str[31:32])\n",
        "print(var_str[32:33])\n",
        "print(var_str[33:34])\n",
        "print(var_str[34:35])\n",
        "print(var_str[35:36])\n",
        "print(var_str[36:37])\n",
        "print(var_str[37:38])\n",
        "print(var_str[38:39])\n",
        "print(var_str[39:40])\n",
        "print(var_str[40:41])\n",
        "print(var_str[41:42])\n",
        "print(var_str[42:43])\n",
        "print(var_str[43:44])\n",
        "print(var_str[44:45])\n",
        "print(var_str[45:46])\n",
        "print(var_str[46:47])\n",
        "print(var_str[47:48])\n",
        "print(var_str[48:49])\n",
        "print(var_str[49:50])\n",
        "print(var_str[50:51])\n",
        "print(var_str[51:52])\n",
        "print(var_str[52:53])\n",
        "print(var_str[53:54])\n",
        "print(var_str[54:55])\n",
        "print(var_str[55:56])\n",
        "print(var_str[56:57])\n",
        "print(var_str[57:58])\n",
        "print(var_str[58:59])\n",
        "print(var_str[59:60])\n",
        "print(var_str[60:61])\n",
        "print(var_str[61:62])\n",
        "print(var_str[62:63])\n",
        "print(var_str[63:64])\n",
        "print(var_str[64:65])\n",
        "print(var_str[65:66])\n",
        "print(var_str[66:67])\n",
        "print(var_str[67:68])"
      ],
      "execution_count": 10,
      "outputs": [
        {
          "output_type": "stream",
          "name": "stdout",
          "text": [
            "D\n",
            "r\n",
            ".\n",
            " \n",
            "S\n",
            "t\n",
            "r\n",
            "a\n",
            "n\n",
            "g\n",
            "e\n",
            "l\n",
            "o\n",
            "v\n",
            "e\n",
            " \n",
            "O\n",
            "r\n",
            ":\n",
            " \n",
            "H\n",
            "o\n",
            "w\n",
            " \n",
            "I\n",
            " \n",
            "L\n",
            "e\n",
            "a\n",
            "r\n",
            "n\n",
            "e\n",
            "d\n",
            " \n",
            "T\n",
            "o\n",
            " \n",
            "S\n",
            "t\n",
            "o\n",
            "p\n",
            " \n",
            "W\n",
            "o\n",
            "r\n",
            "r\n",
            "y\n",
            "i\n",
            "n\n",
            "g\n",
            " \n",
            "A\n",
            "n\n",
            "d\n",
            " \n",
            "L\n",
            "o\n",
            "v\n",
            "e\n",
            " \n",
            "T\n",
            "h\n",
            "e\n",
            " \n",
            "B\n",
            "o\n",
            "m\n",
            "b\n"
          ]
        }
      ]
    },
    {
      "cell_type": "code",
      "metadata": {
        "colab": {
          "base_uri": "https://localhost:8080/",
          "height": 35
        },
        "id": "I2KKhUFeQOeU",
        "outputId": "598c0a86-3da5-49b4-b13c-97fc4c797771"
      },
      "source": [
        "var_str = 'I Killed My Lesbian Wife, Hung Her On A Meat'\n",
        "var_str"
      ],
      "execution_count": 11,
      "outputs": [
        {
          "output_type": "execute_result",
          "data": {
            "application/vnd.google.colaboratory.intrinsic+json": {
              "type": "string"
            },
            "text/plain": [
              "'I Killed My Lesbian Wife, Hung Her On A Meat'"
            ]
          },
          "metadata": {},
          "execution_count": 11
        }
      ]
    },
    {
      "cell_type": "code",
      "metadata": {
        "colab": {
          "base_uri": "https://localhost:8080/"
        },
        "id": "YZDINDxUQYq4",
        "outputId": "2e1d2cd8-6088-4f71-ccf5-7eda6614646e"
      },
      "source": [
        "print(var_str[:1])\n",
        "print(var_str[1:2])\n",
        "print(var_str[2:3])\n",
        "print(var_str[3:4])\n",
        "print(var_str[4:5])\n",
        "print(var_str[5:6])\n",
        "print(var_str[6:7])\n",
        "print(var_str[7:8])\n",
        "print(var_str[8:9])\n",
        "print(var_str[9:10])\n",
        "print(var_str[10:11])\n",
        "print(var_str[11:12])\n",
        "print(var_str[12:13])\n",
        "print(var_str[13:14])\n",
        "print(var_str[14:15])\n",
        "print(var_str[15:16])\n",
        "print(var_str[16:17])\n",
        "print(var_str[17:18])\n",
        "print(var_str[18:19])\n",
        "print(var_str[19:20])\n",
        "print(var_str[20:21])\n",
        "print(var_str[21:22])\n",
        "print(var_str[22:23])\n",
        "print(var_str[23:24])\n",
        "print(var_str[24:25])\n",
        "print(var_str[25:26])\n",
        "print(var_str[26:27])\n",
        "print(var_str[27:28])\n",
        "print(var_str[28:29])\n",
        "print(var_str[29:30])\n",
        "print(var_str[30:31])\n",
        "print(var_str[31:32])\n",
        "print(var_str[32:33])\n",
        "print(var_str[33:34])\n",
        "print(var_str[34:35])\n",
        "print(var_str[35:36])\n",
        "print(var_str[36:37])\n",
        "print(var_str[37:38])\n",
        "print(var_str[38:39])\n",
        "print(var_str[39:40])\n",
        "print(var_str[40:41])\n",
        "print(var_str[41:42])\n",
        "print(var_str[42:43])\n",
        "print(var_str[43:44])"
      ],
      "execution_count": 14,
      "outputs": [
        {
          "output_type": "stream",
          "name": "stdout",
          "text": [
            "I\n",
            " \n",
            "K\n",
            "i\n",
            "l\n",
            "l\n",
            "e\n",
            "d\n",
            " \n",
            "M\n",
            "y\n",
            " \n",
            "L\n",
            "e\n",
            "s\n",
            "b\n",
            "i\n",
            "a\n",
            "n\n",
            " \n",
            "W\n",
            "i\n",
            "f\n",
            "e\n",
            ",\n",
            " \n",
            "H\n",
            "u\n",
            "n\n",
            "g\n",
            " \n",
            "H\n",
            "e\n",
            "r\n",
            " \n",
            "O\n",
            "n\n",
            " \n",
            "A\n",
            " \n",
            "M\n",
            "e\n",
            "a\n",
            "t\n"
          ]
        }
      ]
    }
  ]
}