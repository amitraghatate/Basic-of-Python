{
  "nbformat": 4,
  "nbformat_minor": 0,
  "metadata": {
    "colab": {
      "name": "Untitled0.ipynb",
      "provenance": [],
      "collapsed_sections": [],
      "toc_visible": true
    },
    "kernelspec": {
      "name": "python3",
      "display_name": "Python 3"
    },
    "language_info": {
      "name": "python"
    }
  },
  "cells": [
    {
      "cell_type": "code",
      "metadata": {
        "colab": {
          "base_uri": "https://localhost:8080/"
        },
        "id": "yVQTrbZY-z1z",
        "outputId": "30d28bab-1197-401b-e674-b6e8ca0f23dd"
      },
      "source": [
        "var_str = 'This is my First Code'\n",
        "print(var_str)"
      ],
      "execution_count": 1,
      "outputs": [
        {
          "output_type": "stream",
          "name": "stdout",
          "text": [
            "This is my First Code\n"
          ]
        }
      ]
    },
    {
      "cell_type": "code",
      "metadata": {
        "colab": {
          "base_uri": "https://localhost:8080/"
        },
        "id": "hg194gbe_pFh",
        "outputId": "c3d1b2aa-c37d-4343-e2ca-2b6bd8866721"
      },
      "source": [
        "type(var_str)"
      ],
      "execution_count": 2,
      "outputs": [
        {
          "output_type": "execute_result",
          "data": {
            "text/plain": [
              "str"
            ]
          },
          "metadata": {},
          "execution_count": 2
        }
      ]
    },
    {
      "cell_type": "code",
      "metadata": {
        "colab": {
          "base_uri": "https://localhost:8080/"
        },
        "id": "Kp8c-D4S_yoa",
        "outputId": "bf063d21-6c6c-46cc-d340-b2f77bb7971b"
      },
      "source": [
        "print(var_str[0])"
      ],
      "execution_count": 3,
      "outputs": [
        {
          "output_type": "stream",
          "name": "stdout",
          "text": [
            "T\n"
          ]
        }
      ]
    },
    {
      "cell_type": "code",
      "metadata": {
        "colab": {
          "base_uri": "https://localhost:8080/"
        },
        "id": "oedZjYk7_8ng",
        "outputId": "9241f355-8b1a-462d-8185-781405264f0f"
      },
      "source": [
        "print(var_str[1])"
      ],
      "execution_count": 4,
      "outputs": [
        {
          "output_type": "stream",
          "name": "stdout",
          "text": [
            "h\n"
          ]
        }
      ]
    },
    {
      "cell_type": "code",
      "metadata": {
        "colab": {
          "base_uri": "https://localhost:8080/"
        },
        "id": "12eRBz_TACCZ",
        "outputId": "13c4cb36-ef48-4282-c4ff-7ab7a0221bdb"
      },
      "source": [
        "print(var_str[0:4:])"
      ],
      "execution_count": 5,
      "outputs": [
        {
          "output_type": "stream",
          "name": "stdout",
          "text": [
            "This\n"
          ]
        }
      ]
    },
    {
      "cell_type": "code",
      "metadata": {
        "colab": {
          "base_uri": "https://localhost:8080/"
        },
        "id": "hJZ4lHIXARlh",
        "outputId": "99c53eb6-f4ad-471b-9740-d127dc1c06eb"
      },
      "source": [
        "print(var_str[11:16])"
      ],
      "execution_count": 6,
      "outputs": [
        {
          "output_type": "stream",
          "name": "stdout",
          "text": [
            "First\n"
          ]
        }
      ]
    },
    {
      "cell_type": "code",
      "metadata": {
        "colab": {
          "base_uri": "https://localhost:8080/"
        },
        "id": "fYhlckHAAiFa",
        "outputId": "3f68f6f6-d7ab-422a-f599-cdb8610e6bf1"
      },
      "source": [
        "print(var_str[:len(var_str)])"
      ],
      "execution_count": 7,
      "outputs": [
        {
          "output_type": "stream",
          "name": "stdout",
          "text": [
            "This is my First Code\n"
          ]
        }
      ]
    }
  ]
}