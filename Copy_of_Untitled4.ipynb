{
  "nbformat": 4,
  "nbformat_minor": 0,
  "metadata": {
    "colab": {
      "name": "Copy of Untitled4.ipynb",
      "provenance": [],
      "collapsed_sections": [],
      "authorship_tag": "ABX9TyPXRFD8DdjD/oSmcjZOB+tE",
      "include_colab_link": true
    },
    "kernelspec": {
      "name": "python3",
      "display_name": "Python 3"
    },
    "language_info": {
      "name": "python"
    }
  },
  "cells": [
    {
      "cell_type": "markdown",
      "metadata": {
        "id": "view-in-github",
        "colab_type": "text"
      },
      "source": [
        "<a href=\"https://colab.research.google.com/github/amitraghatate/Basic-of-Python/blob/main/Copy_of_Untitled4.ipynb\" target=\"_parent\"><img src=\"https://colab.research.google.com/assets/colab-badge.svg\" alt=\"Open In Colab\"/></a>"
      ]
    },
    {
      "cell_type": "code",
      "metadata": {
        "id": "ry0bndrgFFGz",
        "colab": {
          "base_uri": "https://localhost:8080/",
          "height": 35
        },
        "outputId": "df9078f0-f3fd-4c86-8a7b-6b78991caee8"
      },
      "source": [
        "var_str = 'python programming'\n",
        "var_str"
      ],
      "execution_count": null,
      "outputs": [
        {
          "output_type": "execute_result",
          "data": {
            "application/vnd.google.colaboratory.intrinsic+json": {
              "type": "string"
            },
            "text/plain": [
              "'python programming'"
            ]
          },
          "metadata": {},
          "execution_count": 1
        }
      ]
    },
    {
      "cell_type": "code",
      "metadata": {
        "colab": {
          "base_uri": "https://localhost:8080/",
          "height": 35
        },
        "id": "QD0A-LMvN76K",
        "outputId": "36fa4288-64fb-4a62-c553-b90837eafe56"
      },
      "source": [
        "var_str.capitalize()"
      ],
      "execution_count": null,
      "outputs": [
        {
          "output_type": "execute_result",
          "data": {
            "application/vnd.google.colaboratory.intrinsic+json": {
              "type": "string"
            },
            "text/plain": [
              "'Python programming'"
            ]
          },
          "metadata": {},
          "execution_count": 2
        }
      ]
    },
    {
      "cell_type": "code",
      "metadata": {
        "colab": {
          "base_uri": "https://localhost:8080/",
          "height": 35
        },
        "id": "dAm2-B1nOTmV",
        "outputId": "905d5ee6-5871-4eff-8559-a776bc348f69"
      },
      "source": [
        "var_str = 'PYTHON PROGRAMMING'\n",
        "var_str.casefold()"
      ],
      "execution_count": null,
      "outputs": [
        {
          "output_type": "execute_result",
          "data": {
            "application/vnd.google.colaboratory.intrinsic+json": {
              "type": "string"
            },
            "text/plain": [
              "'python programming'"
            ]
          },
          "metadata": {},
          "execution_count": 3
        }
      ]
    },
    {
      "cell_type": "code",
      "metadata": {
        "colab": {
          "base_uri": "https://localhost:8080/",
          "height": 35
        },
        "id": "BleoeWhdOif8",
        "outputId": "1f756d9c-9179-49a4-81a1-27f6f43c72e7"
      },
      "source": [
        "var_str = 'Python'\n",
        "var_str.center(10)"
      ],
      "execution_count": null,
      "outputs": [
        {
          "output_type": "execute_result",
          "data": {
            "application/vnd.google.colaboratory.intrinsic+json": {
              "type": "string"
            },
            "text/plain": [
              "'  Python  '"
            ]
          },
          "metadata": {},
          "execution_count": 4
        }
      ]
    },
    {
      "cell_type": "code",
      "metadata": {
        "colab": {
          "base_uri": "https://localhost:8080/",
          "height": 35
        },
        "id": "Orwzjfg5OwJI",
        "outputId": "ad0805a9-f05a-4e13-cfee-69683d0c986a"
      },
      "source": [
        "var_str.center(14,'*')"
      ],
      "execution_count": null,
      "outputs": [
        {
          "output_type": "execute_result",
          "data": {
            "application/vnd.google.colaboratory.intrinsic+json": {
              "type": "string"
            },
            "text/plain": [
              "'****Python****'"
            ]
          },
          "metadata": {},
          "execution_count": 5
        }
      ]
    },
    {
      "cell_type": "code",
      "metadata": {
        "colab": {
          "base_uri": "https://localhost:8080/"
        },
        "id": "e91H0CyOO6aS",
        "outputId": "3ae73f98-b4cb-4946-be7d-060bbe19526f"
      },
      "source": [
        "var_str = 'Python Progarmming'\n",
        "var_str.count('P')"
      ],
      "execution_count": null,
      "outputs": [
        {
          "output_type": "execute_result",
          "data": {
            "text/plain": [
              "2"
            ]
          },
          "metadata": {},
          "execution_count": 11
        }
      ]
    },
    {
      "cell_type": "code",
      "metadata": {
        "colab": {
          "base_uri": "https://localhost:8080/"
        },
        "id": "dkdtWkxJPbce",
        "outputId": "d4139929-2a7e-4b04-bf07-587e8dcce6f6"
      },
      "source": [
        "var_str.count(\"g\")"
      ],
      "execution_count": null,
      "outputs": [
        {
          "output_type": "execute_result",
          "data": {
            "text/plain": [
              "2"
            ]
          },
          "metadata": {},
          "execution_count": 12
        }
      ]
    },
    {
      "cell_type": "code",
      "metadata": {
        "colab": {
          "base_uri": "https://localhost:8080/"
        },
        "id": "bPuHHJF_PjxB",
        "outputId": "ab669f01-25be-4c49-d639-3b10551a0f54"
      },
      "source": [
        "var_str = 'Python Programming'\n",
        "var_str.encode('utf-8')"
      ],
      "execution_count": null,
      "outputs": [
        {
          "output_type": "execute_result",
          "data": {
            "text/plain": [
              "b'Python Programming'"
            ]
          },
          "metadata": {},
          "execution_count": 13
        }
      ]
    },
    {
      "cell_type": "code",
      "metadata": {
        "colab": {
          "base_uri": "https://localhost:8080/"
        },
        "id": "epQ61dKjP1Av",
        "outputId": "754f1c79-e862-411f-b247-6d22e1fa354e"
      },
      "source": [
        "var_str.encode('utf-16')"
      ],
      "execution_count": null,
      "outputs": [
        {
          "output_type": "execute_result",
          "data": {
            "text/plain": [
              "b'\\xff\\xfeP\\x00y\\x00t\\x00h\\x00o\\x00n\\x00 \\x00P\\x00r\\x00o\\x00g\\x00r\\x00a\\x00m\\x00m\\x00i\\x00n\\x00g\\x00'"
            ]
          },
          "metadata": {},
          "execution_count": 14
        }
      ]
    },
    {
      "cell_type": "code",
      "metadata": {
        "colab": {
          "base_uri": "https://localhost:8080/"
        },
        "id": "C8jPJTKlP7CY",
        "outputId": "1d8d4389-f67c-40f8-faa7-39178092458a"
      },
      "source": [
        "var_str.encode('utf-32')"
      ],
      "execution_count": null,
      "outputs": [
        {
          "output_type": "execute_result",
          "data": {
            "text/plain": [
              "b'\\xff\\xfe\\x00\\x00P\\x00\\x00\\x00y\\x00\\x00\\x00t\\x00\\x00\\x00h\\x00\\x00\\x00o\\x00\\x00\\x00n\\x00\\x00\\x00 \\x00\\x00\\x00P\\x00\\x00\\x00r\\x00\\x00\\x00o\\x00\\x00\\x00g\\x00\\x00\\x00r\\x00\\x00\\x00a\\x00\\x00\\x00m\\x00\\x00\\x00m\\x00\\x00\\x00i\\x00\\x00\\x00n\\x00\\x00\\x00g\\x00\\x00\\x00'"
            ]
          },
          "metadata": {},
          "execution_count": 15
        }
      ]
    },
    {
      "cell_type": "code",
      "metadata": {
        "colab": {
          "base_uri": "https://localhost:8080/"
        },
        "id": "uuwf7QeT5tpg",
        "outputId": "8ed8c0fc-8d95-4f13-a227-31ea6f870d47"
      },
      "source": [
        "var_str = 'Python Programming'\n",
        "var_str.endswith('g')"
      ],
      "execution_count": 3,
      "outputs": [
        {
          "output_type": "execute_result",
          "data": {
            "text/plain": [
              "True"
            ]
          },
          "metadata": {},
          "execution_count": 3
        }
      ]
    },
    {
      "cell_type": "code",
      "metadata": {
        "colab": {
          "base_uri": "https://localhost:8080/"
        },
        "id": "yd10O7mQ6X1O",
        "outputId": "a50555ee-84e6-4cd9-cae8-01a949d8a746"
      },
      "source": [
        "var_str.endswith('P')"
      ],
      "execution_count": 4,
      "outputs": [
        {
          "output_type": "execute_result",
          "data": {
            "text/plain": [
              "False"
            ]
          },
          "metadata": {},
          "execution_count": 4
        }
      ]
    },
    {
      "cell_type": "code",
      "metadata": {
        "colab": {
          "base_uri": "https://localhost:8080/"
        },
        "id": "CisY2a_w6eUt",
        "outputId": "deec863d-6662-4952-b480-97939da072e9"
      },
      "source": [
        "var_str.endswith('g',0,18)"
      ],
      "execution_count": 5,
      "outputs": [
        {
          "output_type": "execute_result",
          "data": {
            "text/plain": [
              "True"
            ]
          },
          "metadata": {},
          "execution_count": 5
        }
      ]
    },
    {
      "cell_type": "code",
      "metadata": {
        "colab": {
          "base_uri": "https://localhost:8080/",
          "height": 35
        },
        "id": "bPdXaFnG6mA7",
        "outputId": "416c62ff-98e5-41e8-91b7-c97f7a7ccf3d"
      },
      "source": [
        "var_str = 'Python Programming'\n",
        "var_str.expandtabs(8)"
      ],
      "execution_count": 6,
      "outputs": [
        {
          "output_type": "execute_result",
          "data": {
            "application/vnd.google.colaboratory.intrinsic+json": {
              "type": "string"
            },
            "text/plain": [
              "'Python Programming'"
            ]
          },
          "metadata": {},
          "execution_count": 6
        }
      ]
    },
    {
      "cell_type": "code",
      "metadata": {
        "id": "N3gKeaxS6_Lm"
      },
      "source": [
        ""
      ],
      "execution_count": null,
      "outputs": []
    },
    {
      "cell_type": "code",
      "metadata": {
        "colab": {
          "base_uri": "https://localhost:8080/"
        },
        "id": "g7keaS3F7CWC",
        "outputId": "c1bf1270-3bf6-485f-a14b-8d8b671c604b"
      },
      "source": [
        "var_str = 'Python Programming'\n",
        "var_str.find('n')"
      ],
      "execution_count": 8,
      "outputs": [
        {
          "output_type": "execute_result",
          "data": {
            "text/plain": [
              "5"
            ]
          },
          "metadata": {},
          "execution_count": 8
        }
      ]
    },
    {
      "cell_type": "code",
      "metadata": {
        "colab": {
          "base_uri": "https://localhost:8080/"
        },
        "id": "XtK1yeHX7NYm",
        "outputId": "4f970a37-bf7a-4878-a340-759f249fa943"
      },
      "source": [
        "var_str.find('y',0,18)"
      ],
      "execution_count": 9,
      "outputs": [
        {
          "output_type": "execute_result",
          "data": {
            "text/plain": [
              "1"
            ]
          },
          "metadata": {},
          "execution_count": 9
        }
      ]
    },
    {
      "cell_type": "code",
      "metadata": {
        "colab": {
          "base_uri": "https://localhost:8080/",
          "height": 35
        },
        "id": "gWSYqr7g7XJP",
        "outputId": "979f2b0d-cc81-45cc-d0d2-100aac202772"
      },
      "source": [
        "var_str = 'Python Programming'\n",
        "var_str.format()"
      ],
      "execution_count": 10,
      "outputs": [
        {
          "output_type": "execute_result",
          "data": {
            "application/vnd.google.colaboratory.intrinsic+json": {
              "type": "string"
            },
            "text/plain": [
              "'Python Programming'"
            ]
          },
          "metadata": {},
          "execution_count": 10
        }
      ]
    },
    {
      "cell_type": "code",
      "metadata": {
        "colab": {
          "base_uri": "https://localhost:8080/"
        },
        "id": "b33J4CPG7jk2",
        "outputId": "b091e63b-3514-4908-b8f9-2333f1b9ff3c"
      },
      "source": [
        "var_str = 'Python Programming'\n",
        "var_str.index('r')"
      ],
      "execution_count": 13,
      "outputs": [
        {
          "output_type": "execute_result",
          "data": {
            "text/plain": [
              "8"
            ]
          },
          "metadata": {},
          "execution_count": 13
        }
      ]
    },
    {
      "cell_type": "code",
      "metadata": {
        "colab": {
          "base_uri": "https://localhost:8080/"
        },
        "id": "tODjvl_-7vfx",
        "outputId": "7fb57544-2716-43c9-fdbc-a07c332e5ac2"
      },
      "source": [
        "var_str = 'Python Programming'\n",
        "var_str.isalnum()"
      ],
      "execution_count": 16,
      "outputs": [
        {
          "output_type": "execute_result",
          "data": {
            "text/plain": [
              "False"
            ]
          },
          "metadata": {},
          "execution_count": 16
        }
      ]
    },
    {
      "cell_type": "code",
      "metadata": {
        "colab": {
          "base_uri": "https://localhost:8080/"
        },
        "id": "2DfJsOQo8FKr",
        "outputId": "0c2fb8eb-4141-4efc-9e32-5fa292b114ef"
      },
      "source": [
        "var_str = '123456'\n",
        "var_str.isalnum()"
      ],
      "execution_count": 17,
      "outputs": [
        {
          "output_type": "execute_result",
          "data": {
            "text/plain": [
              "True"
            ]
          },
          "metadata": {},
          "execution_count": 17
        }
      ]
    },
    {
      "cell_type": "code",
      "metadata": {
        "colab": {
          "base_uri": "https://localhost:8080/"
        },
        "id": "E_2iXHJR8R1W",
        "outputId": "2cdca7d4-d2b7-4ff1-b591-f478d6a033dd"
      },
      "source": [
        "var_str = 'Python'\n",
        "var_str.isalpha()"
      ],
      "execution_count": 19,
      "outputs": [
        {
          "output_type": "execute_result",
          "data": {
            "text/plain": [
              "True"
            ]
          },
          "metadata": {},
          "execution_count": 19
        }
      ]
    },
    {
      "cell_type": "code",
      "metadata": {
        "colab": {
          "base_uri": "https://localhost:8080/"
        },
        "id": "yOcRYZ-M8lZW",
        "outputId": "ebfc8ef4-8bae-44cd-d5f6-be6e11fcdf1e"
      },
      "source": [
        "var_str = '@#$!%&*()'\n",
        "var_str.isascii()"
      ],
      "execution_count": 22,
      "outputs": [
        {
          "output_type": "execute_result",
          "data": {
            "text/plain": [
              "True"
            ]
          },
          "metadata": {},
          "execution_count": 22
        }
      ]
    },
    {
      "cell_type": "code",
      "metadata": {
        "colab": {
          "base_uri": "https://localhost:8080/"
        },
        "id": "XP1ackqj87gp",
        "outputId": "64e79cf1-3b3c-4cd6-8084-27971ca3a489"
      },
      "source": [
        "var_str = 'Python Programming'\n",
        "var_str.isdigit()"
      ],
      "execution_count": 23,
      "outputs": [
        {
          "output_type": "execute_result",
          "data": {
            "text/plain": [
              "False"
            ]
          },
          "metadata": {},
          "execution_count": 23
        }
      ]
    },
    {
      "cell_type": "code",
      "metadata": {
        "colab": {
          "base_uri": "https://localhost:8080/"
        },
        "id": "WJvti-_J9E8I",
        "outputId": "714f36ff-2d43-484d-9375-0a5cd1b941f7"
      },
      "source": [
        "var_str = '13458'\n",
        "var_str.isdigit()"
      ],
      "execution_count": 24,
      "outputs": [
        {
          "output_type": "execute_result",
          "data": {
            "text/plain": [
              "True"
            ]
          },
          "metadata": {},
          "execution_count": 24
        }
      ]
    },
    {
      "cell_type": "code",
      "metadata": {
        "colab": {
          "base_uri": "https://localhost:8080/"
        },
        "id": "O94aH5U19Oxz",
        "outputId": "6bd6f372-54e7-4fa0-cf6d-01be5b1b5073"
      },
      "source": [
        "var_str = 'for'\n",
        "var_str.isidentifier()"
      ],
      "execution_count": 26,
      "outputs": [
        {
          "output_type": "execute_result",
          "data": {
            "text/plain": [
              "True"
            ]
          },
          "metadata": {},
          "execution_count": 26
        }
      ]
    },
    {
      "cell_type": "code",
      "metadata": {
        "colab": {
          "base_uri": "https://localhost:8080/"
        },
        "id": "dHhz12tq9eB2",
        "outputId": "987ffba6-e0fb-4da3-9072-622d75eb5623"
      },
      "source": [
        "var_str = 'Python Programming'\n",
        "var_str.islower()"
      ],
      "execution_count": 27,
      "outputs": [
        {
          "output_type": "execute_result",
          "data": {
            "text/plain": [
              "False"
            ]
          },
          "metadata": {},
          "execution_count": 27
        }
      ]
    },
    {
      "cell_type": "code",
      "metadata": {
        "colab": {
          "base_uri": "https://localhost:8080/"
        },
        "id": "caOqP0Q99mIL",
        "outputId": "291efe89-da8f-4212-890e-19282e021596"
      },
      "source": [
        "var_str = '1287946'\n",
        "var_str.isnumeric()"
      ],
      "execution_count": 29,
      "outputs": [
        {
          "output_type": "execute_result",
          "data": {
            "text/plain": [
              "True"
            ]
          },
          "metadata": {},
          "execution_count": 29
        }
      ]
    },
    {
      "cell_type": "code",
      "metadata": {
        "colab": {
          "base_uri": "https://localhost:8080/"
        },
        "id": "zxVg2ud-9xDN",
        "outputId": "bffbdd7e-bffb-4c33-a9e2-248025dbbe0a"
      },
      "source": [
        "var_str = 'Python Programming'\n",
        "var_str.isprintable()"
      ],
      "execution_count": 30,
      "outputs": [
        {
          "output_type": "execute_result",
          "data": {
            "text/plain": [
              "True"
            ]
          },
          "metadata": {},
          "execution_count": 30
        }
      ]
    },
    {
      "cell_type": "code",
      "metadata": {
        "colab": {
          "base_uri": "https://localhost:8080/"
        },
        "id": "qjaEDfbK92Kh",
        "outputId": "fcd0bb87-3d67-4d13-9f83-fc250c1def50"
      },
      "source": [
        "var_str = 'Python Programming'\n",
        "var_str.istitle()"
      ],
      "execution_count": 32,
      "outputs": [
        {
          "output_type": "execute_result",
          "data": {
            "text/plain": [
              "True"
            ]
          },
          "metadata": {},
          "execution_count": 32
        }
      ]
    },
    {
      "cell_type": "code",
      "metadata": {
        "colab": {
          "base_uri": "https://localhost:8080/"
        },
        "id": "ZT0_gAKU99p6",
        "outputId": "45b19b48-3fa7-41a9-8647-3b0deb37c833"
      },
      "source": [
        "var_str = 'PYTHON PROGRAMMING'\n",
        "var_str.isupper()"
      ],
      "execution_count": 34,
      "outputs": [
        {
          "output_type": "execute_result",
          "data": {
            "text/plain": [
              "True"
            ]
          },
          "metadata": {},
          "execution_count": 34
        }
      ]
    },
    {
      "cell_type": "code",
      "metadata": {
        "colab": {
          "base_uri": "https://localhost:8080/"
        },
        "id": "PWApY3_g-lNq",
        "outputId": "39d27c76-5235-4f0e-ef13-cb48ae438a95"
      },
      "source": [
        "var_str = 'python programming'\n",
        "var_str.islower()"
      ],
      "execution_count": 36,
      "outputs": [
        {
          "output_type": "execute_result",
          "data": {
            "text/plain": [
              "True"
            ]
          },
          "metadata": {},
          "execution_count": 36
        }
      ]
    },
    {
      "cell_type": "code",
      "metadata": {
        "colab": {
          "base_uri": "https://localhost:8080/",
          "height": 35
        },
        "id": "5Mh2CA6F-1SA",
        "outputId": "bd27670e-ed41-462c-b1db-ef7192da233a"
      },
      "source": [
        "var_str = 'PYTHON PROGRAMMING'\n",
        "var_str.lower()"
      ],
      "execution_count": 37,
      "outputs": [
        {
          "output_type": "execute_result",
          "data": {
            "application/vnd.google.colaboratory.intrinsic+json": {
              "type": "string"
            },
            "text/plain": [
              "'python programming'"
            ]
          },
          "metadata": {},
          "execution_count": 37
        }
      ]
    },
    {
      "cell_type": "code",
      "metadata": {
        "colab": {
          "base_uri": "https://localhost:8080/",
          "height": 35
        },
        "id": "vafiJ-8Y-799",
        "outputId": "b279ef8f-42b8-45c4-beee-9a06f94c749b"
      },
      "source": [
        "var_str = 'Python Programming'\n",
        "var_str.upper()"
      ],
      "execution_count": 39,
      "outputs": [
        {
          "output_type": "execute_result",
          "data": {
            "application/vnd.google.colaboratory.intrinsic+json": {
              "type": "string"
            },
            "text/plain": [
              "'PYTHON PROGRAMMING'"
            ]
          },
          "metadata": {},
          "execution_count": 39
        }
      ]
    },
    {
      "cell_type": "code",
      "metadata": {
        "colab": {
          "base_uri": "https://localhost:8080/",
          "height": 35
        },
        "id": "bMPeILxJ_aUo",
        "outputId": "eaaabee6-ed17-4ece-f6a2-08fbdd5730ec"
      },
      "source": [
        "var_str = '            Python Programming             '\n",
        "var_str.lstrip()"
      ],
      "execution_count": 40,
      "outputs": [
        {
          "data": {
            "application/vnd.google.colaboratory.intrinsic+json": {
              "type": "string"
            },
            "text/plain": [
              "'Python Programming             '"
            ]
          },
          "execution_count": null,
          "metadata": {},
          "output_type": "execute_result"
        }
      ]
    },
    {
      "cell_type": "code",
      "metadata": {
        "colab": {
          "base_uri": "https://localhost:8080/",
          "height": 35
        },
        "id": "pTf40blJ_7Wu",
        "outputId": "536d8c01-3e53-4a8a-84db-cbf3eb8ced49"
      },
      "source": [
        "var_str = '            Python Programming              '\n",
        "var_str.rstrip()"
      ],
      "execution_count": 41,
      "outputs": [
        {
          "output_type": "execute_result",
          "data": {
            "application/vnd.google.colaboratory.intrinsic+json": {
              "type": "string"
            },
            "text/plain": [
              "'            Python Programming'"
            ]
          },
          "metadata": {},
          "execution_count": 41
        }
      ]
    },
    {
      "cell_type": "code",
      "metadata": {
        "colab": {
          "base_uri": "https://localhost:8080/",
          "height": 35
        },
        "id": "CjqpMQfcAPVc",
        "outputId": "5fa7f039-3811-466e-d5a2-7f0e229937ad"
      },
      "source": [
        "var_str = 'Python Programming'\n",
        "var_str.replace('P','c')"
      ],
      "execution_count": 44,
      "outputs": [
        {
          "output_type": "execute_result",
          "data": {
            "application/vnd.google.colaboratory.intrinsic+json": {
              "type": "string"
            },
            "text/plain": [
              "'cython crogramming'"
            ]
          },
          "metadata": {},
          "execution_count": 44
        }
      ]
    },
    {
      "cell_type": "code",
      "metadata": {
        "colab": {
          "base_uri": "https://localhost:8080/"
        },
        "id": "9ZKYJ3BeAi-U",
        "outputId": "a72f7723-51b0-4427-dbd4-a195a705dd45"
      },
      "source": [
        "var_str = ['Python', 'Programming']\n",
        "x = \" \".join(var_str)\n",
        "print (x)"
      ],
      "execution_count": 51,
      "outputs": [
        {
          "output_type": "stream",
          "name": "stdout",
          "text": [
            "Python Programming\n"
          ]
        }
      ]
    }
  ]
}