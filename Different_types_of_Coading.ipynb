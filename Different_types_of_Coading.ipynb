{
  "nbformat": 4,
  "nbformat_minor": 0,
  "metadata": {
    "colab": {
      "name": "Different types of Coading.ipynb",
      "provenance": [],
      "collapsed_sections": [],
      "authorship_tag": "ABX9TyMXGRYFopSMuiPpDw9EI9yx",
      "include_colab_link": true
    },
    "kernelspec": {
      "name": "python3",
      "display_name": "Python 3"
    },
    "language_info": {
      "name": "python"
    }
  },
  "cells": [
    {
      "cell_type": "markdown",
      "metadata": {
        "id": "view-in-github",
        "colab_type": "text"
      },
      "source": [
        "<a href=\"https://colab.research.google.com/github/amitraghatate/Basic-of-Python/blob/Conditional-Statement/Different_types_of_Coading.ipynb\" target=\"_parent\"><img src=\"https://colab.research.google.com/assets/colab-badge.svg\" alt=\"Open In Colab\"/></a>"
      ]
    },
    {
      "cell_type": "markdown",
      "metadata": {
        "id": "TTc-An9xrN31"
      },
      "source": [
        "Wap to add two number"
      ]
    },
    {
      "cell_type": "code",
      "metadata": {
        "colab": {
          "base_uri": "https://localhost:8080/"
        },
        "id": "rr830_Q_q-0H",
        "outputId": "285b0278-7a6b-497d-c10b-cda8beb5a234"
      },
      "source": [
        "a = 40\n",
        "b = 50\n",
        "print('Addition of two Numbers:', a+b)"
      ],
      "execution_count": null,
      "outputs": [
        {
          "output_type": "stream",
          "name": "stdout",
          "text": [
            "Addition of two Numbers: 90\n"
          ]
        }
      ]
    },
    {
      "cell_type": "markdown",
      "metadata": {
        "id": "8pqSv2vRsAjT"
      },
      "source": [
        "Wap maximum of two numbers"
      ]
    },
    {
      "cell_type": "code",
      "metadata": {
        "colab": {
          "base_uri": "https://localhost:8080/"
        },
        "id": "vekJEmS2r9XP",
        "outputId": "e44f1e94-1048-430f-af26-2a3e46d680d7"
      },
      "source": [
        "a = 40\n",
        "b = 50\n",
        "if (a<b):\n",
        "  print('Maximum of Number is b', b)\n",
        "else:\n",
        "  print('Maximum of Number is a', a)"
      ],
      "execution_count": null,
      "outputs": [
        {
          "output_type": "stream",
          "name": "stdout",
          "text": [
            "Maximum of Number is b 50\n"
          ]
        }
      ]
    },
    {
      "cell_type": "markdown",
      "metadata": {
        "id": "ckoRRfirsibX"
      },
      "source": [
        "Wap for Factorial of Number "
      ]
    },
    {
      "cell_type": "code",
      "metadata": {
        "colab": {
          "base_uri": "https://localhost:8080/"
        },
        "id": "d5wV9a4Esg77",
        "outputId": "d1922d73-55ff-4f62-8b7b-0fa5e7b2380c"
      },
      "source": [
        "n = int(input('Enter the Factorial value: '))\n",
        "num = n\n",
        "print(\"n must be > or = Zero - No Negative Number\")\n",
        "\n",
        "if(n==0):\n",
        "  print('Factorial not possible')\n",
        "elif(n==1):\n",
        "  print('Factorial is:')\n",
        "else:\n",
        "  fact = 1\n",
        "  while (n > 1):\n",
        "    fact *= n\n",
        "    n -= 1\n",
        "print(\"Factorial of\",num,\" is \",fact)"
      ],
      "execution_count": null,
      "outputs": [
        {
          "output_type": "stream",
          "name": "stdout",
          "text": [
            "Enter the Factorial value: 5\n",
            "n must be > or = Zero - No Negative Number\n",
            "Factorial of 5  is  120\n"
          ]
        }
      ]
    },
    {
      "cell_type": "code",
      "metadata": {
        "colab": {
          "base_uri": "https://localhost:8080/"
        },
        "id": "auo9XmC5S3Dt",
        "outputId": "df305279-3b61-45d3-ae24-0cd4d6b708df"
      },
      "source": [
        "n = int(input('Enter the Factorial value: '))\n",
        "num = n\n",
        "print(\"n must be > or = Zero - No Negative Number\")\n",
        "\n",
        "if(n==0):\n",
        "  print('Factorial not possible')\n",
        "elif(n==1):\n",
        "  print('Factorial is:')\n",
        "else:\n",
        "  fact = 1\n",
        "  while (n > 1):\n",
        "    fact *= n\n",
        "    n -= 1\n",
        "print(\"Factorial of\",num,\" is \",fact)"
      ],
      "execution_count": null,
      "outputs": [
        {
          "output_type": "stream",
          "name": "stdout",
          "text": [
            "Enter the Factorial value: 14\n",
            "n must be > or = Zero - No Negative Number\n",
            "Factorial of 14  is  87178291200\n"
          ]
        }
      ]
    },
    {
      "cell_type": "markdown",
      "metadata": {
        "id": "GAKyPVTpV1OE"
      },
      "source": [
        "Wap for simple interest"
      ]
    },
    {
      "cell_type": "code",
      "metadata": {
        "colab": {
          "base_uri": "https://localhost:8080/"
        },
        "id": "7I1bCrtyVwQa",
        "outputId": "2bd58f9b-7d19-4118-f022-71396d151a25"
      },
      "source": [
        "p = int(input(\"Value of Principle: \"))\n",
        "r = int(input(\"Value of Rate: \"))\n",
        "t = int(input(\"Value of Time: \"))\n",
        "\n",
        "print('Simple Interest: ', (p*r*t)/100)"
      ],
      "execution_count": null,
      "outputs": [
        {
          "output_type": "stream",
          "name": "stdout",
          "text": [
            "Value of Principle: 10000\n",
            "Value of Rate: 8\n",
            "Value of Time: 12\n",
            "Simple Interest:  9600.0\n"
          ]
        }
      ]
    },
    {
      "cell_type": "code",
      "metadata": {
        "colab": {
          "base_uri": "https://localhost:8080/"
        },
        "id": "hOGTFknOXIC9",
        "outputId": "3f5c970f-de84-4166-df5c-bc4c9a6c07f1"
      },
      "source": [
        "p = int(input(\"Value of Principle: \"))\n",
        "r = int(input(\"Value of Rate: \"))\n",
        "t = int(input(\"Value of Time: \"))\n",
        "\n",
        "print('Simple Interest: ', (p*r*t)/100)"
      ],
      "execution_count": null,
      "outputs": [
        {
          "output_type": "stream",
          "name": "stdout",
          "text": [
            "Value of Principle: 15000\n",
            "Value of Rate: 12\n",
            "Value of Time: 24\n",
            "Simple Interest:  43200.0\n"
          ]
        }
      ]
    },
    {
      "cell_type": "markdown",
      "metadata": {
        "id": "S4DLegYwXTC1"
      },
      "source": [
        "Wap for compound interest"
      ]
    },
    {
      "cell_type": "code",
      "metadata": {
        "colab": {
          "base_uri": "https://localhost:8080/"
        },
        "id": "65lEUDKKXdWI",
        "outputId": "6f5bec47-400b-49bd-d9f6-ac5e4e75000f"
      },
      "source": [
        "p = int(input(\"Value of Principle: \"))\n",
        "r = int(input(\"Value of Rate: \"))\n",
        "t = int(input(\"Value of Time: \"))\n",
        "\n",
        "print('Simple Interest: ', p*((1+r)/100)*t)"
      ],
      "execution_count": null,
      "outputs": [
        {
          "output_type": "stream",
          "name": "stdout",
          "text": [
            "Value of Principle: 10000\n",
            "Value of Rate: 8\n",
            "Value of Time: 12\n",
            "Simple Interest:  10800.0\n"
          ]
        }
      ]
    },
    {
      "cell_type": "code",
      "metadata": {
        "colab": {
          "base_uri": "https://localhost:8080/"
        },
        "id": "f0TfBbpHYf0U",
        "outputId": "db9fb3d2-ea02-454d-e2c4-d8c62e58220f"
      },
      "source": [
        "p = int(input(\"Value of Principle: \"))\n",
        "r = int(input(\"Value of Rate: \"))\n",
        "t = int(input(\"Value of Time: \"))\n",
        "\n",
        "print('Simple Interest: ', p*((1+r)/100)*t)"
      ],
      "execution_count": null,
      "outputs": [
        {
          "output_type": "stream",
          "name": "stdout",
          "text": [
            "Value of Principle: 15000\n",
            "Value of Rate: 12\n",
            "Value of Time: 24\n",
            "Simple Interest:  46800.0\n"
          ]
        }
      ]
    },
    {
      "cell_type": "markdown",
      "metadata": {
        "id": "eUEuIF7RYu6_"
      },
      "source": [
        "Wap to check Armstrong Number"
      ]
    },
    {
      "cell_type": "code",
      "metadata": {
        "id": "HtX59ffZYuek",
        "colab": {
          "base_uri": "https://localhost:8080/"
        },
        "outputId": "bce24180-5639-4ece-d93b-30bc89cb21de"
      },
      "source": [
        "n = int(input('Enter the Number:'))\n",
        "sum = 0\n",
        "temp = n\n",
        "while temp>0:\n",
        "  digit = temp % 10\n",
        "  sum += digit ** 3\n",
        "  temp //= 10\n",
        "if n == sum:\n",
        "  print(n, \"Is a Armstrong Number\")\n",
        "else:\n",
        "  print(n, \"Is not Armstrong Number\")"
      ],
      "execution_count": null,
      "outputs": [
        {
          "output_type": "stream",
          "name": "stdout",
          "text": [
            "Enter the Number:1\n",
            "1 Is a Armstrong Number\n"
          ]
        }
      ]
    },
    {
      "cell_type": "code",
      "metadata": {
        "colab": {
          "base_uri": "https://localhost:8080/"
        },
        "id": "uN7bYTN6zn5f",
        "outputId": "1cb10549-fd91-4f84-ef89-44f34c9c0ebd"
      },
      "source": [
        "n = int(input('Enter the Number:'))\n",
        "sum = 0\n",
        "temp = n\n",
        "while temp>0:\n",
        "  digit = temp % 10\n",
        "  sum += digit ** 3\n",
        "  temp //= 10\n",
        "if n == sum:\n",
        "  print(n, \"Is a Armstrong Number\")\n",
        "else:\n",
        "  print(n, \"Is not Armstrong Number\")"
      ],
      "execution_count": null,
      "outputs": [
        {
          "output_type": "stream",
          "name": "stdout",
          "text": [
            "Enter the Number:15\n",
            "15 Is not Armstrong Number\n"
          ]
        }
      ]
    },
    {
      "cell_type": "code",
      "metadata": {
        "colab": {
          "base_uri": "https://localhost:8080/"
        },
        "id": "IfZy17ta0XSU",
        "outputId": "fb885035-e9c2-4e2c-cc53-bfeb704fd7e4"
      },
      "source": [
        "n = int(input('Enter the Number:'))\n",
        "sum = 0\n",
        "temp = n\n",
        "while temp>0:\n",
        "  digit = temp % 10\n",
        "  sum += digit ** 3\n",
        "  temp //= 10\n",
        "if n == sum:\n",
        "  print(n, \"Is a Armstrong Number\")\n",
        "else:\n",
        "  print(n, \"Is not Armstrong Number\")"
      ],
      "execution_count": null,
      "outputs": [
        {
          "output_type": "stream",
          "name": "stdout",
          "text": [
            "Enter the Number:153\n",
            "153 Is a Armstrong Number\n"
          ]
        }
      ]
    },
    {
      "cell_type": "markdown",
      "metadata": {
        "id": "rWtZ7fKj0bIE"
      },
      "source": [
        "Wap for Program to find area of a circle"
      ]
    },
    {
      "cell_type": "code",
      "metadata": {
        "colab": {
          "base_uri": "https://localhost:8080/"
        },
        "id": "wUfKhjRs0hIl",
        "outputId": "c0205831-076a-44b7-8d61-782bb80ea1b0"
      },
      "source": [
        "n = int(input(\"Enter radiusof Citcle: \"))\n",
        "\n",
        "print('Area of Circle:', 3.14*n*n)"
      ],
      "execution_count": null,
      "outputs": [
        {
          "output_type": "stream",
          "name": "stdout",
          "text": [
            "Enter radiusof Citcle: 5\n",
            "Area of Circle: 78.5\n"
          ]
        }
      ]
    },
    {
      "cell_type": "code",
      "metadata": {
        "colab": {
          "base_uri": "https://localhost:8080/"
        },
        "id": "d_Xi6PUO2r0-",
        "outputId": "f7553d13-b85a-4fa1-f547-8f38b848a6d1"
      },
      "source": [
        "n = int(input(\"Enter radiusof Citcle: \"))\n",
        "\n",
        "print('Area of Circle:', 3.14*n*n)"
      ],
      "execution_count": null,
      "outputs": [
        {
          "output_type": "stream",
          "name": "stdout",
          "text": [
            "Enter radiusof Citcle: 40\n",
            "Area of Circle: 5024.0\n"
          ]
        }
      ]
    },
    {
      "cell_type": "markdown",
      "metadata": {
        "id": "nRXu1LPS2zPh"
      },
      "source": [
        "Wap to print all Prime numbers in an Interval"
      ]
    },
    {
      "cell_type": "code",
      "metadata": {
        "colab": {
          "base_uri": "https://localhost:8080/"
        },
        "id": "5yMoqtXK21fn",
        "outputId": "0aa171f7-c259-4a70-c5e0-b414d7129440"
      },
      "source": [
        "lower = 1\n",
        "higher = 99\n",
        "print(\"Prime number between\", lower,\"and\", higher, \"are: \")\n",
        "for n in range (lower, higher+1):\n",
        "  if n > 1:\n",
        "    for i in range (2, n):\n",
        "      if (n % i) ==0:\n",
        "        break\n",
        "    else:\n",
        "      print(n)"
      ],
      "execution_count": null,
      "outputs": [
        {
          "output_type": "stream",
          "name": "stdout",
          "text": [
            "Prime number between 1 and 99 are: \n",
            "2\n",
            "3\n",
            "5\n",
            "7\n",
            "11\n",
            "13\n",
            "17\n",
            "19\n",
            "23\n",
            "29\n",
            "31\n",
            "37\n",
            "41\n",
            "43\n",
            "47\n",
            "53\n",
            "59\n",
            "61\n",
            "67\n",
            "71\n",
            "73\n",
            "79\n",
            "83\n",
            "89\n",
            "97\n"
          ]
        }
      ]
    },
    {
      "cell_type": "code",
      "metadata": {
        "colab": {
          "base_uri": "https://localhost:8080/"
        },
        "id": "0vh4XdmC45Lm",
        "outputId": "15aeb7b7-4d06-4168-f33c-e0087aeaedbd"
      },
      "source": [
        "lower = 200\n",
        "higher = 400\n",
        "print(\"Prime number between\", lower,\"and\", higher, \"are: \")\n",
        "for n in range (lower, higher+1):\n",
        "  if n > 1:\n",
        "    for i in range (2, n):\n",
        "      if (n % i) ==0:\n",
        "        break\n",
        "    else:\n",
        "      print(n)"
      ],
      "execution_count": null,
      "outputs": [
        {
          "output_type": "stream",
          "name": "stdout",
          "text": [
            "Prime number between 200 and 400 are: \n",
            "211\n",
            "223\n",
            "227\n",
            "229\n",
            "233\n",
            "239\n",
            "241\n",
            "251\n",
            "257\n",
            "263\n",
            "269\n",
            "271\n",
            "277\n",
            "281\n",
            "283\n",
            "293\n",
            "307\n",
            "311\n",
            "313\n",
            "317\n",
            "331\n",
            "337\n",
            "347\n",
            "349\n",
            "353\n",
            "359\n",
            "367\n",
            "373\n",
            "379\n",
            "383\n",
            "389\n",
            "397\n"
          ]
        }
      ]
    },
    {
      "cell_type": "markdown",
      "metadata": {
        "id": "9fvfzNlTRvM8"
      },
      "source": [
        "Wap to check whether a number is Prime or not\n"
      ]
    },
    {
      "cell_type": "code",
      "metadata": {
        "id": "4FmKhxvwRzHY",
        "colab": {
          "base_uri": "https://localhost:8080/"
        },
        "outputId": "b36a7831-04a4-48dc-dd2e-519e505c5493"
      },
      "source": [
        "n = 31\n",
        "show = False\n",
        "if n > 1:\n",
        "  for i in range (2, n):\n",
        "    if (n % i) ==0:\n",
        "      show = True\n",
        "      break\n",
        "if show:\n",
        "  print(n, \"is not a prime number\")\n",
        "else:\n",
        "  print(n, \"is a prime number\")"
      ],
      "execution_count": null,
      "outputs": [
        {
          "output_type": "stream",
          "name": "stdout",
          "text": [
            "31 is a prime number\n"
          ]
        }
      ]
    },
    {
      "cell_type": "code",
      "metadata": {
        "colab": {
          "base_uri": "https://localhost:8080/"
        },
        "id": "6ZE8VXhOkZTO",
        "outputId": "aae51468-2862-4ba2-c39a-7598131f50ac"
      },
      "source": [
        "n = 8\n",
        "show = False\n",
        "if n > 1:\n",
        "  for i in range (2, n):\n",
        "    if (n % i) ==0:\n",
        "      show = True\n",
        "      break\n",
        "if show:\n",
        "  print(n, \"is not a prime number\")\n",
        "else:\n",
        "  print(n, \"is a prime number\")"
      ],
      "execution_count": null,
      "outputs": [
        {
          "output_type": "stream",
          "name": "stdout",
          "text": [
            "8 is not a prime number\n"
          ]
        }
      ]
    },
    {
      "cell_type": "markdown",
      "metadata": {
        "id": "UEtp8Zj0lYjg"
      },
      "source": [
        "Wap for printing pattern\n"
      ]
    },
    {
      "cell_type": "code",
      "metadata": {
        "colab": {
          "base_uri": "https://localhost:8080/"
        },
        "id": "htooveKbkel-",
        "outputId": "4299c8bf-1709-4d2e-d0bf-a0eea54be8f2"
      },
      "source": [
        "for i in range (10,0,-1):\n",
        "  for j in range (0,i):\n",
        "    print(\"\", end = \"\")\n",
        "  for k in range (0,11-i):\n",
        "    print(\"1\", end = \"\")\n",
        "  print(\"\\r\")"
      ],
      "execution_count": null,
      "outputs": [
        {
          "output_type": "stream",
          "name": "stdout",
          "text": [
            "1\r\n",
            "11\r\n",
            "111\r\n",
            "1111\r\n",
            "11111\r\n",
            "111111\r\n",
            "1111111\r\n",
            "11111111\r\n",
            "111111111\r\n",
            "1111111111\r\n"
          ]
        }
      ]
    },
    {
      "cell_type": "markdown",
      "metadata": {
        "id": "00v8LXTJoMtj"
      },
      "source": [
        "Wap for printing pattern"
      ]
    },
    {
      "cell_type": "code",
      "metadata": {
        "colab": {
          "base_uri": "https://localhost:8080/"
        },
        "id": "eTfaoRFKoRbg",
        "outputId": "457f1d7d-72d4-4305-cf39-6cf80e2766ca"
      },
      "source": [
        "for i in range (0,11):\n",
        "  for j in range (0,i):\n",
        "    print(\"\", end = \"\")\n",
        "  for k in range (0,10-i):\n",
        "    print(\"1\", end = \"\")\n",
        "  print(\"\\r\")"
      ],
      "execution_count": null,
      "outputs": [
        {
          "output_type": "stream",
          "name": "stdout",
          "text": [
            "1111111111\r\n",
            "111111111\r\n",
            "11111111\r\n",
            "1111111\r\n",
            "111111\r\n",
            "11111\r\n",
            "1111\r\n",
            "111\r\n",
            "11\r\n",
            "1\r\n",
            "\r\n"
          ]
        }
      ]
    },
    {
      "cell_type": "markdown",
      "metadata": {
        "id": "LEwd9U-Woxld"
      },
      "source": [
        "Wap for printing pattern"
      ]
    },
    {
      "cell_type": "code",
      "metadata": {
        "colab": {
          "base_uri": "https://localhost:8080/"
        },
        "id": "12olvf1pozkb",
        "outputId": "a267b950-eda9-41ab-dca8-83fb9df0a2b7"
      },
      "source": [
        "for i in range (10,0,-1):\n",
        "  for j in range (0,i):\n",
        "    print(\"\", end = \"\")\n",
        "  for k in range (0,11-i):\n",
        "    print(k+1, end = \"\")\n",
        "  print(\"\\r\")"
      ],
      "execution_count": null,
      "outputs": [
        {
          "output_type": "stream",
          "name": "stdout",
          "text": [
            "1\r\n",
            "12\r\n",
            "123\r\n",
            "1234\r\n",
            "12345\r\n",
            "123456\r\n",
            "1234567\r\n",
            "12345678\r\n",
            "123456789\r\n",
            "12345678910\r\n"
          ]
        }
      ]
    },
    {
      "cell_type": "markdown",
      "metadata": {
        "id": "FBCCHu65pmye"
      },
      "source": [
        "Wap for printing pattern"
      ]
    },
    {
      "cell_type": "code",
      "metadata": {
        "colab": {
          "base_uri": "https://localhost:8080/"
        },
        "id": "7sYEM6ZopjcY",
        "outputId": "e89cb204-7d33-45e5-9105-cb99eb734716"
      },
      "source": [
        "for i in range (0,11):\n",
        "  for j in range (0,i):\n",
        "    print(\"\", end = \"\")\n",
        "  for k in range (0,10-i):\n",
        "    print(k+1, end = \"\")\n",
        "  print(\"\\r\")"
      ],
      "execution_count": null,
      "outputs": [
        {
          "output_type": "stream",
          "name": "stdout",
          "text": [
            "12345678910\r\n",
            "123456789\r\n",
            "12345678\r\n",
            "1234567\r\n",
            "123456\r\n",
            "12345\r\n",
            "1234\r\n",
            "123\r\n",
            "12\r\n",
            "1\r\n",
            "\r\n"
          ]
        }
      ]
    },
    {
      "cell_type": "markdown",
      "metadata": {
        "id": "1CY9ZY1Gp1JP"
      },
      "source": [
        "Wap for printing pattern"
      ]
    },
    {
      "cell_type": "code",
      "metadata": {
        "colab": {
          "base_uri": "https://localhost:8080/"
        },
        "id": "iRe-Mo80p26J",
        "outputId": "f0fb8fdd-5412-4758-f6a1-b781a483f9f1"
      },
      "source": [
        "for i in range (10,0,-1):\n",
        "  for j in range (0,i):\n",
        "    print(\"\", end = \"\")\n",
        "  for k in range (0,11-i):\n",
        "    print(9-j, end = \"\")\n",
        "  print(\"\\r\")"
      ],
      "execution_count": null,
      "outputs": [
        {
          "output_type": "stream",
          "name": "stdout",
          "text": [
            "0\r\n",
            "11\r\n",
            "222\r\n",
            "3333\r\n",
            "44444\r\n",
            "555555\r\n",
            "6666666\r\n",
            "77777777\r\n",
            "888888888\r\n",
            "9999999999\r\n"
          ]
        }
      ]
    },
    {
      "cell_type": "markdown",
      "metadata": {
        "id": "YSfAMy1gqWJ4"
      },
      "source": [
        "Wap for printing pattern"
      ]
    },
    {
      "cell_type": "code",
      "metadata": {
        "colab": {
          "base_uri": "https://localhost:8080/"
        },
        "id": "U-_0BRvXqY7j",
        "outputId": "593081c6-381f-46ba-e86c-154470ac5807"
      },
      "source": [
        "for i in range (0,11):\n",
        "  for j in range (0,i):\n",
        "    print(\"\", end = \"\")\n",
        "  for k in range (0,10-i):\n",
        "    print(9-j, end = \"\")\n",
        "  print(\"\\r\")"
      ],
      "execution_count": null,
      "outputs": [
        {
          "output_type": "stream",
          "name": "stdout",
          "text": [
            "0000000000\r\n",
            "999999999\r\n",
            "88888888\r\n",
            "7777777\r\n",
            "666666\r\n",
            "55555\r\n",
            "4444\r\n",
            "333\r\n",
            "22\r\n",
            "1\r\n",
            "\r\n"
          ]
        }
      ]
    },
    {
      "cell_type": "markdown",
      "metadata": {
        "id": "HpvoJLg0rXSy"
      },
      "source": [
        "Wap for printing pattern"
      ]
    },
    {
      "cell_type": "code",
      "metadata": {
        "colab": {
          "base_uri": "https://localhost:8080/"
        },
        "id": "FBJjoyJeraDg",
        "outputId": "2cf5923e-bf16-4ba5-bdeb-6d33449f1de2"
      },
      "source": [
        "for i in range (0,10):\n",
        "  for j in range (0,10):\n",
        "    print(i, end = \"\")\n",
        "    if ((i==0),(j==10)):\n",
        "      print(\"\", end = \"\")\n",
        "    else:\n",
        "      print(\"\", end = \"\")\n",
        "  print('\\r')"
      ],
      "execution_count": null,
      "outputs": [
        {
          "output_type": "stream",
          "name": "stdout",
          "text": [
            "0000000000\r\n",
            "1111111111\r\n",
            "2222222222\r\n",
            "3333333333\r\n",
            "4444444444\r\n",
            "5555555555\r\n",
            "6666666666\r\n",
            "7777777777\r\n",
            "8888888888\r\n",
            "9999999999\r\n"
          ]
        }
      ]
    },
    {
      "cell_type": "markdown",
      "metadata": {
        "id": "nwZVo1Sas2Jc"
      },
      "source": [
        "Wap for printing pattern"
      ]
    },
    {
      "cell_type": "code",
      "metadata": {
        "colab": {
          "base_uri": "https://localhost:8080/"
        },
        "id": "KAWC_jJGs3yP",
        "outputId": "c3d9533a-7575-4ff5-f49e-180a081edc75"
      },
      "source": [
        "for i in range (0,10):\n",
        "  for j in range (0,10):\n",
        "    print(9-i, end = \"\")\n",
        "    if ((i==0),(j==10)):\n",
        "      print(\"\", end = \"\")\n",
        "    else:\n",
        "      print(\"\", end = \"\")\n",
        "  print('\\r')"
      ],
      "execution_count": null,
      "outputs": [
        {
          "output_type": "stream",
          "name": "stdout",
          "text": [
            "9999999999\r\n",
            "8888888888\r\n",
            "7777777777\r\n",
            "6666666666\r\n",
            "5555555555\r\n",
            "4444444444\r\n",
            "3333333333\r\n",
            "2222222222\r\n",
            "1111111111\r\n",
            "0000000000\r\n"
          ]
        }
      ]
    },
    {
      "cell_type": "markdown",
      "metadata": {
        "id": "az9jMLSDtKhd"
      },
      "source": [
        "Wap for printing pattern\n"
      ]
    },
    {
      "cell_type": "code",
      "metadata": {
        "colab": {
          "base_uri": "https://localhost:8080/"
        },
        "id": "X9ANw_vjtUqL",
        "outputId": "cbcad240-70be-4928-a93d-21384a27a655"
      },
      "source": [
        "for i in range (10,0,-1):\n",
        "  for j in range (0,i):\n",
        "    print(\"\", end = \"\")\n",
        "  for k in range (0,11-i):\n",
        "    print(k-j+i, end = \"\")\n",
        "  print(\"\\r\")"
      ],
      "execution_count": null,
      "outputs": [
        {
          "output_type": "stream",
          "name": "stdout",
          "text": [
            "1\r\n",
            "12\r\n",
            "123\r\n",
            "1234\r\n",
            "12345\r\n",
            "123456\r\n",
            "1234567\r\n",
            "12345678\r\n",
            "123456789\r\n",
            "12345678910\r\n"
          ]
        }
      ]
    },
    {
      "cell_type": "markdown",
      "metadata": {
        "id": "DmE8kUOVuhTO"
      },
      "source": [
        "Wap for printing pattern"
      ]
    },
    {
      "cell_type": "code",
      "metadata": {
        "colab": {
          "base_uri": "https://localhost:8080/"
        },
        "id": "eNgXskT7ug7g",
        "outputId": "78e42f01-bc43-4108-f6d3-6d65ce7e7ab0"
      },
      "source": [
        "for i in range (0,11):\n",
        "  for j in range (0,i):\n",
        "    print(\"\", end = \"\")\n",
        "  for k in range (0,10-i):\n",
        "    print(9-k, end = \"\")\n",
        "  print(\"\\r\")"
      ],
      "execution_count": null,
      "outputs": [
        {
          "output_type": "stream",
          "name": "stdout",
          "text": [
            "9876543210\r\n",
            "987654321\r\n",
            "98765432\r\n",
            "9876543\r\n",
            "987654\r\n",
            "98765\r\n",
            "9876\r\n",
            "987\r\n",
            "98\r\n",
            "9\r\n",
            "\r\n"
          ]
        }
      ]
    },
    {
      "cell_type": "markdown",
      "metadata": {
        "id": "KO5nps4tRXSL"
      },
      "source": [
        "Wap for printing pattern"
      ]
    },
    {
      "cell_type": "code",
      "metadata": {
        "colab": {
          "base_uri": "https://localhost:8080/"
        },
        "id": "64kVtCksRccA",
        "outputId": "916ccb0d-9c97-416e-83f6-4848320591ba"
      },
      "source": [
        "number = int(input(\"Enter the Number: \"))\n",
        "digit = 1\n",
        "for i in range (1, number+1):\n",
        "  for j in range (1, i+1):\n",
        "    print(digit, end = \" \")\n",
        "    digit += 1\n",
        "  print()"
      ],
      "execution_count": null,
      "outputs": [
        {
          "output_type": "stream",
          "name": "stdout",
          "text": [
            "Enter the Number: 4\n",
            "1 \n",
            "2 3 \n",
            "4 5 6 \n",
            "7 8 9 10 \n"
          ]
        }
      ]
    },
    {
      "cell_type": "markdown",
      "metadata": {
        "id": "r-0uHTYiLtsu"
      },
      "source": [
        "Wap for printing pattern"
      ]
    },
    {
      "cell_type": "code",
      "metadata": {
        "colab": {
          "base_uri": "https://localhost:8080/"
        },
        "id": "oL57eg8CLytV",
        "outputId": "c1e28abe-08a3-4477-8ac2-1a1503f1e72a"
      },
      "source": [
        "for i in range (10,0,-1):\n",
        "  for j in range (0,i):\n",
        "    print(\"\", end = \" \")\n",
        "  for k in range (0,11-i):\n",
        "    print(\"*\", end = \" \")\n",
        "  print(\"\\r\")"
      ],
      "execution_count": null,
      "outputs": [
        {
          "output_type": "stream",
          "name": "stdout",
          "text": [
            "          * \r\n",
            "         * * \r\n",
            "        * * * \r\n",
            "       * * * * \r\n",
            "      * * * * * \r\n",
            "     * * * * * * \r\n",
            "    * * * * * * * \r\n",
            "   * * * * * * * * \r\n",
            "  * * * * * * * * * \r\n",
            " * * * * * * * * * * \r\n"
          ]
        }
      ]
    },
    {
      "cell_type": "markdown",
      "metadata": {
        "id": "-W6DqNjXMisM"
      },
      "source": [
        "Wap for printing pattern"
      ]
    },
    {
      "cell_type": "code",
      "metadata": {
        "colab": {
          "base_uri": "https://localhost:8080/"
        },
        "id": "3W__5xsyMjOy",
        "outputId": "3305dc69-7626-49eb-8aee-dded6451b909"
      },
      "source": [
        "for i in range (0,11):\n",
        "  for j in range (0,i):\n",
        "    print(\"\", end = \" \")\n",
        "  for k in range (0,10-i):\n",
        "    print(\"*\", end = \" \")\n",
        "  print(\"\\r\")"
      ],
      "execution_count": null,
      "outputs": [
        {
          "output_type": "stream",
          "name": "stdout",
          "text": [
            "* * * * * * * * * * \r\n",
            " * * * * * * * * * \r\n",
            "  * * * * * * * * \r\n",
            "   * * * * * * * \r\n",
            "    * * * * * * \r\n",
            "     * * * * * \r\n",
            "      * * * * \r\n",
            "       * * * \r\n",
            "        * * \r\n",
            "         * \r\n",
            "          \r\n"
          ]
        }
      ]
    },
    {
      "cell_type": "markdown",
      "metadata": {
        "id": "LryDkqciMtgH"
      },
      "source": [
        "Wap for printing pattern"
      ]
    },
    {
      "cell_type": "code",
      "metadata": {
        "colab": {
          "base_uri": "https://localhost:8080/"
        },
        "id": "IBIz5_TcM0Kj",
        "outputId": "6df7674a-7b1f-486c-d415-b6d723696cbd"
      },
      "source": [
        "for i in range (10,0,-1):\n",
        "  for j in range (0,i):\n",
        "    print(\"\", end = \" \")\n",
        "  for k in range (0,11-i):\n",
        "    print(\"\", end = \" \")\n",
        "    if (i in (0,9)):\n",
        "      print(\"*\", end = \"\")\n",
        "    else:\n",
        "      if (j in (0,9)):\n",
        "        print(\"*\", end = \"\")\n",
        "      else:\n",
        "        if (k in (0,8)):\n",
        "          print(\"*\", end = \"\")\n",
        "        else:\n",
        "          print(\" \", end= \"\")\n",
        "  print(\"\\r\")"
      ],
      "execution_count": null,
      "outputs": [
        {
          "output_type": "stream",
          "name": "stdout",
          "text": [
            "           *\r\n",
            "          * *\r\n",
            "         *    \r\n",
            "        *      \r\n",
            "       *        \r\n",
            "      *          \r\n",
            "     *            \r\n",
            "    *              \r\n",
            "   *               *\r\n",
            "  * * * * * * * * * *\r\n"
          ]
        }
      ]
    },
    {
      "cell_type": "markdown",
      "metadata": {
        "id": "yAlUM_WER6V_"
      },
      "source": [
        "Wap for printing pattern 'W'"
      ]
    },
    {
      "cell_type": "code",
      "metadata": {
        "colab": {
          "base_uri": "https://localhost:8080/"
        },
        "id": "_OPpyGupSHaw",
        "outputId": "b5db09b4-9571-483b-c4b2-f0ecca9dc423"
      },
      "source": [
        "for i in range (0,8):\n",
        "  for j in range (0,15):\n",
        "    if((i==0) & ((j==0) | (j==7) | (j==14))):\n",
        "      print(\"*\", end = \"\")\n",
        "    elif((i==1) & ((j==0) | (j==6) | (j==8) | (j==14))):\n",
        "      print(\"*\", end=\"\")\n",
        "    elif((i==2) & ((j==0) | (j==5) | (j==9) | (j==14))):\n",
        "      print(\"*\", end=\"\")\n",
        "    elif((i==3) & ((j==0) | (j==4) | (j==10) | (j==14))):\n",
        "      print(\"*\", end=\"\")\n",
        "    elif((i==4) & ((j==0) | (j==3) | (j==11) | (j==14))):\n",
        "      print(\"*\", end=\"\")\n",
        "    elif((i==5) & ((j==0) | (j==2) | (j==12) | (j==14))):\n",
        "      print(\"*\", end=\"\")\n",
        "    elif((i==6) & ((j==0) | (j==1) | (j==13) | (j==14))):\n",
        "      print(\"*\", end=\"\")\n",
        "    elif((i==7) & ((j==0) | (j==14))):\n",
        "      print(\"*\", end=\"\")\n",
        "    else:\n",
        "      print(\" \", end = \"\")\n",
        "  print(\"\\r\")"
      ],
      "execution_count": null,
      "outputs": [
        {
          "output_type": "stream",
          "name": "stdout",
          "text": [
            "*      *      *\r\n",
            "*     * *     *\r\n",
            "*    *   *    *\r\n",
            "*   *     *   *\r\n",
            "*  *       *  *\r\n",
            "* *         * *\r\n",
            "**           **\r\n",
            "*             *\r\n"
          ]
        }
      ]
    },
    {
      "cell_type": "code",
      "metadata": {
        "colab": {
          "base_uri": "https://localhost:8080/"
        },
        "id": "3Jdypn5apcSx",
        "outputId": "818210d6-63d1-43f7-8ada-a004dcf1ae8f"
      },
      "source": [
        "for i in range (0,7):\n",
        "  for j in range (0,4):\n",
        "    if((i==0) & ((j==0) | (j==3))):\n",
        "      print(\"*\", end = \"\")\n",
        "    elif((i==1) & ((j==0) | (j==2))):\n",
        "      print(\"*\", end = \"\")\n",
        "    elif((i==2) & ((j==0) | (j==1))):\n",
        "      print(\"*\", end = \"\")\n",
        "    elif((i==3) & (j==0)):\n",
        "      print(\"*\", end = \"\")\n",
        "    elif((i==4) & ((j==0) | (j==1))):\n",
        "      print(\"*\", end = \"\")\n",
        "    elif((i==5) & ((j==0) | (j==2))):\n",
        "      print(\"*\", end = \"\")\n",
        "    elif((i==6) & ((j==0) | (j==3))):\n",
        "      print(\"*\", end = \"\")\n",
        "    else:\n",
        "      print(\" \", end = \"\")\n",
        "  print(\"\\r\")\n"
      ],
      "execution_count": null,
      "outputs": [
        {
          "output_type": "stream",
          "name": "stdout",
          "text": [
            "*  *\r\n",
            "* * \r\n",
            "**  \r\n",
            "*   \r\n",
            "**  \r\n",
            "* * \r\n",
            "*  *\r\n"
          ]
        }
      ]
    },
    {
      "cell_type": "markdown",
      "metadata": {
        "id": "FtzX6rCPsxSR"
      },
      "source": [
        "Wap for printing pattern 'H'"
      ]
    },
    {
      "cell_type": "code",
      "metadata": {
        "colab": {
          "base_uri": "https://localhost:8080/"
        },
        "id": "AJpFWqlks3V3",
        "outputId": "fd96b8c1-690a-4766-d194-0f63e3141da9"
      },
      "source": [
        "for i in range (0,7):\n",
        "  for j in range (0,10):\n",
        "    if((i==0) & ((j==0) | (j==9))):\n",
        "      print(\"*\", end = \"\")\n",
        "    elif((i==1) & ((j==0) | (j==9))):\n",
        "      print(\"*\", end = \"\")\n",
        "    elif((i==2) & ((j==0) | (j==9))):\n",
        "      print(\"*\", end = \"\")\n",
        "    elif((i==3) & (j in (0,1,2,3,4,5,6,7,8,9))):\n",
        "      print(\"*\", end = \"\")\n",
        "    elif((i==4) & ((j==0) | (j==9))):\n",
        "      print(\"*\", end = \"\")\n",
        "    elif((i==5) & ((j==0) | (j==9))):\n",
        "      print(\"*\", end = \"\")\n",
        "    elif((i==6) & ((j==0) | (j==9))):\n",
        "      print(\"*\", end = \"\")\n",
        "    else:\n",
        "      print(\" \", end = \"\")\n",
        "  print('\\r')"
      ],
      "execution_count": null,
      "outputs": [
        {
          "output_type": "stream",
          "name": "stdout",
          "text": [
            "*        *\r\n",
            "*        *\r\n",
            "*        *\r\n",
            "**********\r\n",
            "*        *\r\n",
            "*        *\r\n",
            "*        *\r\n"
          ]
        }
      ]
    },
    {
      "cell_type": "markdown",
      "metadata": {
        "id": "s-mPuTXsEyuX"
      },
      "source": [
        "Wap for printing pattern 'F'"
      ]
    },
    {
      "cell_type": "code",
      "metadata": {
        "colab": {
          "base_uri": "https://localhost:8080/"
        },
        "id": "WH9l9z6hukQn",
        "outputId": "2875936a-5b4c-4080-b9ac-0e642ab87823"
      },
      "source": [
        "for i in range (0,7):\n",
        "  for j in range (0,10):\n",
        "    if((i in (0,1,2,3,4,5,6)) & (j==0)):\n",
        "      print(\"*\", end = \"\")\n",
        "    elif((i in (0,3)) & (j in (0,1,2,3,4,5,6,7,8,9))):\n",
        "      print(\"*\", end = \"\")\n",
        "    else:\n",
        "      print(\" \", end = \"\")\n",
        "  print(\"\\r\")"
      ],
      "execution_count": null,
      "outputs": [
        {
          "output_type": "stream",
          "name": "stdout",
          "text": [
            "**********\r\n",
            "*         \r\n",
            "*         \r\n",
            "**********\r\n",
            "*         \r\n",
            "*         \r\n",
            "*         \r\n"
          ]
        }
      ]
    },
    {
      "cell_type": "markdown",
      "metadata": {
        "id": "PP9QKzF-GU4_"
      },
      "source": [
        "Wap for printing pattern 'E'"
      ]
    },
    {
      "cell_type": "code",
      "metadata": {
        "colab": {
          "base_uri": "https://localhost:8080/"
        },
        "id": "fNJ_bh92Gbgs",
        "outputId": "cf2b766b-c959-426f-95c9-f8da877405ae"
      },
      "source": [
        "for i in range (0,7):\n",
        "  for j in range (0,10):\n",
        "    if((i in (0,1,2,3,4,5,6)) & (j==0)):\n",
        "      print(\"*\", end = \"\")\n",
        "    elif((i in (0,3,6)) & (j in (0,1,2,3,4,5,6,7,8,9))):\n",
        "      print(\"*\", end = \"\")\n",
        "    else:\n",
        "      print(\" \", end = \"\")\n",
        "  print(\"\\r\")"
      ],
      "execution_count": null,
      "outputs": [
        {
          "output_type": "stream",
          "name": "stdout",
          "text": [
            "**********\r\n",
            "*         \r\n",
            "*         \r\n",
            "**********\r\n",
            "*         \r\n",
            "*         \r\n",
            "**********\r\n"
          ]
        }
      ]
    },
    {
      "cell_type": "markdown",
      "metadata": {
        "id": "0ZlDLZ6FGh-z"
      },
      "source": [
        "Wap for printing pattern 'Y'"
      ]
    },
    {
      "cell_type": "code",
      "metadata": {
        "colab": {
          "base_uri": "https://localhost:8080/"
        },
        "id": "Y8x1CWk-G41j",
        "outputId": "b1e1bdb5-5f1d-4384-f53e-f7c2262f846e"
      },
      "source": [
        "for i in range (0,10):\n",
        "  for j in range (0,11):\n",
        "    if((i==0) & (j in (0,10))):\n",
        "      print(\"*\", end = \"\")\n",
        "    elif((i==1) & (j in (1,9))):\n",
        "      print(\"*\", end = \"\")\n",
        "    elif((i==2) & (j in (2,8))):\n",
        "      print(\"*\", end = \"\")\n",
        "    elif((i==3) & (j in (3,7))):\n",
        "      print(\"*\", end = \"\")\n",
        "    elif((i==4) & (j in (4,6))):\n",
        "      print(\"*\", end = \"\")\n",
        "    elif((i in (5,6,7,8,9)) & (j==5)):\n",
        "      print(\"*\", end = \"\")\n",
        "    else:\n",
        "      print(\" \", end = \"\")\n",
        "  print(\"\\r\")"
      ],
      "execution_count": null,
      "outputs": [
        {
          "output_type": "stream",
          "name": "stdout",
          "text": [
            "*         *\r\n",
            " *       * \r\n",
            "  *     *  \r\n",
            "   *   *   \r\n",
            "    * *    \r\n",
            "     *     \r\n",
            "     *     \r\n",
            "     *     \r\n",
            "     *     \r\n",
            "     *     \r\n"
          ]
        }
      ]
    },
    {
      "cell_type": "markdown",
      "metadata": {
        "id": "dpxCUeFaIOJX"
      },
      "source": [
        "Wap for printing pattern 'X'"
      ]
    },
    {
      "cell_type": "code",
      "metadata": {
        "colab": {
          "base_uri": "https://localhost:8080/"
        },
        "id": "XaxPdRCgIVIo",
        "outputId": "ea551952-0f1b-4d65-a93c-073a180d7961"
      },
      "source": [
        "for i in range (0,11):\n",
        "  for j in range (0,11):\n",
        "    if(i==j):\n",
        "      print(\"*\", end = \"\")\n",
        "    elif(((i==0) & (j==10)) | ((i==1) & (j==9)) | ((i==2) & (j==8)) | ((i==3) & (j==7)) | ((i==4) & (j==6)) | ((i==5) & (j==5)) | ((i==6) & (j==4)) | ((i==7) & (j==3)) | ((i==8) & (j==2)) | ((i==9) & (j==1)) | ((i==10) & (j==0))):\n",
        "      print(\"*\", end = \"\")\n",
        "    else:\n",
        "      print(\" \", end = \"\")\n",
        "  print(\"\\r\")"
      ],
      "execution_count": null,
      "outputs": [
        {
          "output_type": "stream",
          "name": "stdout",
          "text": [
            "*         *\r\n",
            " *       * \r\n",
            "  *     *  \r\n",
            "   *   *   \r\n",
            "    * *    \r\n",
            "     *     \r\n",
            "    * *    \r\n",
            "   *   *   \r\n",
            "  *     *  \r\n",
            " *       * \r\n",
            "*         *\r\n"
          ]
        }
      ]
    },
    {
      "cell_type": "markdown",
      "metadata": {
        "id": "UHLJmZBeLplw"
      },
      "source": [
        "Wap for printing pattern 'Z'"
      ]
    },
    {
      "cell_type": "code",
      "metadata": {
        "colab": {
          "base_uri": "https://localhost:8080/"
        },
        "id": "KvkldhcALyKh",
        "outputId": "3ad343d7-178f-4f58-8a5e-5fd36af89d29"
      },
      "source": [
        "for i in range (0,10):\n",
        "  for j in range (0,10):\n",
        "    if((i==0) | (i==9)):\n",
        "      print(\"*\", end = \"\")\n",
        "    elif(((i==0) & (j==9)) | ((i==1) & (j==8)) | ((i==2) & (j==7)) | ((i==3) & (j==6)) | ((i==4) & (j==5)) | ((i==5) & (j==4)) | ((i==6) & (j==3)) | ((i==7) & (j==2)) | ((i==8) & (j==1)) | ((i==9) & (j==0))):\n",
        "      print(\"*\", end = \"\")\n",
        "    else:\n",
        "      print(\" \", end = \"\")\n",
        "  print(\"\\r\")"
      ],
      "execution_count": null,
      "outputs": [
        {
          "output_type": "stream",
          "name": "stdout",
          "text": [
            "**********\r\n",
            "        * \r\n",
            "       *  \r\n",
            "      *   \r\n",
            "     *    \r\n",
            "    *     \r\n",
            "   *      \r\n",
            "  *       \r\n",
            " *        \r\n",
            "**********\r\n"
          ]
        }
      ]
    }
  ]
}