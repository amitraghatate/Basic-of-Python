{
  "nbformat": 4,
  "nbformat_minor": 0,
  "metadata": {
    "colab": {
      "name": "Arithmetic Operator.ipynb",
      "provenance": [],
      "authorship_tag": "ABX9TyMceFGmtKVsBivvP+kYbWpn",
      "include_colab_link": true
    },
    "kernelspec": {
      "name": "python3",
      "display_name": "Python 3"
    },
    "language_info": {
      "name": "python"
    }
  },
  "cells": [
    {
      "cell_type": "markdown",
      "metadata": {
        "id": "view-in-github",
        "colab_type": "text"
      },
      "source": [
        "<a href=\"https://colab.research.google.com/github/amitraghatate/Basic-of-Python/blob/Python-basic-Operator/Arithmetic_Operator.ipynb\" target=\"_parent\"><img src=\"https://colab.research.google.com/assets/colab-badge.svg\" alt=\"Open In Colab\"/></a>"
      ]
    },
    {
      "cell_type": "markdown",
      "metadata": {
        "id": "ZwOl1pHoRnpz"
      },
      "source": [
        "**Python Basic Opetator**"
      ]
    },
    {
      "cell_type": "code",
      "metadata": {
        "colab": {
          "base_uri": "https://localhost:8080/"
        },
        "id": "IwpPA4aYPtwq",
        "outputId": "ac8b23be-d793-4706-ddf6-5387dc2194ad"
      },
      "source": [
        "#Arithmetic Operator\n",
        "a = 100\n",
        "b = 20\n",
        "\n",
        "print('Addition :', a+b)\n",
        "print('Subtration :', a-b)\n",
        "print('Division :', a/b)\n",
        "print('Multiplication :', a*b)\n",
        "print('Modulus :', a%b)\n",
        "print('Floor Divivion :', a//b)\n",
        "print('Exponential :', a**b)"
      ],
      "execution_count": 1,
      "outputs": [
        {
          "output_type": "stream",
          "name": "stdout",
          "text": [
            "Addition : 120\n",
            "Subtration : 80\n",
            "Division : 5.0\n",
            "Multiplication : 2000\n",
            "Modulus : 0\n",
            "Floor Divivion : 5\n",
            "Exponential : 10000000000000000000000000000000000000000\n"
          ]
        }
      ]
    },
    {
      "cell_type": "code",
      "metadata": {
        "colab": {
          "base_uri": "https://localhost:8080/",
          "height": 246
        },
        "id": "CjZexl74Tiaw",
        "outputId": "f748b7ff-03ec-40a6-9ad3-fa01b339de9f"
      },
      "source": [
        "a = 'Python'\n",
        "b = 'Progamming'\n",
        "\n",
        "print('Addition :', a+b)"
      ],
      "execution_count": 2,
      "outputs": [
        {
          "output_type": "stream",
          "name": "stdout",
          "text": [
            "Addition : PythonProgamming\n"
          ]
        },
        {
          "output_type": "error",
          "ename": "TypeError",
          "evalue": "ignored",
          "traceback": [
            "\u001b[0;31m---------------------------------------------------------------------------\u001b[0m",
            "\u001b[0;31mTypeError\u001b[0m                                 Traceback (most recent call last)",
            "\u001b[0;32m<ipython-input-2-3f5011e9b0e3>\u001b[0m in \u001b[0;36m<module>\u001b[0;34m()\u001b[0m\n\u001b[1;32m      3\u001b[0m \u001b[0;34m\u001b[0m\u001b[0m\n\u001b[1;32m      4\u001b[0m \u001b[0mprint\u001b[0m\u001b[0;34m(\u001b[0m\u001b[0;34m'Addition :'\u001b[0m\u001b[0;34m,\u001b[0m \u001b[0ma\u001b[0m\u001b[0;34m+\u001b[0m\u001b[0mb\u001b[0m\u001b[0;34m)\u001b[0m\u001b[0;34m\u001b[0m\u001b[0;34m\u001b[0m\u001b[0m\n\u001b[0;32m----> 5\u001b[0;31m \u001b[0mprint\u001b[0m\u001b[0;34m(\u001b[0m\u001b[0;34m'Subtration :'\u001b[0m\u001b[0;34m,\u001b[0m \u001b[0ma\u001b[0m\u001b[0;34m-\u001b[0m\u001b[0mb\u001b[0m\u001b[0;34m)\u001b[0m\u001b[0;34m\u001b[0m\u001b[0;34m\u001b[0m\u001b[0m\n\u001b[0m\u001b[1;32m      6\u001b[0m \u001b[0mprint\u001b[0m\u001b[0;34m(\u001b[0m\u001b[0;34m'Division :'\u001b[0m\u001b[0;34m,\u001b[0m \u001b[0ma\u001b[0m\u001b[0;34m/\u001b[0m\u001b[0mb\u001b[0m\u001b[0;34m)\u001b[0m\u001b[0;34m\u001b[0m\u001b[0;34m\u001b[0m\u001b[0m\n\u001b[1;32m      7\u001b[0m \u001b[0mprint\u001b[0m\u001b[0;34m(\u001b[0m\u001b[0;34m'Multiplication :'\u001b[0m\u001b[0;34m,\u001b[0m \u001b[0ma\u001b[0m\u001b[0;34m*\u001b[0m\u001b[0mb\u001b[0m\u001b[0;34m)\u001b[0m\u001b[0;34m\u001b[0m\u001b[0;34m\u001b[0m\u001b[0m\n",
            "\u001b[0;31mTypeError\u001b[0m: unsupported operand type(s) for -: 'str' and 'str'"
          ]
        }
      ]
    },
    {
      "cell_type": "code",
      "metadata": {
        "colab": {
          "base_uri": "https://localhost:8080/"
        },
        "id": "YQ2e7NunUTeu",
        "outputId": "a59b07a6-bec8-475d-cf14-fe87ae6aea80"
      },
      "source": [
        "print('Subtration :', a-b)"
      ],
      "execution_count": 13,
      "outputs": [
        {
          "output_type": "stream",
          "name": "stdout",
          "text": [
            "Subtration : 1\n"
          ]
        }
      ]
    },
    {
      "cell_type": "code",
      "metadata": {
        "colab": {
          "base_uri": "https://localhost:8080/",
          "height": 162
        },
        "id": "zfw7OEU5UVYE",
        "outputId": "ecd8b595-fefe-4ef3-bfcd-fcfc98bb7233"
      },
      "source": [
        "print('Division :', a/b)"
      ],
      "execution_count": 14,
      "outputs": [
        {
          "output_type": "error",
          "ename": "ZeroDivisionError",
          "evalue": "ignored",
          "traceback": [
            "\u001b[0;31m---------------------------------------------------------------------------\u001b[0m",
            "\u001b[0;31mZeroDivisionError\u001b[0m                         Traceback (most recent call last)",
            "\u001b[0;32m<ipython-input-14-6c814fc00458>\u001b[0m in \u001b[0;36m<module>\u001b[0;34m()\u001b[0m\n\u001b[0;32m----> 1\u001b[0;31m \u001b[0mprint\u001b[0m\u001b[0;34m(\u001b[0m\u001b[0;34m'Division :'\u001b[0m\u001b[0;34m,\u001b[0m \u001b[0ma\u001b[0m\u001b[0;34m/\u001b[0m\u001b[0mb\u001b[0m\u001b[0;34m)\u001b[0m\u001b[0;34m\u001b[0m\u001b[0;34m\u001b[0m\u001b[0m\n\u001b[0m",
            "\u001b[0;31mZeroDivisionError\u001b[0m: division by zero"
          ]
        }
      ]
    },
    {
      "cell_type": "code",
      "metadata": {
        "colab": {
          "base_uri": "https://localhost:8080/"
        },
        "id": "BujVbJR-UZP4",
        "outputId": "e0a95b8c-f618-48d8-b145-ba60b84f6d88"
      },
      "source": [
        "print('Multiplication :', a*b)"
      ],
      "execution_count": 15,
      "outputs": [
        {
          "output_type": "stream",
          "name": "stdout",
          "text": [
            "Multiplication : 0\n"
          ]
        }
      ]
    },
    {
      "cell_type": "code",
      "metadata": {
        "colab": {
          "base_uri": "https://localhost:8080/",
          "height": 162
        },
        "id": "bqFdSaoUUbPo",
        "outputId": "c00173b9-37a4-4ff8-d03d-18e7847eb6c1"
      },
      "source": [
        "print('Modulus :', a%b)"
      ],
      "execution_count": 16,
      "outputs": [
        {
          "output_type": "error",
          "ename": "ZeroDivisionError",
          "evalue": "ignored",
          "traceback": [
            "\u001b[0;31m---------------------------------------------------------------------------\u001b[0m",
            "\u001b[0;31mZeroDivisionError\u001b[0m                         Traceback (most recent call last)",
            "\u001b[0;32m<ipython-input-16-e3eaba420599>\u001b[0m in \u001b[0;36m<module>\u001b[0;34m()\u001b[0m\n\u001b[0;32m----> 1\u001b[0;31m \u001b[0mprint\u001b[0m\u001b[0;34m(\u001b[0m\u001b[0;34m'Modulus :'\u001b[0m\u001b[0;34m,\u001b[0m \u001b[0ma\u001b[0m\u001b[0;34m%\u001b[0m\u001b[0mb\u001b[0m\u001b[0;34m)\u001b[0m\u001b[0;34m\u001b[0m\u001b[0;34m\u001b[0m\u001b[0m\n\u001b[0m",
            "\u001b[0;31mZeroDivisionError\u001b[0m: integer division or modulo by zero"
          ]
        }
      ]
    },
    {
      "cell_type": "code",
      "metadata": {
        "colab": {
          "base_uri": "https://localhost:8080/",
          "height": 162
        },
        "id": "ckPKTj2rUeRV",
        "outputId": "266b2eb9-af3f-4aa1-fe8a-5f04d5b57fea"
      },
      "source": [
        "print('Floor Divivion :', a//b)"
      ],
      "execution_count": 17,
      "outputs": [
        {
          "output_type": "error",
          "ename": "ZeroDivisionError",
          "evalue": "ignored",
          "traceback": [
            "\u001b[0;31m---------------------------------------------------------------------------\u001b[0m",
            "\u001b[0;31mZeroDivisionError\u001b[0m                         Traceback (most recent call last)",
            "\u001b[0;32m<ipython-input-17-f3388ec33bb1>\u001b[0m in \u001b[0;36m<module>\u001b[0;34m()\u001b[0m\n\u001b[0;32m----> 1\u001b[0;31m \u001b[0mprint\u001b[0m\u001b[0;34m(\u001b[0m\u001b[0;34m'Floor Divivion :'\u001b[0m\u001b[0;34m,\u001b[0m \u001b[0ma\u001b[0m\u001b[0;34m//\u001b[0m\u001b[0mb\u001b[0m\u001b[0;34m)\u001b[0m\u001b[0;34m\u001b[0m\u001b[0;34m\u001b[0m\u001b[0m\n\u001b[0m",
            "\u001b[0;31mZeroDivisionError\u001b[0m: integer division or modulo by zero"
          ]
        }
      ]
    },
    {
      "cell_type": "code",
      "metadata": {
        "colab": {
          "base_uri": "https://localhost:8080/"
        },
        "id": "8ziHj1s0Uf6O",
        "outputId": "0f089ac4-3172-4295-92cc-b103529342dc"
      },
      "source": [
        "print('Exponential :', a**b)"
      ],
      "execution_count": 18,
      "outputs": [
        {
          "output_type": "stream",
          "name": "stdout",
          "text": [
            "Exponential : 1\n"
          ]
        }
      ]
    },
    {
      "cell_type": "code",
      "metadata": {
        "colab": {
          "base_uri": "https://localhost:8080/"
        },
        "id": "44DoUMROTqmA",
        "outputId": "9e6dd575-d84b-42fc-cda5-4f3fbd10dcd7"
      },
      "source": [
        "a = True\n",
        "b = False\n",
        "\n",
        "print('Addition :', a+b)"
      ],
      "execution_count": 4,
      "outputs": [
        {
          "output_type": "stream",
          "name": "stdout",
          "text": [
            "Addition : 1\n"
          ]
        }
      ]
    },
    {
      "cell_type": "code",
      "metadata": {
        "colab": {
          "base_uri": "https://localhost:8080/"
        },
        "id": "a6jEO3MiUD7s",
        "outputId": "c2258f94-8695-4d74-c1c9-8cbc8d468135"
      },
      "source": [
        "print('Subtration :', a-b)"
      ],
      "execution_count": 5,
      "outputs": [
        {
          "output_type": "stream",
          "name": "stdout",
          "text": [
            "Subtration : 1\n"
          ]
        }
      ]
    },
    {
      "cell_type": "code",
      "metadata": {
        "colab": {
          "base_uri": "https://localhost:8080/",
          "height": 162
        },
        "id": "k_c1tYIeUGGI",
        "outputId": "e4d33871-66be-4dbb-b414-4720a27f4cdf"
      },
      "source": [
        "print('Division :', a/b)"
      ],
      "execution_count": 6,
      "outputs": [
        {
          "output_type": "error",
          "ename": "ZeroDivisionError",
          "evalue": "ignored",
          "traceback": [
            "\u001b[0;31m---------------------------------------------------------------------------\u001b[0m",
            "\u001b[0;31mZeroDivisionError\u001b[0m                         Traceback (most recent call last)",
            "\u001b[0;32m<ipython-input-6-6c814fc00458>\u001b[0m in \u001b[0;36m<module>\u001b[0;34m()\u001b[0m\n\u001b[0;32m----> 1\u001b[0;31m \u001b[0mprint\u001b[0m\u001b[0;34m(\u001b[0m\u001b[0;34m'Division :'\u001b[0m\u001b[0;34m,\u001b[0m \u001b[0ma\u001b[0m\u001b[0;34m/\u001b[0m\u001b[0mb\u001b[0m\u001b[0;34m)\u001b[0m\u001b[0;34m\u001b[0m\u001b[0;34m\u001b[0m\u001b[0m\n\u001b[0m",
            "\u001b[0;31mZeroDivisionError\u001b[0m: division by zero"
          ]
        }
      ]
    },
    {
      "cell_type": "code",
      "metadata": {
        "colab": {
          "base_uri": "https://localhost:8080/"
        },
        "id": "kI-RXRvhUItX",
        "outputId": "59add6d4-8453-4183-a1fd-fb924773a7cd"
      },
      "source": [
        "print('Multiplication :', a*b)"
      ],
      "execution_count": 7,
      "outputs": [
        {
          "output_type": "stream",
          "name": "stdout",
          "text": [
            "Multiplication : 0\n"
          ]
        }
      ]
    },
    {
      "cell_type": "code",
      "metadata": {
        "colab": {
          "base_uri": "https://localhost:8080/",
          "height": 162
        },
        "id": "5t4hT2yyUKvn",
        "outputId": "7f299c00-5545-4992-bff5-c8f4e7d13ae4"
      },
      "source": [
        "print('Modulus :', a%b)"
      ],
      "execution_count": 9,
      "outputs": [
        {
          "output_type": "error",
          "ename": "ZeroDivisionError",
          "evalue": "ignored",
          "traceback": [
            "\u001b[0;31m---------------------------------------------------------------------------\u001b[0m",
            "\u001b[0;31mZeroDivisionError\u001b[0m                         Traceback (most recent call last)",
            "\u001b[0;32m<ipython-input-9-e3eaba420599>\u001b[0m in \u001b[0;36m<module>\u001b[0;34m()\u001b[0m\n\u001b[0;32m----> 1\u001b[0;31m \u001b[0mprint\u001b[0m\u001b[0;34m(\u001b[0m\u001b[0;34m'Modulus :'\u001b[0m\u001b[0;34m,\u001b[0m \u001b[0ma\u001b[0m\u001b[0;34m%\u001b[0m\u001b[0mb\u001b[0m\u001b[0;34m)\u001b[0m\u001b[0;34m\u001b[0m\u001b[0;34m\u001b[0m\u001b[0m\n\u001b[0m",
            "\u001b[0;31mZeroDivisionError\u001b[0m: integer division or modulo by zero"
          ]
        }
      ]
    },
    {
      "cell_type": "code",
      "metadata": {
        "colab": {
          "base_uri": "https://localhost:8080/",
          "height": 162
        },
        "id": "uzFvhHCsUOBL",
        "outputId": "168effba-a8b4-420a-fc6a-d2573f9f0ae6"
      },
      "source": [
        "print('Floor Divivion :', a//b)"
      ],
      "execution_count": 10,
      "outputs": [
        {
          "output_type": "error",
          "ename": "ZeroDivisionError",
          "evalue": "ignored",
          "traceback": [
            "\u001b[0;31m---------------------------------------------------------------------------\u001b[0m",
            "\u001b[0;31mZeroDivisionError\u001b[0m                         Traceback (most recent call last)",
            "\u001b[0;32m<ipython-input-10-f3388ec33bb1>\u001b[0m in \u001b[0;36m<module>\u001b[0;34m()\u001b[0m\n\u001b[0;32m----> 1\u001b[0;31m \u001b[0mprint\u001b[0m\u001b[0;34m(\u001b[0m\u001b[0;34m'Floor Divivion :'\u001b[0m\u001b[0;34m,\u001b[0m \u001b[0ma\u001b[0m\u001b[0;34m//\u001b[0m\u001b[0mb\u001b[0m\u001b[0;34m)\u001b[0m\u001b[0;34m\u001b[0m\u001b[0;34m\u001b[0m\u001b[0m\n\u001b[0m",
            "\u001b[0;31mZeroDivisionError\u001b[0m: integer division or modulo by zero"
          ]
        }
      ]
    },
    {
      "cell_type": "code",
      "metadata": {
        "colab": {
          "base_uri": "https://localhost:8080/"
        },
        "id": "xbtOGFdYUQGg",
        "outputId": "9431ad31-d674-4f7c-f328-007c49951499"
      },
      "source": [
        "print('Exponential :', a**b)"
      ],
      "execution_count": 19,
      "outputs": [
        {
          "output_type": "stream",
          "name": "stdout",
          "text": [
            "Exponential : 1\n"
          ]
        }
      ]
    },
    {
      "cell_type": "code",
      "metadata": {
        "colab": {
          "base_uri": "https://localhost:8080/"
        },
        "id": "-id7og1rUlJJ",
        "outputId": "8eba2e22-9ab5-4bd9-ff3c-36f9c5862bb4"
      },
      "source": [
        "a = 10 \n",
        "b = 20\n",
        "\n",
        "a+=b\n",
        "print('Addition :', a)\n",
        "a-=b\n",
        "print('Subtration :', a)\n",
        "a*=b\n",
        "print('Multiplication :', a)\n",
        "a/=b\n",
        "print('Division :', a)"
      ],
      "execution_count": 28,
      "outputs": [
        {
          "output_type": "stream",
          "name": "stdout",
          "text": [
            "Addition : 30\n",
            "Subtration : 10\n",
            "Multiplication : 200\n",
            "Division : 10.0\n"
          ]
        }
      ]
    },
    {
      "cell_type": "code",
      "metadata": {
        "colab": {
          "base_uri": "https://localhost:8080/"
        },
        "id": "3O1DdV2AVbB9",
        "outputId": "02cc59cc-cad4-4de9-87be-985c5068cc21"
      },
      "source": [
        "a = 10 \n",
        "b = 20\n",
        "a-=b\n",
        "print('Subtration :', a)"
      ],
      "execution_count": 24,
      "outputs": [
        {
          "output_type": "stream",
          "name": "stdout",
          "text": [
            "Subtration : 10\n"
          ]
        }
      ]
    },
    {
      "cell_type": "code",
      "metadata": {
        "colab": {
          "base_uri": "https://localhost:8080/"
        },
        "id": "dQtBsWYkWSsU",
        "outputId": "0a1b5db0-0457-4ccb-aaf3-d5f4b91df3de"
      },
      "source": [
        "a = 10 \n",
        "b = 20\n",
        "a*=b\n",
        "print('Multiplication :', a)"
      ],
      "execution_count": 25,
      "outputs": [
        {
          "output_type": "stream",
          "name": "stdout",
          "text": [
            "Multiplication : 200\n"
          ]
        }
      ]
    },
    {
      "cell_type": "code",
      "metadata": {
        "colab": {
          "base_uri": "https://localhost:8080/"
        },
        "id": "e8OtX0SpWZUs",
        "outputId": "79157c00-f98e-4575-ffac-7ddf5274b50d"
      },
      "source": [
        "a = 10 \n",
        "b = 20\n",
        "a/=b\n",
        "print('Division :', a)"
      ],
      "execution_count": 27,
      "outputs": [
        {
          "output_type": "stream",
          "name": "stdout",
          "text": [
            "Division : 0.5\n"
          ]
        }
      ]
    },
    {
      "cell_type": "code",
      "metadata": {
        "colab": {
          "base_uri": "https://localhost:8080/"
        },
        "id": "2sICdSQWW6jK",
        "outputId": "6ec05a09-360d-4cd5-d3c2-f575fb812d7d"
      },
      "source": [
        "a = 123\n",
        "b = 4\n",
        "a%=b\n",
        "print('Modulus :', a)"
      ],
      "execution_count": 51,
      "outputs": [
        {
          "output_type": "stream",
          "name": "stdout",
          "text": [
            "Modulus : 3\n"
          ]
        }
      ]
    },
    {
      "cell_type": "code",
      "metadata": {
        "colab": {
          "base_uri": "https://localhost:8080/"
        },
        "id": "wSLDWzOOXX8v",
        "outputId": "ec825b22-6609-41c4-e622-1b6f4673f5ee"
      },
      "source": [
        "a = 123\n",
        "b = 4\n",
        "a//=b\n",
        "print('Floor Division :', a)"
      ],
      "execution_count": 36,
      "outputs": [
        {
          "output_type": "stream",
          "name": "stdout",
          "text": [
            "Floor Division : 30\n"
          ]
        }
      ]
    },
    {
      "cell_type": "code",
      "metadata": {
        "colab": {
          "base_uri": "https://localhost:8080/"
        },
        "id": "tXPipXJuXe-v",
        "outputId": "76dccc04-ccc0-4065-952c-b9261cfa85ec"
      },
      "source": [
        "a = 123\n",
        "b = 4\n",
        "a**=b\n",
        "print('Exponential :', a)"
      ],
      "execution_count": 38,
      "outputs": [
        {
          "output_type": "stream",
          "name": "stdout",
          "text": [
            "Exponential : 228886641\n"
          ]
        }
      ]
    },
    {
      "cell_type": "code",
      "metadata": {
        "colab": {
          "base_uri": "https://localhost:8080/"
        },
        "id": "CBuWNba3YI95",
        "outputId": "34581169-1ec4-46cf-c0b0-d4eeb65acfaf"
      },
      "source": [
        "a = 10 \n",
        "b = 20\n",
        "print('a==b:', a==b)\n",
        "print('a>b:', a>b)\n",
        "print('a<b:',a<b)\n",
        "print('a>=b:', a>=b)\n",
        "print('a<=b:', a<=b)\n",
        "print('a!=b:', a!=b)"
      ],
      "execution_count": 54,
      "outputs": [
        {
          "output_type": "stream",
          "name": "stdout",
          "text": [
            "a==b: False\n",
            "a>b: False\n",
            "a<b: True\n",
            "a>=b: False\n",
            "a<=b: True\n",
            "a!=b: True\n"
          ]
        }
      ]
    },
    {
      "cell_type": "code",
      "metadata": {
        "colab": {
          "base_uri": "https://localhost:8080/"
        },
        "id": "dAaGoxBBY3fH",
        "outputId": "20afcc58-698d-4766-a3d6-bf83f7d3e868"
      },
      "source": [
        "a = True\n",
        "b = False\n",
        "print('a==b:', a==b)\n",
        "print('a>b:', a>b)\n",
        "print('a<b:',a<b)\n",
        "print('a>=b:', a>=b)\n",
        "print('a<=b:', a<=b)\n",
        "print('a!=b:', a!=b)"
      ],
      "execution_count": 56,
      "outputs": [
        {
          "output_type": "stream",
          "name": "stdout",
          "text": [
            "a==b: False\n",
            "a>b: True\n",
            "a<b: False\n",
            "a>=b: True\n",
            "a<=b: False\n",
            "a!=b: True\n"
          ]
        }
      ]
    },
    {
      "cell_type": "code",
      "metadata": {
        "colab": {
          "base_uri": "https://localhost:8080/"
        },
        "id": "E9YkecyIY7J_",
        "outputId": "e0a10804-ec81-461a-9876-60e60a930abf"
      },
      "source": [
        "a = 'Python'\n",
        "b = 'Programming'\n",
        "print('a==b:', a==b)\n",
        "print('a>b:', a>b)\n",
        "print('a<b:',a<b)\n",
        "print('a>=b:', a>=b)\n",
        "print('a<=b:', a<=b)\n",
        "print('a!=b:', a!=b)"
      ],
      "execution_count": 57,
      "outputs": [
        {
          "output_type": "stream",
          "name": "stdout",
          "text": [
            "a==b: False\n",
            "a>b: True\n",
            "a<b: False\n",
            "a>=b: True\n",
            "a<=b: False\n",
            "a!=b: True\n"
          ]
        }
      ]
    },
    {
      "cell_type": "code",
      "metadata": {
        "colab": {
          "base_uri": "https://localhost:8080/"
        },
        "id": "ZUhh5HBdZA_E",
        "outputId": "04599196-8ba2-42cc-ede8-75d3f3f3ab94"
      },
      "source": [
        "a = 'PYTHON'\n",
        "b = 'python'\n",
        "print('a==b:', a==b)\n",
        "print('a>b:', a>b)\n",
        "print('a<b:',a<b)\n",
        "print('a>=b:', a>=b)\n",
        "print('a<=b:', a<=b)\n",
        "print('a!=b:', a!=b)"
      ],
      "execution_count": 58,
      "outputs": [
        {
          "output_type": "stream",
          "name": "stdout",
          "text": [
            "a==b: False\n",
            "a>b: False\n",
            "a<b: True\n",
            "a>=b: False\n",
            "a<=b: True\n",
            "a!=b: True\n"
          ]
        }
      ]
    }
  ]
}